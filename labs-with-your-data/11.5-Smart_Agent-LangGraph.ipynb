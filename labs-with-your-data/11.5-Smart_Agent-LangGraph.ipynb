{
 "cells": [
  {
   "cell_type": "markdown",
   "id": "6423f8f3-a592-4ee7-9969-39e38933be52",
   "metadata": {},
   "source": [
    "# Putting it all together using LangGraph (experimental)"
   ]
  },
  {
   "cell_type": "markdown",
   "id": "1d7fa9dc-64cb-4ee2-ae98-8cdb72293cbe",
   "metadata": {},
   "source": [
    "**Last notebook we created a brain langchain agent that acts as a supervisor of the experts (other agents with tools).** This concept of multi-agent architectures is a current field of high research interest.\n",
    "\n",
    "**Graphs are important in multi-agent systems** as they efficiently represent the interactions and relationships between different agents:\n",
    "- **Nodes (or Vertices):** Each agent, can perform specific tasks or make decisions.\n",
    "- **Edges:** Signify communication paths or decision flows between agents.\n",
    "\n",
    "This structure enables the division of complex problems into smaller, manageable tasks, where each agent can focus on a particular aspect. The advantages of this approach include:\n",
    "- Improved specialization and parallelization.\n",
    "- More robust and scalable solutions.\n",
    "\n",
    "**In our context, we can use the graph-based architecture** to build systems where agents coordinate through a defined protocol of interactions, enhancing both performance and flexibility. For instance, if one agent fails or generates suboptimal results, other agents in the system can take over or adjust their strategies accordingly, thus ensuring continuity and efficiency.\n",
    "\n",
    "[**LangGraph**](https://python.langchain.com/docs/langgraph/), specifically designed for building multi-agent systems with LLMs, leverages these graph concepts by allowing developers to define states and transitions explicitly. It treats each agent as a state machine, with transitions defined by the possible actions an agent can take in response to its environment or the inputs it receives. LangGraph provides tools for building these systems, where each node in the graph can be an agent capable of making decisions or performing actions based on the shared state of the system. The library supports creating complex workflows where agents interact through a shared state, making it easier to develop, test, and maintain each component in isolation before integrating them into the broader system.\n",
    "\n",
    "---\n"
   ]
  },
  {
   "cell_type": "code",
   "execution_count": 1,
   "id": "30b81551-92ac-4f08-9c00-ba11981c67c2",
   "metadata": {},
   "outputs": [],
   "source": [
    "import os\n",
    "import operator\n",
    "from typing import TypedDict, Annotated, Sequence, Union, List\n",
    "from langchain_openai import AzureChatOpenAI\n",
    "from langchain_core.messages import HumanMessage, AIMessage, BaseMessage\n",
    "from langchain_core.prompts import ChatPromptTemplate\n",
    "from langchain.callbacks.manager import CallbackManager\n",
    "\n",
    "from langgraph.prebuilt import ToolExecutor, ToolNode\n",
    "from langgraph.graph import StateGraph, MessageGraph, END\n",
    "\n",
    "\n",
    "#custom libraries that we will use later in the app\n",
    "from common.utils import (\n",
    "    DocSearchAgent, \n",
    "    CSVTabularAgent, \n",
    "    SQLSearchAgent, \n",
    "    ChatGPTTool, \n",
    "    BingSearchAgent,\n",
    ")\n",
    "from common.callbacks import StdOutCallbackHandler\n",
    "from common.prompts import CUSTOM_CHATBOT_PROMPT, CUSTOM_CHATBOT_PREFIX\n",
    "\n",
    "from dotenv import load_dotenv\n",
    "load_dotenv(\"credentials.env\")\n",
    "\n",
    "from IPython.display import Markdown, HTML, display \n",
    "\n",
    "def printmd(string):\n",
    "    display(Markdown(string))\n"
   ]
  },
  {
   "cell_type": "code",
   "execution_count": 2,
   "id": "67cd1e3e-8527-4a8f-ba90-e700ae7b20ad",
   "metadata": {},
   "outputs": [],
   "source": [
    "os.environ[\"OPENAI_API_VERSION\"] = os.environ[\"AZURE_OPENAI_API_VERSION\"]"
   ]
  },
  {
   "cell_type": "markdown",
   "id": "4d374f5a-620e-4bb5-abbb-3edb49d82c9b",
   "metadata": {},
   "source": [
    "### Define our Model"
   ]
  },
  {
   "cell_type": "code",
   "execution_count": 3,
   "id": "643d1650-6416-46fd-8b21-f5fb298ec063",
   "metadata": {},
   "outputs": [],
   "source": [
    "cb_handler = StdOutCallbackHandler()\n",
    "cb_manager = CallbackManager(handlers=[cb_handler])\n",
    "\n",
    "COMPLETION_TOKENS = 2000\n",
    "\n",
    "llm = AzureChatOpenAI(deployment_name=os.environ[\"GPT35_DEPLOYMENT_NAME\"], \n",
    "                      temperature=0.5, max_tokens=COMPLETION_TOKENS)\n",
    "\n",
    "# Uncomment below if you want to see the answers streaming\n",
    "# llm = AzureChatOpenAI(deployment_name=os.environ[\"GPT35_DEPLOYMENT_NAME\"], temperature=0.5, \n",
    "#                        max_tokens=COMPLETION_TOKENS, streaming=True, callback_manager=cb_manager)\n"
   ]
  },
  {
   "cell_type": "markdown",
   "id": "56b56a94-0471-41c3-b441-3a73ff5dedfc",
   "metadata": {},
   "source": [
    "### Define the Tools"
   ]
  },
  {
   "cell_type": "code",
   "execution_count": 4,
   "id": "a6a4cc93-2dd6-45eb-ac5b-5af2d31809dd",
   "metadata": {},
   "outputs": [],
   "source": [
    "doc_indexes = [\"cogsrch-index-files\", \"cogsrch-index-csv\"]\n",
    "doc_search = DocSearchAgent(llm=llm, indexes=doc_indexes,\n",
    "                           k=6, reranker_th=1,\n",
    "                           sas_token=os.environ['BLOB_SAS_TOKEN'],\n",
    "                           name=\"docsearch\",\n",
    "                           description=\"useful when the questions includes the term: docsearch\",\n",
    "                           verbose=False)"
   ]
  },
  {
   "cell_type": "code",
   "execution_count": 5,
   "id": "08e3bfa4-98c0-4b6f-a918-720f50a2f484",
   "metadata": {},
   "outputs": [],
   "source": [
    "book_indexes = [\"cogsrch-index-books\"]\n",
    "book_search = DocSearchAgent(llm=llm, indexes=book_indexes,\n",
    "                           k=10, reranker_th=1,\n",
    "                           sas_token=os.environ['BLOB_SAS_TOKEN'],\n",
    "                           name=\"booksearch\",\n",
    "                           description=\"useful when the questions includes the term: booksearch\",\n",
    "                           verbose=False)"
   ]
  },
  {
   "cell_type": "code",
   "execution_count": 6,
   "id": "0f0ae466-aff8-4cdf-80d3-ef2c61867fc7",
   "metadata": {},
   "outputs": [],
   "source": [
    "# BingSearchAgent is a langchain Tool class to use the Bing Search API (https://www.microsoft.com/en-us/bing/apis/bing-web-search-api)\n",
    "www_search = BingSearchAgent(llm=llm, k=5,\n",
    "                             name=\"bing\",\n",
    "                             description=\"useful when the questions includes the term: bing\",\n",
    "                             verbose=False)"
   ]
  },
  {
   "cell_type": "code",
   "execution_count": 7,
   "id": "78edb304-c4a2-4f10-8ded-936e9141aa02",
   "metadata": {},
   "outputs": [],
   "source": [
    "## CSVTabularAgent is a custom Tool class crated to Q&A over CSV files\n",
    "file_url = \"./data/all-states-history.csv\"\n",
    "csv_search = CSVTabularAgent(path=file_url, llm=llm,\n",
    "                             name=\"csvfile\",\n",
    "                             description=\"useful when the questions includes the term: csvfile\",\n",
    "                             verbose=False)"
   ]
  },
  {
   "cell_type": "code",
   "execution_count": 8,
   "id": "b9d54cc5-41bc-43c3-a91d-12fc3a2446ba",
   "metadata": {},
   "outputs": [],
   "source": [
    "## SQLDbAgent is a custom Tool class created to Q&A over a MS SQL Database\n",
    "sql_search = SQLSearchAgent(llm=llm, k=30,\n",
    "                            name=\"sqlsearch\",\n",
    "                            description=\"useful when the questions includes the term: sqlsearch\",\n",
    "                            verbose=False)"
   ]
  },
  {
   "cell_type": "code",
   "execution_count": 9,
   "id": "65465173-92f6-489d-9b48-58d109c5723e",
   "metadata": {},
   "outputs": [],
   "source": [
    "## ChatGPTTool is a custom Tool class created to talk to ChatGPT knowledge\n",
    "chatgpt_search = ChatGPTTool(llm=llm,\n",
    "                             name=\"chatgpt\",\n",
    "                            description=\"useful when the questions includes the term: chatgpt\",\n",
    "                            verbose=False)"
   ]
  },
  {
   "cell_type": "code",
   "execution_count": 10,
   "id": "d018c884-5c91-4a35-90e3-6a5a6e510c25",
   "metadata": {},
   "outputs": [],
   "source": [
    "\n",
    "tools = [www_search, sql_search, doc_search, csv_search, chatgpt_search, book_search]\n"
   ]
  },
  {
   "cell_type": "markdown",
   "id": "8a14154d-a262-418c-bc26-27e06822d160",
   "metadata": {},
   "source": [
    "### Bind the Tools to the Model"
   ]
  },
  {
   "cell_type": "markdown",
   "id": "4580ffef-366d-4e6e-b400-500095d7b5de",
   "metadata": {},
   "source": [
    "We should make sure the model knows that it has these tools available to call. We can do this by converting the LangChain tools into the format for OpenAI tool calling, and then bind them to the model class."
   ]
  },
  {
   "cell_type": "code",
   "execution_count": 11,
   "id": "8d9101ab-3a56-4e1e-be35-33d0d3ba12ce",
   "metadata": {},
   "outputs": [],
   "source": [
    "llm_with_tools = llm.bind_tools(tools) "
   ]
  },
  {
   "cell_type": "markdown",
   "id": "e2083506-f25c-492c-869d-fb97f66baa34",
   "metadata": {},
   "source": [
    "Let's test our model with a few messages to see if effectively calls the function sqlsearch"
   ]
  },
  {
   "cell_type": "code",
   "execution_count": 12,
   "id": "89e53c87-077d-4cb3-b631-084166afc6e7",
   "metadata": {},
   "outputs": [
    {
     "data": {
      "text/plain": [
       "AIMessage(content='', additional_kwargs={'tool_calls': [{'id': 'call_CKVCMjluxcXCHpCgxCZmPdvT', 'function': {'arguments': '{\"query\":\"SELECT SUM(deaths) FROM east_coast\"}', 'name': 'sqlsearch'}, 'type': 'function'}]}, response_metadata={'token_usage': {'completion_tokens': 22, 'prompt_tokens': 448, 'total_tokens': 470}, 'model_name': 'gpt-35-turbo', 'system_fingerprint': 'fp_2f57f81c11', 'prompt_filter_results': [{'prompt_index': 0, 'content_filter_results': {'hate': {'filtered': False, 'severity': 'safe'}, 'self_harm': {'filtered': False, 'severity': 'safe'}, 'sexual': {'filtered': False, 'severity': 'safe'}, 'violence': {'filtered': False, 'severity': 'safe'}}}], 'finish_reason': 'tool_calls', 'logprobs': None, 'content_filter_results': {}}, id='run-06ba45e4-d5e1-4d40-a649-18f9e7fb4538-0', tool_calls=[{'name': 'sqlsearch', 'args': {'query': 'SELECT SUM(deaths) FROM east_coast'}, 'id': 'call_CKVCMjluxcXCHpCgxCZmPdvT'}])"
      ]
     },
     "execution_count": 12,
     "metadata": {},
     "output_type": "execute_result"
    }
   ],
   "source": [
    "llm_with_tools.invoke([HumanMessage(content=\"what is your name\"), \n",
    "              AIMessage(content='My name is Assistant. How can I assist you today?'),\n",
    "              HumanMessage(content=\"sqlsearch, how many deaths in the east coast?\")])"
   ]
  },
  {
   "cell_type": "markdown",
   "id": "7301e40f-42f6-4f08-a65d-845ad2dadda8",
   "metadata": {},
   "source": [
    "This looks correct!,  the LLM responded with a AIMessage that has no content, but instead has a **tool_call**."
   ]
  },
  {
   "cell_type": "markdown",
   "id": "2a055e9f-8060-4ae5-94ae-3d966355392f",
   "metadata": {},
   "source": [
    "### Define agent state\n",
    "\n",
    "A graph is parameterized by a state object that it passes around to each node. Each node then returns operations to update that state. These operations can either SET specific attributes on the state (e.g. overwrite the existing values) or ADD to the existing attribute. Whether to set or add is denoted by annotating the state object you construct the graph with.\n",
    "\n",
    "For our case, the state we will track will just be a list of messages. We want each node to just add messages to that list. Therefore, we will use a TypedDict with one key (messages) and annotate it so that the messages attribute is always added to with the second parameter (operator.add)."
   ]
  },
  {
   "cell_type": "code",
   "execution_count": 13,
   "id": "ae34e42a-2522-4b3a-9a75-559c5d72fd0f",
   "metadata": {},
   "outputs": [],
   "source": [
    "class AgentState(TypedDict):\n",
    "    messages: Annotated[Sequence[BaseMessage], operator.add]"
   ]
  },
  {
   "cell_type": "markdown",
   "id": "08f2ef1c-fd0a-43f0-82bb-1ce466812e44",
   "metadata": {},
   "source": [
    "### Define the nodes\n",
    "\n",
    "We now need to define a few different nodes in our graph. In langgraph, **a node can be either a function or a runnable**. There are two main nodes we need for this:\n",
    "\n",
    "**The agent**: responsible for deciding what (if any) actions to take.\n",
    "A function to invoke tools: if the agent decides to take an action, this node will then execute that action.\n",
    "We will also need to define some edges. Some of these edges may be conditional. The reason they are conditional is that based on the output of a node, one of several paths may be taken. The path that is taken is not known until that node is run (the LLM decides).\n",
    "\n",
    "**Conditional Edge**: after the agent is called, we should either:\n",
    "\n",
    "    a. If the agent said to take an action, then the function to invoke tools should be called\n",
    "\n",
    "    b. If the agent said that it was finished, then it should finish\n",
    "\n",
    "**Normal Edge**: after the tools are invoked, it should always go back to the agent to decide what to do next\n",
    "\n",
    "Let's define the nodes, as well as a function to decide how what conditional edge to take."
   ]
  },
  {
   "cell_type": "code",
   "execution_count": 14,
   "id": "41063cdf-f337-44d4-b48a-46ae4170c987",
   "metadata": {},
   "outputs": [],
   "source": [
    "# Define the function that determines whether to continue or not\n",
    "def should_continue(state):\n",
    "    \n",
    "    messages = state[\"messages\"]\n",
    "    \n",
    "    last_message = messages[-1]\n",
    "    # If there are no tool calls, then we finish\n",
    "    if not last_message.tool_calls:\n",
    "        return \"end\"\n",
    "   # Otherwise if there is, we check if it's suppose to return direct the result of the tool or not (based on the prompt)\n",
    "    else:\n",
    "        arguments = last_message.tool_calls[0][\"args\"]\n",
    "        if arguments.get(\"return_direct\", False):\n",
    "            return \"final\"\n",
    "        else:\n",
    "            return \"continue\"\n",
    "\n",
    "    \n",
    "\n",
    "# Define the function that calls the supervisor chain\n",
    "async def supervisor_node(state):\n",
    "    \n",
    "    messages = state[\"messages\"]\n",
    "    \n",
    "    PROMPT = ChatPromptTemplate.from_messages(\n",
    "        [\n",
    "            (\"system\", CUSTOM_CHATBOT_PREFIX),\n",
    "            (\"human\", \"{question}\")\n",
    "        ]\n",
    "    )\n",
    "    \n",
    "    chain = (\n",
    "        {\n",
    "            \"question\": lambda x: x[\"question\"],\n",
    "        }\n",
    "        | PROMPT\n",
    "        | llm_with_tools\n",
    "    )\n",
    "    \n",
    "    response = await chain.ainvoke({\"question\": messages})\n",
    "    \n",
    "    return {\"messages\": [response]}\n",
    "\n",
    "\n",
    "# Define the function to execute tools\n",
    "tool_node = ToolNode(tools)"
   ]
  },
  {
   "cell_type": "markdown",
   "id": "7f17a00e-0d0c-4166-b3c8-37bc22556664",
   "metadata": {},
   "source": [
    "### Define the Graph"
   ]
  },
  {
   "cell_type": "code",
   "execution_count": 15,
   "id": "a8f23fdd-7a8d-4f2c-900a-d11b20fe09cd",
   "metadata": {},
   "outputs": [],
   "source": [
    "# Define a new graph\n",
    "workflow = StateGraph(AgentState)\n",
    "\n",
    "\n",
    "# Define the two nodes we will cycle between\n",
    "workflow.add_node(\"supervisor\", supervisor_node)\n",
    "workflow.add_node(\"tools\", tool_node)\n",
    "# We add a separate node for any tool call where return_direct=True. The reason this is needed is that after this node we want to end, \n",
    "# while after other tool calls we want to go back to the LLM.\n",
    "workflow.add_node(\"tools_final\", tool_node)\n",
    "\n",
    "# Set the entrypoint as `supervisor`\n",
    "# This means that this node is the first one called\n",
    "workflow.set_entry_point(\"supervisor\")\n",
    "\n",
    "# We now add a conditional edge\n",
    "workflow.add_conditional_edges(\n",
    "    # First, we define the start node. We use `supervisor`.\n",
    "    # This means these are the edges taken after the `supervisor` node is called.\n",
    "    \"supervisor\",\n",
    "    # Next, we pass in the function that will determine which node is called next.\n",
    "    should_continue,\n",
    "    # Finally we pass in a mapping.\n",
    "    # The keys are strings, and the values are other nodes.\n",
    "    # END is a special node marking that the graph should finish.\n",
    "    # What will happen is we will call `should_continue`, and then the output of that\n",
    "    # will be matched against the keys in this mapping.\n",
    "    # Based on which one it matches, that node will then be called.\n",
    "    {\n",
    "        # If `tools`, then we call the tool node.\n",
    "        \"continue\": \"tools\",\n",
    "        # Final call\n",
    "        \"final\": \"tools_final\",\n",
    "        # Otherwise we finish.\n",
    "        \"end\": END,\n",
    "    },\n",
    ")\n",
    "\n",
    "# We now add a normal edge from `tools` to `supervisor`.\n",
    "# This means that after `tools` is called, `supervisor` node is called next.\n",
    "workflow.add_edge(\"tools\", \"supervisor\")\n",
    "# and from `tools_final` to END\n",
    "workflow.add_edge(\"tools_final\", END)\n",
    "\n",
    "# Finally, we compile it!\n",
    "# This compiles it into a LangChain Runnable,\n",
    "# meaning you can use it as you would any other runnable\n",
    "app = workflow.compile()"
   ]
  },
  {
   "cell_type": "markdown",
   "id": "c1338f71-a718-4d12-b461-8083b8cf3b76",
   "metadata": {},
   "source": [
    "### Define a utility print function"
   ]
  },
  {
   "cell_type": "code",
   "execution_count": 16,
   "id": "1114992c-d50b-479d-8ee5-99c4f400de23",
   "metadata": {},
   "outputs": [],
   "source": [
    "async def print_events(query):\n",
    "    inputs = {\"messages\": [HumanMessage(content=query)]}\n",
    "    event_names = [\"LangGraph\", \"supervisor\", \"call_supervisor_chain\", \"should_continue\", \"tools\", \"tools_final\"]\n",
    "\n",
    "    async for event in app.astream_events(inputs, version=\"v1\"):\n",
    "        kind = event[\"event\"]\n",
    "        # print(event)\n",
    "        if kind == \"on_chain_start\":\n",
    "            if event[\"name\"] in event_names:\n",
    "                print(\"\\n=======================\\n\")\n",
    "                print(f\"Starting: {event['name']}\")\n",
    "                print(event)\n",
    "\n",
    "        elif kind == \"on_chain_end\":\n",
    "            if event[\"name\"] == \"LangGraph\":  \n",
    "                print(\"\\n=======================\\n\")\n",
    "                # print(event)\n",
    "                try:\n",
    "                    printmd(event['data']['output']['supervisor']['messages'][0].content)\n",
    "                except:\n",
    "                    printmd(event['data']['output']['tools_final']['messages'][0].content)\n",
    "        if kind == \"on_chat_model_stream\":\n",
    "            content = event[\"data\"][\"chunk\"].content\n",
    "            # Empty content in the context of OpenAI means that the model is asking for a tool to be invoked.\n",
    "            # So we only print non-empty content\n",
    "            if content:\n",
    "                print(content, end=\"|\")\n",
    "        elif kind == \"on_tool_start\":\n",
    "            print(\"\\n=======================\\n\")\n",
    "            print(f\"Starting tool: {event['name']}\")\n",
    "            print(event)"
   ]
  },
  {
   "cell_type": "markdown",
   "id": "06d685b6-6b58-4065-a0b2-8864286324bb",
   "metadata": {},
   "source": [
    "### Use the graph"
   ]
  },
  {
   "cell_type": "code",
   "execution_count": 17,
   "id": "df0f3c85-1bfa-49f5-bd70-5f72f6bd8ecf",
   "metadata": {},
   "outputs": [
    {
     "name": "stderr",
     "output_type": "stream",
     "text": [
      "/anaconda/envs/azureml_py310_sdkv2/lib/python3.10/site-packages/langchain_core/_api/beta_decorator.py:87: LangChainBetaWarning: This API is in beta and may change in the future.\n",
      "  warn_beta(\n"
     ]
    },
    {
     "name": "stdout",
     "output_type": "stream",
     "text": [
      "\n",
      "=======================\n",
      "\n",
      "Starting: LangGraph\n",
      "{'event': 'on_chain_start', 'run_id': 'a5a7383d-24c0-4e90-b6f2-c4cfa88e78c0', 'name': 'LangGraph', 'tags': [], 'metadata': {}, 'data': {'input': {'messages': [HumanMessage(content='Hello there, how are you? My name is Pablo Marin')]}}}\n",
      "\n",
      "=======================\n",
      "\n",
      "Starting: supervisor\n",
      "{'event': 'on_chain_start', 'name': 'supervisor', 'run_id': '275a19b5-9c9d-4dad-bb35-84887712a94f', 'tags': ['graph:step:1'], 'metadata': {}, 'data': {}}\n",
      "\n",
      "=======================\n",
      "\n",
      "Starting: should_continue\n",
      "{'event': 'on_chain_start', 'name': 'should_continue', 'run_id': 'c19a0066-c454-41ea-8e81-5304680f2012', 'tags': ['seq:step:3'], 'metadata': {}, 'data': {'input': {'messages': [HumanMessage(content='Hello there, how are you? My name is Pablo Marin'), AIMessage(content=\"I'm here and ready to assist you, Pablo. How can I help you today?\", response_metadata={'token_usage': {'completion_tokens': 19, 'prompt_tokens': 865, 'total_tokens': 884}, 'model_name': 'gpt-35-turbo', 'system_fingerprint': 'fp_2f57f81c11', 'prompt_filter_results': [{'prompt_index': 0, 'content_filter_results': {'hate': {'filtered': False, 'severity': 'safe'}, 'self_harm': {'filtered': False, 'severity': 'safe'}, 'sexual': {'filtered': False, 'severity': 'safe'}, 'violence': {'filtered': False, 'severity': 'safe'}}}], 'finish_reason': 'stop', 'logprobs': None, 'content_filter_results': {'hate': {'filtered': False, 'severity': 'safe'}, 'self_harm': {'filtered': False, 'severity': 'safe'}, 'sexual': {'filtered': False, 'severity': 'safe'}, 'violence': {'filtered': False, 'severity': 'safe'}}}, id='run-766753e1-ad53-4d41-8836-1f523afec14c-0')]}}}\n",
      "\n",
      "=======================\n",
      "\n"
     ]
    },
    {
     "data": {
      "text/markdown": [
       "I'm here and ready to assist you, Pablo. How can I help you today?"
      ],
      "text/plain": [
       "<IPython.core.display.Markdown object>"
      ]
     },
     "metadata": {},
     "output_type": "display_data"
    }
   ],
   "source": [
    "await print_events(\"Hello there, how are you? My name is Pablo Marin\")"
   ]
  },
  {
   "cell_type": "code",
   "execution_count": 19,
   "id": "f66b2db6-ea88-4473-8f5f-6ec0db664ced",
   "metadata": {},
   "outputs": [
    {
     "name": "stdout",
     "output_type": "stream",
     "text": [
      "\n",
      "=======================\n",
      "\n",
      "Starting: LangGraph\n",
      "{'event': 'on_chain_start', 'run_id': '07ae7cc1-cca6-4202-aae3-1e06556dce25', 'name': 'LangGraph', 'tags': [], 'metadata': {}, 'data': {'input': {'messages': [HumanMessage(content=\"bing, What's the oldest parrot alive, and how much longer is that than the average lifespan of a parrot?\")]}}}\n",
      "\n",
      "=======================\n",
      "\n",
      "Starting: supervisor\n",
      "{'event': 'on_chain_start', 'name': 'supervisor', 'run_id': '8cd7d8fc-83b1-4106-a34c-30e609bfaa02', 'tags': ['graph:step:1'], 'metadata': {}, 'data': {}}\n",
      "\n",
      "=======================\n",
      "\n",
      "Starting: should_continue\n",
      "{'event': 'on_chain_start', 'name': 'should_continue', 'run_id': '2b80e2cb-8f65-415d-887d-d324eeb8681f', 'tags': ['seq:step:3'], 'metadata': {}, 'data': {'input': {'messages': [HumanMessage(content=\"bing, What's the oldest parrot alive, and how much longer is that than the average lifespan of a parrot?\"), AIMessage(content='', additional_kwargs={'tool_calls': [{'id': 'call_tNG5QoLmkcdIPbxNv6skBjsA', 'function': {'arguments': '{\"query\":\"oldest parrot alive\"}', 'name': 'bing'}, 'type': 'function'}]}, response_metadata={'token_usage': {'completion_tokens': 18, 'prompt_tokens': 878, 'total_tokens': 896}, 'model_name': 'gpt-35-turbo', 'system_fingerprint': 'fp_2f57f81c11', 'prompt_filter_results': [{'prompt_index': 0, 'content_filter_results': {'hate': {'filtered': False, 'severity': 'safe'}, 'self_harm': {'filtered': False, 'severity': 'safe'}, 'sexual': {'filtered': False, 'severity': 'safe'}, 'violence': {'filtered': False, 'severity': 'safe'}}}], 'finish_reason': 'tool_calls', 'logprobs': None, 'content_filter_results': {}}, id='run-01835fa0-6572-4cb3-b085-e9e26095cc8d-0', tool_calls=[{'name': 'bing', 'args': {'query': 'oldest parrot alive'}, 'id': 'call_tNG5QoLmkcdIPbxNv6skBjsA'}])]}}}\n",
      "\n",
      "=======================\n",
      "\n",
      "Starting: tools\n",
      "{'event': 'on_chain_start', 'name': 'tools', 'run_id': '92549a73-3fc4-4863-a963-46274d029784', 'tags': ['graph:step:2'], 'metadata': {}, 'data': {}}\n",
      "\n",
      "=======================\n",
      "\n",
      "Starting tool: bing\n",
      "{'event': 'on_tool_start', 'name': 'bing', 'run_id': 'e0eff39e-0eb6-452c-84c3-51c964de81f7', 'tags': ['seq:step:1'], 'metadata': {}, 'data': {'input': {'query': 'oldest parrot alive'}}}\n",
      "\n",
      "=======================\n",
      "\n",
      "Starting: supervisor\n",
      "{'event': 'on_chain_start', 'name': 'supervisor', 'run_id': '1eaa82de-fa64-4b07-b723-5515e97f6fe0', 'tags': ['graph:step:3'], 'metadata': {}, 'data': {}}\n",
      "\n",
      "=======================\n",
      "\n",
      "Starting: should_continue\n",
      "{'event': 'on_chain_start', 'name': 'should_continue', 'run_id': 'c23d6e87-c157-4e61-ac8b-4d52f8cb79dc', 'tags': ['seq:step:3'], 'metadata': {}, 'data': {'input': {'messages': [HumanMessage(content=\"bing, What's the oldest parrot alive, and how much longer is that than the average lifespan of a parrot?\"), AIMessage(content='', additional_kwargs={'tool_calls': [{'id': 'call_tNG5QoLmkcdIPbxNv6skBjsA', 'function': {'arguments': '{\"query\":\"oldest parrot alive\"}', 'name': 'bing'}, 'type': 'function'}]}, response_metadata={'token_usage': {'completion_tokens': 18, 'prompt_tokens': 878, 'total_tokens': 896}, 'model_name': 'gpt-35-turbo', 'system_fingerprint': 'fp_2f57f81c11', 'prompt_filter_results': [{'prompt_index': 0, 'content_filter_results': {'hate': {'filtered': False, 'severity': 'safe'}, 'self_harm': {'filtered': False, 'severity': 'safe'}, 'sexual': {'filtered': False, 'severity': 'safe'}, 'violence': {'filtered': False, 'severity': 'safe'}}}], 'finish_reason': 'tool_calls', 'logprobs': None, 'content_filter_results': {}}, id='run-01835fa0-6572-4cb3-b085-e9e26095cc8d-0', tool_calls=[{'name': 'bing', 'args': {'query': 'oldest parrot alive'}, 'id': 'call_tNG5QoLmkcdIPbxNv6skBjsA'}]), ToolMessage(content=\"The oldest living parrot is a subject of debate and uncertainty, but there are a few remarkable cases of long-lived parrots. Here are some examples:\\n\\n1. **Poncho**: Poncho, a Green-winged macaw, is officially the world's oldest living parrot at 92 years of age. This is exceptional considering that most birds of Poncho's breed live to be around 50 or 60 years old, with some reaching 80 years of age with a healthy diet [[1]](https://www.oldest.org/animals/parrots/).\\n\\n2. **Cookie**: Cookie, a Major Mitchell’s cockatoo, was recognized by the Guinness World Records as the oldest parrot ever. He lived to be at least 82 years and 88 days old when he passed away on 27 August 2016. Cookie's exact age was unknown when he arrived at Brookfield Zoo in May 1934, but his arrival was documented in a ledger dated May 1934, estimating his age at that time [[2]](https://www.guinnessworldrecords.com/world-records/442525-oldest-parrot-ever).\\n\\n3. **Other Long-Lived Parrots**: There are other parrots with long lifespans, but their ages lack verifiable documentation. While Cookie holds the record for the oldest parrot on record, living to the age of 83, there are other parrots whose lifespans may be longer but lack verifiable documentation [[3]](https://savetheeaglesinternational.org/old-parrot/).\\n\\nThese examples showcase the exceptional longevity of certain parrots and the debate surrounding the world's oldest living parrot.\", name='bing', tool_call_id='call_tNG5QoLmkcdIPbxNv6skBjsA'), AIMessage(content=\"The oldest living parrot is a subject of debate and uncertainty, but there are a few remarkable cases of long-lived parrots. Here are some examples:\\n\\n1. **Poncho**: Poncho, a Green-winged macaw, is officially the world's oldest living parrot at 92 years of age. This is exceptional considering that most birds of Poncho's breed live to be around 50 or 60 years old, with some reaching 80 years of age with a healthy diet [[1]](https://www.oldest.org/animals/parrots/).\\n\\n2. **Cookie**: Cookie, a Major Mitchell’s cockatoo, was recognized by the Guinness World Records as the oldest parrot ever. He lived to be at least 82 years and 88 days old when he passed away on 27 August 2016. Cookie's exact age was unknown when he arrived at Brookfield Zoo in May 1934, but his arrival was documented in a ledger dated May 1934, estimating his age at that time [[2]](https://www.guinnessworldrecords.com/world-records/442525-oldest-parrot-ever).\\n\\n3. **Other Long-Lived Parrots**: There are other parrots with long lifespans, but their ages lack verifiable documentation. While Cookie holds the record for the oldest parrot on record, living to the age of 83, there are other parrots whose lifespans may be longer but lack verifiable documentation [[3]](https://savetheeaglesinternational.org/old-parrot/).\\n\\nThese examples showcase the exceptional longevity of certain parrots and the debate surrounding the world's oldest living parrot.\\n\\nAs for the average lifespan of a parrot, it varies depending on the species. For example, larger parrots such as macaws and cockatoos can live 60-80 years or more, while smaller parrots like budgies and lovebirds have an average lifespan of 15-20 years. The average lifespan of a parrot is significantly shorter than the ages of the oldest living parrots mentioned above.\\n\\nIf you have any further questions or need more information, feel free to ask!\", response_metadata={'token_usage': {'completion_tokens': 446, 'prompt_tokens': 1554, 'total_tokens': 2000}, 'model_name': 'gpt-35-turbo', 'system_fingerprint': 'fp_2f57f81c11', 'prompt_filter_results': [{'prompt_index': 0, 'content_filter_results': {'hate': {'filtered': False, 'severity': 'safe'}, 'self_harm': {'filtered': False, 'severity': 'safe'}, 'sexual': {'filtered': False, 'severity': 'safe'}, 'violence': {'filtered': False, 'severity': 'safe'}}}], 'finish_reason': 'stop', 'logprobs': None, 'content_filter_results': {'hate': {'filtered': False, 'severity': 'safe'}, 'self_harm': {'filtered': False, 'severity': 'safe'}, 'sexual': {'filtered': False, 'severity': 'safe'}, 'violence': {'filtered': False, 'severity': 'safe'}}}, id='run-21d70a75-c637-4d04-a231-2bb62e78d8e0-0')]}}}\n",
      "\n",
      "=======================\n",
      "\n"
     ]
    },
    {
     "data": {
      "text/markdown": [
       "The oldest living parrot is a subject of debate and uncertainty, but there are a few remarkable cases of long-lived parrots. Here are some examples:\n",
       "\n",
       "1. **Poncho**: Poncho, a Green-winged macaw, is officially the world's oldest living parrot at 92 years of age. This is exceptional considering that most birds of Poncho's breed live to be around 50 or 60 years old, with some reaching 80 years of age with a healthy diet [[1]](https://www.oldest.org/animals/parrots/).\n",
       "\n",
       "2. **Cookie**: Cookie, a Major Mitchell’s cockatoo, was recognized by the Guinness World Records as the oldest parrot ever. He lived to be at least 82 years and 88 days old when he passed away on 27 August 2016. Cookie's exact age was unknown when he arrived at Brookfield Zoo in May 1934, but his arrival was documented in a ledger dated May 1934, estimating his age at that time [[2]](https://www.guinnessworldrecords.com/world-records/442525-oldest-parrot-ever).\n",
       "\n",
       "3. **Other Long-Lived Parrots**: There are other parrots with long lifespans, but their ages lack verifiable documentation. While Cookie holds the record for the oldest parrot on record, living to the age of 83, there are other parrots whose lifespans may be longer but lack verifiable documentation [[3]](https://savetheeaglesinternational.org/old-parrot/).\n",
       "\n",
       "These examples showcase the exceptional longevity of certain parrots and the debate surrounding the world's oldest living parrot.\n",
       "\n",
       "As for the average lifespan of a parrot, it varies depending on the species. For example, larger parrots such as macaws and cockatoos can live 60-80 years or more, while smaller parrots like budgies and lovebirds have an average lifespan of 15-20 years. The average lifespan of a parrot is significantly shorter than the ages of the oldest living parrots mentioned above.\n",
       "\n",
       "If you have any further questions or need more information, feel free to ask!"
      ],
      "text/plain": [
       "<IPython.core.display.Markdown object>"
      ]
     },
     "metadata": {},
     "output_type": "display_data"
    }
   ],
   "source": [
    "await print_events(\"bing, What's the oldest parrot alive, and how much longer is that than the average lifespan of a parrot?\")"
   ]
  },
  {
   "cell_type": "markdown",
   "id": "9b8df2e4-e808-47f6-b469-6ac586573904",
   "metadata": {},
   "source": [
    "### We can tell the app to return the results directly from the tool (without passing through the supervisor)"
   ]
  },
  {
   "cell_type": "code",
   "execution_count": 20,
   "id": "fa1c8053-b1ef-4818-9076-13250472b327",
   "metadata": {},
   "outputs": [
    {
     "name": "stdout",
     "output_type": "stream",
     "text": [
      "\n",
      "=======================\n",
      "\n",
      "Starting: LangGraph\n",
      "{'event': 'on_chain_start', 'run_id': '0aaca84b-52bc-423d-9ce7-f8858e2f522e', 'name': 'LangGraph', 'tags': [], 'metadata': {}, 'data': {'input': {'messages': [HumanMessage(content='docsearch, how diabetes affects covid? return the answer directly by setting return_direct=True')]}}}\n",
      "\n",
      "=======================\n",
      "\n",
      "Starting: supervisor\n",
      "{'event': 'on_chain_start', 'name': 'supervisor', 'run_id': '88725935-bc2c-4ec6-8f86-0dd828e3e50e', 'tags': ['graph:step:1'], 'metadata': {}, 'data': {}}\n",
      "\n",
      "=======================\n",
      "\n",
      "Starting: should_continue\n",
      "{'event': 'on_chain_start', 'name': 'should_continue', 'run_id': 'aaf0fad4-3e10-4253-afc5-0f6d5b18bded', 'tags': ['seq:step:3'], 'metadata': {}, 'data': {'input': {'messages': [HumanMessage(content='docsearch, how diabetes affects covid? return the answer directly by setting return_direct=True'), AIMessage(content='', additional_kwargs={'tool_calls': [{'id': 'call_vpOibWg93pesEebmgWuk91mb', 'function': {'arguments': '{\"query\":\"how diabetes affects COVID\",\"return_direct\":true}', 'name': 'docsearch'}, 'type': 'function'}]}, response_metadata={'token_usage': {'completion_tokens': 22, 'prompt_tokens': 870, 'total_tokens': 892}, 'model_name': 'gpt-35-turbo', 'system_fingerprint': 'fp_2f57f81c11', 'prompt_filter_results': [{'prompt_index': 0, 'content_filter_results': {'hate': {'filtered': False, 'severity': 'safe'}, 'self_harm': {'filtered': False, 'severity': 'safe'}, 'sexual': {'filtered': False, 'severity': 'safe'}, 'violence': {'filtered': False, 'severity': 'safe'}}}], 'finish_reason': 'tool_calls', 'logprobs': None, 'content_filter_results': {}}, id='run-e8717364-e6f5-414d-b893-be604dd73784-0', tool_calls=[{'name': 'docsearch', 'args': {'query': 'how diabetes affects COVID', 'return_direct': True}, 'id': 'call_vpOibWg93pesEebmgWuk91mb'}])]}}}\n",
      "\n",
      "=======================\n",
      "\n",
      "Starting: tools_final\n",
      "{'event': 'on_chain_start', 'name': 'tools_final', 'run_id': 'a676582f-c992-49c6-a5a8-6517e2496faf', 'tags': ['graph:step:2'], 'metadata': {}, 'data': {}}\n",
      "\n",
      "=======================\n",
      "\n",
      "Starting tool: docsearch\n",
      "{'event': 'on_tool_start', 'name': 'docsearch', 'run_id': 'd8eaca90-c203-438d-bd55-dc1fd8468651', 'tags': ['seq:step:1'], 'metadata': {}, 'data': {'input': {'query': 'how diabetes affects COVID', 'return_direct': True}}}\n",
      "\n",
      "=======================\n",
      "\n"
     ]
    },
    {
     "data": {
      "text/markdown": [
       "Diabetes can significantly affect the progression and prognosis of COVID-19. Individuals with diabetes are at a higher risk of severe pneumonia, tissue injury, excessive inflammation responses, and hypercoagulable state associated with dysregulation of glucose metabolism when infected with COVID-19 [[1]](https://api.elsevier.com/content/article/pii/S1056872720303962) [[2]](https://doi.org/10.1002/dmrr.3319). Additionally, diabetes patients often suffer from comorbidities that further worsen clinical outcomes. The impact of COVID-19 on individuals with diabetes is attributed to an imbalance in angiotensin-converting enzyme 2 (ACE2) activation pathways, leading to an inflammatory response and acute β-cell dysfunction, resulting in a hyperglycemic state [[1]](https://api.elsevier.com/content/article/pii/S1056872720303962).\n",
       "\n",
       "Furthermore, patients with diabetes may experience a heightened inflammatory response, impaired immune response, and a hypercoagulable state, all of which contribute to the increased severity and mortality risk of COVID-19 in this population [[3]](https://doi.org/10.1007/s00508-020-01672-3) [[4]](https://doi.org/10.1038/s41430-020-0652-1). Serum levels of inflammation-related biomarkers such as IL-6, C-reactive protein, serum ferritin, and coagulation index are significantly higher in diabetic patients compared to those without diabetes, indicating their susceptibility to an inflammatory storm and rapid deterioration of COVID-19 [[2]](https://doi.org/10.1002/dmrr.3319).\n",
       "\n",
       "The management of diabetes during the COVID-19 pandemic poses challenges, particularly in ensuring optimal glycemic control and adapting antidiabetic drugs and insulin therapy accordingly. Access to outpatient clinics may be limited during the pandemic, emphasizing the need for alternative treatment options, such as the implementation of novel telemedicine strategies [[3]](https://doi.org/10.1007/s00508-020-01672-3).\n",
       "\n",
       "In summary, diabetes is considered a risk factor for the rapid progression and poor prognosis of COVID-19. Patients with diabetes require more intensive attention and specialized care to mitigate the impact of COVID-19 on their health outcomes [[1]](https://api.elsevier.com/content/article/pii/S1056872720303962) [[2]](https://doi.org/10.1002/dmrr.3319) [[3]](https://doi.org/10.1007/s00508-020-01672-3) [[4]](https://doi.org/10.1038/s41430-020-0652-1)."
      ],
      "text/plain": [
       "<IPython.core.display.Markdown object>"
      ]
     },
     "metadata": {},
     "output_type": "display_data"
    }
   ],
   "source": [
    "await print_events(\"docsearch, how diabetes affects covid? return the answer directly by setting return_direct=True\")"
   ]
  },
  {
   "cell_type": "code",
   "execution_count": 21,
   "id": "ef806a5c-73e5-4cf4-848c-c52f8fe0f03f",
   "metadata": {},
   "outputs": [
    {
     "name": "stdout",
     "output_type": "stream",
     "text": [
      "\n",
      "=======================\n",
      "\n",
      "Starting: LangGraph\n",
      "{'event': 'on_chain_start', 'run_id': 'a913fbcc-f6a6-4c1b-b09a-935317e41380', 'name': 'LangGraph', 'tags': [], 'metadata': {}, 'data': {'input': {'messages': [HumanMessage(content='sqlsearch, How many people died of covid in Texas in 2020? return the answer directly by setting return_direct=True')]}}}\n",
      "\n",
      "=======================\n",
      "\n",
      "Starting: supervisor\n",
      "{'event': 'on_chain_start', 'name': 'supervisor', 'run_id': 'bdee0fc8-39ec-4233-9759-161a6f159fc8', 'tags': ['graph:step:1'], 'metadata': {}, 'data': {}}\n",
      "\n",
      "=======================\n",
      "\n",
      "Starting: should_continue\n",
      "{'event': 'on_chain_start', 'name': 'should_continue', 'run_id': 'a19cafa3-48a8-4423-b756-8e1a7e529e1f', 'tags': ['seq:step:3'], 'metadata': {}, 'data': {'input': {'messages': [HumanMessage(content='sqlsearch, How many people died of covid in Texas in 2020? return the answer directly by setting return_direct=True'), AIMessage(content='', additional_kwargs={'tool_calls': [{'id': 'call_40gOVRaqF6cFIpdEUGPgHCEL', 'function': {'arguments': '{\"query\":\"How many people died of covid in Texas in 2020?\",\"return_direct\":true}', 'name': 'sqlsearch'}, 'type': 'function'}]}, response_metadata={'token_usage': {'completion_tokens': 31, 'prompt_tokens': 878, 'total_tokens': 909}, 'model_name': 'gpt-35-turbo', 'system_fingerprint': 'fp_2f57f81c11', 'prompt_filter_results': [{'prompt_index': 0, 'content_filter_results': {'hate': {'filtered': False, 'severity': 'safe'}, 'self_harm': {'filtered': False, 'severity': 'safe'}, 'sexual': {'filtered': False, 'severity': 'safe'}, 'violence': {'filtered': False, 'severity': 'safe'}}}], 'finish_reason': 'tool_calls', 'logprobs': None, 'content_filter_results': {}}, id='run-f2d5ccee-b30e-46bb-8f6a-ccb30d094b93-0', tool_calls=[{'name': 'sqlsearch', 'args': {'query': 'How many people died of covid in Texas in 2020?', 'return_direct': True}, 'id': 'call_40gOVRaqF6cFIpdEUGPgHCEL'}])]}}}\n",
      "\n",
      "=======================\n",
      "\n",
      "Starting: tools_final\n",
      "{'event': 'on_chain_start', 'name': 'tools_final', 'run_id': '4c8cbdf3-36b7-46c0-9143-50807ba177fa', 'tags': ['graph:step:2'], 'metadata': {}, 'data': {}}\n",
      "\n",
      "=======================\n",
      "\n",
      "Starting tool: sqlsearch\n",
      "{'event': 'on_tool_start', 'name': 'sqlsearch', 'run_id': 'b8a118aa-78af-4738-a06b-4ca2394b99f9', 'tags': ['seq:step:1'], 'metadata': {}, 'data': {'input': {'query': 'How many people died of covid in Texas in 2020?', 'return_direct': True}}}\n",
      "\n",
      "=======================\n",
      "\n"
     ]
    },
    {
     "data": {
      "text/markdown": [
       "The total number of people who died of Covid in Texas in 2020 is 2,841,253.\n",
       "\n",
       "Explanation:\n",
       "I used the following SQL query to calculate the total number of deaths in Texas in 2020:\n",
       "```sql\n",
       "SELECT SUM(death) AS total_deaths\n",
       "FROM covidtracking\n",
       "WHERE state = 'TX' AND date LIKE '2020%'\n",
       "```\n",
       "This query sums the `death` column for Texas (`state = 'TX'`) where the date starts with '2020'. The result is 2,841,253."
      ],
      "text/plain": [
       "<IPython.core.display.Markdown object>"
      ]
     },
     "metadata": {},
     "output_type": "display_data"
    }
   ],
   "source": [
    "await print_events(\"sqlsearch, How many people died of covid in Texas in 2020? return the answer directly by setting return_direct=True\")"
   ]
  },
  {
   "cell_type": "code",
   "execution_count": 22,
   "id": "4af5d84f-59b9-43e3-8e1e-9fc55611ca7d",
   "metadata": {},
   "outputs": [
    {
     "name": "stdout",
     "output_type": "stream",
     "text": [
      "\n",
      "=======================\n",
      "\n",
      "Starting: LangGraph\n",
      "{'event': 'on_chain_start', 'run_id': '8ebe4f41-28d3-4971-bc37-5d1792e2ec44', 'name': 'LangGraph', 'tags': [], 'metadata': {}, 'data': {'input': {'messages': [HumanMessage(content='Thank you!! you are a great assistant. BTW, what is my name?')]}}}\n",
      "\n",
      "=======================\n",
      "\n",
      "Starting: supervisor\n",
      "{'event': 'on_chain_start', 'name': 'supervisor', 'run_id': '66a97a00-fb5a-4771-b20c-33c4b7cd8d6d', 'tags': ['graph:step:1'], 'metadata': {}, 'data': {}}\n",
      "\n",
      "=======================\n",
      "\n",
      "Starting: should_continue\n",
      "{'event': 'on_chain_start', 'name': 'should_continue', 'run_id': '3fd41a1b-e28b-459b-bdcd-36ab686c011e', 'tags': ['seq:step:3'], 'metadata': {}, 'data': {'input': {'messages': [HumanMessage(content='Thank you!! you are a great assistant. BTW, what is my name?'), AIMessage(content=\"I'm glad you're finding my assistance helpful! As for your name, I'm afraid I don't have that information. If there's anything else you'd like to know or discuss, feel free to ask!\", response_metadata={'token_usage': {'completion_tokens': 44, 'prompt_tokens': 870, 'total_tokens': 914}, 'model_name': 'gpt-35-turbo', 'system_fingerprint': 'fp_2f57f81c11', 'prompt_filter_results': [{'prompt_index': 0, 'content_filter_results': {'hate': {'filtered': False, 'severity': 'safe'}, 'self_harm': {'filtered': False, 'severity': 'safe'}, 'sexual': {'filtered': False, 'severity': 'safe'}, 'violence': {'filtered': False, 'severity': 'safe'}}}], 'finish_reason': 'stop', 'logprobs': None, 'content_filter_results': {'hate': {'filtered': False, 'severity': 'safe'}, 'self_harm': {'filtered': False, 'severity': 'safe'}, 'sexual': {'filtered': False, 'severity': 'safe'}, 'violence': {'filtered': False, 'severity': 'safe'}}}, id='run-c55de057-7a68-4cc0-aac3-49cfae6349b3-0')]}}}\n",
      "\n",
      "=======================\n",
      "\n"
     ]
    },
    {
     "data": {
      "text/markdown": [
       "I'm glad you're finding my assistance helpful! As for your name, I'm afraid I don't have that information. If there's anything else you'd like to know or discuss, feel free to ask!"
      ],
      "text/plain": [
       "<IPython.core.display.Markdown object>"
      ]
     },
     "metadata": {},
     "output_type": "display_data"
    }
   ],
   "source": [
    "await print_events(\"Thank you!! you are a great assistant. BTW, what is my name?\")"
   ]
  },
  {
   "cell_type": "markdown",
   "id": "22270c98-6df9-47d1-ab76-3372e6f33cfb",
   "metadata": {},
   "source": [
    "# Summary"
   ]
  },
  {
   "cell_type": "markdown",
   "id": "70919e9b-58d8-4899-baf8-5b9e3acb2cde",
   "metadata": {},
   "source": [
    "In this notebook, we have successfully implemented a multi-agent architecture utilizing LangGraph, marking a significant advancement in our capability to engineer complex, scalable systems. This framework enables the seamless integration of multiple agents, each performing distinct tasks, thereby facilitating more robust and intricate architectures.\n",
    "\n",
    "**Note: Currently, this architecture does not include a memory component(still experimental)**, which is crucial for tasks that require historical data recall or context retention over time. However, the development of this memory component is underway and promises to enhance the functionality significantly. Once integrated, this memory capability will allow graphs to perform more complex tasks that require understanding and analyzing past interactions, leading to more intelligent and adaptive responses.\n",
    "\n",
    "Stay tuned for updates!!"
   ]
  }
 ],
 "metadata": {
  "kernelspec": {
   "display_name": "Python 3.10 - SDK v2",
   "language": "python",
   "name": "python310-sdkv2"
  },
  "language_info": {
   "codemirror_mode": {
    "name": "ipython",
    "version": 3
   },
   "file_extension": ".py",
   "mimetype": "text/x-python",
   "name": "python",
   "nbconvert_exporter": "python",
   "pygments_lexer": "ipython3",
   "version": "3.10.11"
  }
 },
 "nbformat": 4,
 "nbformat_minor": 5
}
