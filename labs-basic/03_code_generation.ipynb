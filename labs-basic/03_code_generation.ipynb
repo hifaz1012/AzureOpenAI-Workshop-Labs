{
 "cells": [
  {
   "cell_type": "code",
   "execution_count": 1,
   "metadata": {},
   "outputs": [
    {
     "name": "stdout",
     "output_type": "stream",
     "text": [
      "### Postgres SQL tables, with their properties:\n",
      "#\n",
      "# Employee(id, name, department_id)\n",
      "# Department(id, name, address)\n",
      "# Salary_Payments(id, employee_id, amount, date)\n",
      "#\n",
      "### A query to list the names of the departments which employed more than 10 employees in the last 3 months\n",
      "\n",
      " query: \n",
      "To list the names of the departments which employed more than 10 employees in the last 3 months, you can use the following SQL query:\n",
      "\n",
      "```sql\n",
      "WITH RecentEmployees AS (\n",
      "    SELECT e.department_id\n",
      "    FROM Employee e\n",
      "    JOIN Salary_Payments sp ON e.id = sp.employee_id\n",
      "    WHERE sp.date >= CURRENT_DATE - INTERVAL '3 months'\n",
      "    GROUP BY e.id, e.department_id\n",
      ")\n",
      "SELECT d.name\n",
      "FROM Department d\n",
      "JOIN (\n",
      "    SELECT department_id, COUNT(DISTINCT employee_id) AS employee_count\n",
      "    FROM RecentEmployees\n",
      "    GROUP BY department_id\n",
      "    HAVING COUNT(DISTINCT employee_id) > 10\n",
      ") AS dept_counts ON d.id = dept_counts.department\n"
     ]
    }
   ],
   "source": [
    "import re\n",
    "import requests\n",
    "import sys\n",
    "import os\n",
    "from openai import AzureOpenAI\n",
    "from dotenv import load_dotenv\n",
    "load_dotenv(\"azure.env\")\n",
    "\n",
    "client = AzureOpenAI(\n",
    "  azure_endpoint = os.getenv(\"AZURE_OPENAI_ENDPOINT\"), \n",
    "  api_key=os.getenv(\"AZURE_OPENAI_KEY\"),  \n",
    " api_version=os.getenv(\"AZURE_OPENAI_VERSION\")\n",
    ")\n",
    "\n",
    "CHAT_COMPLETIONS_MODEL = os.getenv('CHAT_COMPLETION_MODEL')\n",
    "\n",
    "prompt = \"### Postgres SQL tables, with their properties:\\n#\\n# Employee(id, name, department_id)\\n# Department(id, name, address)\\n# Salary_Payments(id, employee_id, amount, date)\\n#\\n### A query to list the names of the departments which employed more than 10 employees in the last 3 months\\n\\n query: \"\n",
    "print(prompt)\n",
    "response = client.chat.completions.create(\n",
    "  model=CHAT_COMPLETIONS_MODEL,\n",
    "  messages = [{\"role\":\"system\", \"content\":\"You are a helpful assistant.\"},\n",
    "               {\"role\":\"user\",\"content\": prompt}],\n",
    "  temperature=0,\n",
    "  max_tokens=150,\n",
    "  top_p=1,\n",
    "  frequency_penalty=0,\n",
    "  presence_penalty=0,\n",
    "  stop=[\"#\",\";\"])\n",
    "print(response.choices[0].message.content)\n"
   ]
  },
  {
   "cell_type": "code",
   "execution_count": 2,
   "metadata": {},
   "outputs": [
    {
     "name": "stdout",
     "output_type": "stream",
     "text": [
      "Certainly! Let's break down the SQL query step by step to understand what it does:\n",
      "\n",
      "1. **FROM Department d JOIN Employee e ON d.id = e.department_id**:\n",
      "   - This part of the query joins the `Department` table (aliased as `d`) with the `Employee` table (aliased as `e`) based on the condition that the `id` field in the `Department` table matches the `department_id` field in the `Employee` table. This effectively links each employee to their respective department.\n",
      "\n",
      "2. **WHERE e.id IN (SELECT employee_id FROM Salary_Payments WHERE date > now() - interval '3 months')**:\n",
      "   - This subquery selects `employee_id` from the `Salary_Payments` table where the `date` of the payment is within the last 3 months (i.e., greater than the current date minus 3 months).\n",
      "   - The main query then filters the joined `Department` and `Employee` records to include only those employees whose `id` is in the list of `employee_id` values returned by the subquery. This means we are only considering employees who have received salary payments in the last 3 months.\n",
      "\n",
      "3. **SELECT d.name**:\n",
      "   - This part of the query selects the `name` field from the `Department` table.\n",
      "\n",
      "4. **GROUP BY d.name**:\n",
      "   - This groups the results by the `name` of the department. This means that the subsequent operations (like the `HAVING` clause) will be applied to each group of records that share the same department name.\n",
      "\n",
      "5. **HAVING COUNT(*) > 10**:\n",
      "   - This filters the grouped results to include only those groups (i.e., departments) that have more than 10 employees who have received salary payments in the last 3 months.\n",
      "\n",
      "\n"
     ]
    }
   ],
   "source": [
    "code = \"Can you explain what does this code do?\\n#\\n# ###\\n\\\n",
    "   Code:\\n\\\n",
    "   SELECT d.name FROM Department d JOIN Employee e ON d.id = e.department_id WHERE e.id IN (SELECT employee_id FROM Salary_Payments WHERE date > now() - interval '3 months') GROUP BY d.name HAVING COUNT(*) > 10\\n#\\n#\\\n",
    "   Answer:\\n# \"\n",
    "\n",
    "response = client.chat.completions.create(\n",
    "  model=CHAT_COMPLETIONS_MODEL,\n",
    "  messages = [{\"role\":\"system\", \"content\":\"You are a helpful assistant.\"},\n",
    "               {\"role\":\"user\",\"content\": code}],\n",
    "  temperature=0,\n",
    "  max_tokens=500,\n",
    "  top_p=1,\n",
    "  frequency_penalty=0,\n",
    "  presence_penalty=0,\n",
    "  stop=[\"#\",\";\"])\n",
    "print(response.choices[0].message.content)\n"
   ]
  }
 ],
 "metadata": {
  "kernelspec": {
   "display_name": "azureml_py310_sdkv2",
   "language": "python",
   "name": "python3"
  },
  "language_info": {
   "codemirror_mode": {
    "name": "ipython",
    "version": 3
   },
   "file_extension": ".py",
   "mimetype": "text/x-python",
   "name": "python",
   "nbconvert_exporter": "python",
   "pygments_lexer": "ipython3",
   "version": "3.11.9"
  },
  "orig_nbformat": 4,
  "vscode": {
   "interpreter": {
    "hash": "2139c70ac98f3202d028164a545621647e07f47fd6f5d8ac55cf952bf7c15ed1"
   }
  }
 },
 "nbformat": 4,
 "nbformat_minor": 2
}
