{
 "cells": [
  {
   "cell_type": "code",
   "execution_count": 1,
   "metadata": {},
   "outputs": [],
   "source": [
    "import re\n",
    "import requests\n",
    "import sys\n",
    "import os\n",
    "from openai import AzureOpenAI\n",
    "from dotenv import load_dotenv\n",
    "load_dotenv(\"azure.env\")\n",
    "\n",
    "client = AzureOpenAI(\n",
    "  azure_endpoint = os.getenv(\"AZURE_OPENAI_ENDPOINT\"), \n",
    "  api_key=os.getenv(\"AZURE_OPENAI_KEY\"),  \n",
    "  api_version=os.getenv(\"AZURE_OPENAI_VERSION\")\n",
    ")"
   ]
  },
  {
   "cell_type": "markdown",
   "metadata": {},
   "source": [
    "**Clear Instructions** "
   ]
  },
  {
   "cell_type": "code",
   "execution_count": 2,
   "metadata": {},
   "outputs": [
    {
     "data": {
      "text/plain": [
       "\"Sorry, I don't know.\""
      ]
     },
     "execution_count": 2,
     "metadata": {},
     "output_type": "execute_result"
    }
   ],
   "source": [
    "prompt = \"\"\"Answer the question as truthfully as possible, and if you're unsure of the answer, say \"Sorry, I don't know\".\n",
    "\n",
    "Q: Who won the 2024 Summer Olympics men's high jump?\n",
    "A:\"\"\"\n",
    "message_text = [{\"role\":\"system\",\"content\":prompt}]\n",
    "\n",
    "response = client.chat.completions.create(\n",
    "  model=os.getenv(\"CHAT_COMPLETION_MODEL\"), # model = \"deployment_name\"\n",
    "  messages = message_text,\n",
    ")\n",
    "\n",
    "response.choices[0].message.content"
   ]
  },
  {
   "cell_type": "markdown",
   "metadata": {},
   "source": [
    "**Sentiment Analysis**"
   ]
  },
  {
   "cell_type": "code",
   "execution_count": 3,
   "metadata": {},
   "outputs": [
    {
     "data": {
      "text/plain": [
       "'The first feedback is negative.\\n\\nThe second feedback is positive.'"
      ]
     },
     "execution_count": 3,
     "metadata": {},
     "output_type": "execute_result"
    }
   ],
   "source": [
    "prompt = \"\"\"Decide whether the following customer feedback is positive or negative.\n",
    "\n",
    "Q: I was disappointed with the quality of the product. It was very cheaply made and did not meet my expectations at all.\n",
    "Q: I was happy with this product, it is well made and great quality for the price.\n",
    "\"\"\"\n",
    "\n",
    "message_text = [{\"role\":\"system\",\"content\":prompt}]\n",
    "\n",
    "response = client.chat.completions.create(\n",
    "  model=os.getenv(\"CHAT_COMPLETION_MODEL\"), # model = \"deployment_name\"\n",
    "  messages = message_text,\n",
    ")\n",
    "\n",
    "response.choices[0].message.content"
   ]
  },
  {
   "cell_type": "markdown",
   "metadata": {},
   "source": [
    "**Extract PII data**"
   ]
  },
  {
   "cell_type": "code",
   "execution_count": 4,
   "metadata": {},
   "outputs": [
    {
     "data": {
      "text/plain": [
       "'The following pieces of information in the statement are considered Personally Identifiable Information (PII):\\n\\n1. Full name: John Doe\\n2. Age: 35 years old\\n3. Address: 21 Main Street, New York, NY\\n4. Employer: Microsoft\\n5. Spouse’s name: Jane Doe\\n6. Information about children: They have two children\\n\\nEach of these data points, either alone or in combination, could be used to identify or contact someone.'"
      ]
     },
     "execution_count": 4,
     "metadata": {},
     "output_type": "execute_result"
    }
   ],
   "source": [
    "prompt = \"\"\"List all PII data from following statement:\n",
    "John Doe is a 35-year old man and he lives at 21 Main Street, New York, NY. He is a software engineer and he works at Microsft. He has a wife named Jane Doe and they have two children\n",
    "\"\"\"\n",
    "\n",
    "message_text = [{\"role\":\"system\",\"content\":prompt}]\n",
    "\n",
    "response = client.chat.completions.create(\n",
    "  model=os.getenv(\"CHAT_COMPLETION_MODEL\"), # model = \"deployment_name\"\n",
    "  messages = message_text,\n",
    ")\n",
    "\n",
    "response.choices[0].message.content"
   ]
  }
 ],
 "metadata": {
  "kernelspec": {
   "display_name": "Python 3",
   "language": "python",
   "name": "python3"
  },
  "language_info": {
   "codemirror_mode": {
    "name": "ipython",
    "version": 3
   },
   "file_extension": ".py",
   "mimetype": "text/x-python",
   "name": "python",
   "nbconvert_exporter": "python",
   "pygments_lexer": "ipython3",
   "version": "3.11.9"
  },
  "orig_nbformat": 4
 },
 "nbformat": 4,
 "nbformat_minor": 2
}
