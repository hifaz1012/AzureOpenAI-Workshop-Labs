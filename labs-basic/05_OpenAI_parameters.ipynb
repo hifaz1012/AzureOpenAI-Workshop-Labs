{
 "cells": [
  {
   "cell_type": "code",
   "execution_count": 1,
   "metadata": {},
   "outputs": [],
   "source": [
    "import re\n",
    "import requests\n",
    "import sys\n",
    "import os\n",
    "from openai import AzureOpenAI\n",
    "import tiktoken\n",
    "from dotenv import load_dotenv\n",
    "load_dotenv(\"azure.env\")\n",
    "\n",
    "client = AzureOpenAI(\n",
    "  azure_endpoint = os.getenv(\"AZURE_OPENAI_ENDPOINT\"), \n",
    "  api_key=os.getenv(\"AZURE_OPENAI_KEY\"),  \n",
    "  api_version=\"2024-02-15-preview\"\n",
    ")\n",
    "\n",
    "CHAT_COMPLETIONS_MODEL = os.getenv('CHAT_COMPLETION_MODEL')\n",
    "SEED=123"
   ]
  },
  {
   "attachments": {},
   "cell_type": "markdown",
   "metadata": {},
   "source": [
    "# temperature\n",
    "\n",
    "Defaults to 1\n",
    "\n",
    "What sampling temperature to use. Higher values means the model will take more risks. Try 0.9 for more creative applications, and 0 (argmax sampling) for ones with a well-defined answer.\n",
    "\n",
    "We generally recommend altering this or top_p but not both."
   ]
  },
  {
   "cell_type": "code",
   "execution_count": 2,
   "metadata": {},
   "outputs": [],
   "source": [
    "def call_openai(num_times, prompt, temperature=0.75, use_seed=False):\n",
    "    for i in range(num_times):\n",
    "        if use_seed:\n",
    "            response = client.chat.completions.create(\n",
    "                model=CHAT_COMPLETIONS_MODEL,\n",
    "                messages = [{\"role\":\"system\", \"content\":\"You are a helpful assistant.\"},\n",
    "                            {\"role\":\"user\",\"content\": prompt}],\n",
    "                    max_tokens=60,\n",
    "                    seed=SEED,\n",
    "                    temperature = temperature\n",
    "            )\n",
    "        else:\n",
    "            response = client.chat.completions.create(\n",
    "                model=CHAT_COMPLETIONS_MODEL,\n",
    "                messages = [{\"role\":\"system\", \"content\":\"You are a helpful assistant.\"},\n",
    "                            {\"role\":\"user\",\"content\": prompt}],\n",
    "                    max_tokens=60,\n",
    "                    temperature = temperature\n",
    "            )\n",
    "        print(response.choices[0].message.content)"
   ]
  },
  {
   "cell_type": "code",
   "execution_count": 3,
   "metadata": {},
   "outputs": [
    {
     "name": "stdout",
     "output_type": "stream",
     "text": [
      "The best pet really depends on your lifestyle, preferences, and living situation. Here are a few popular options, along with some of their benefits:\n",
      "\n",
      "1. **Dogs**: Loyal, protective, and great companions. They require regular exercise and social interaction.\n",
      "2. **Cats**: Independent, low\n",
      "The best pet is a matter of personal preference and depends on various factors such as lifestyle, living situation, and personal interests. Here are a few popular options:\n",
      "\n",
      "1. **Dog**: Known for their loyalty and companionship. They require regular exercise and attention.\n",
      "2. **Cat**: More independent\n",
      "The best pet really depends on your lifestyle, preferences, and what you're looking for in a companion. Here are a few popular options and some of their key characteristics:\n",
      "\n",
      "1. **Dog**: Known for their loyalty and companionship, dogs are great for active individuals or families. They require regular exercise,\n",
      "The best pet depends on individual preferences, lifestyle, and living situation. Here are a few options with their benefits:\n",
      "\n",
      "1. **Dogs**: Loyal and affectionate, great for active individuals or families.\n",
      "2. **Cats**: Independent and low-maintenance, ideal for people with busy schedules.\n",
      "3\n"
     ]
    }
   ],
   "source": [
    "# Without seed and temperature, the response is different each time\n",
    "call_openai(4, 'The best pet is a ')"
   ]
  },
  {
   "cell_type": "code",
   "execution_count": 4,
   "metadata": {},
   "outputs": [
    {
     "name": "stdout",
     "output_type": "stream",
     "text": [
      "The best pet can vary greatly depending on individual preferences, lifestyle, and living situation. Here are a few popular options, each with their own unique benefits:\n",
      "\n",
      "1. **Dogs**: Known for their loyalty and companionship, dogs can be great for active individuals or families. They require regular exercise, training\n",
      "The best pet can vary greatly depending on individual preferences, lifestyle, and living situation. Here are a few popular options, each with their own unique benefits:\n",
      "\n",
      "1. **Dogs**: Known for their loyalty and companionship, dogs can be great for active individuals or families. They require regular exercise, training\n",
      "The best pet can vary greatly depending on individual preferences, lifestyle, and living situation. Here are a few popular options, each with their own unique benefits:\n",
      "\n",
      "1. **Dogs**: Known for their loyalty and companionship, dogs can be great for active individuals or families. They require regular exercise, training\n",
      "The best pet can vary greatly depending on individual preferences, lifestyle, and living situation. Here are a few popular options, each with their own unique benefits:\n",
      "\n",
      "1. **Dogs**: Known for their loyalty and companionship, dogs can be great for active individuals or families. They require regular exercise, training\n"
     ]
    }
   ],
   "source": [
    "# Now using a seed and 0 temperature, the response is the much more consisitent\n",
    "call_openai(4, 'The best pet is a ', temperature = 0, use_seed=True)"
   ]
  },
  {
   "cell_type": "code",
   "execution_count": 5,
   "metadata": {},
   "outputs": [
    {
     "name": "stdout",
     "output_type": "stream",
     "text": [
      "The best pet can vary depending on an individual's lifestyle, preferences, and circumstances. Here are some popular options based on different needs:\n",
      "\n",
      "1. **Dogs**: Great companions, loyal, and can be very active. They require exercise and attention.\n",
      "2. **Cats**: Independent, low-maintenance\n",
      "Choosing the best pet depends on individual preferences, lifestyle, and circumstances. Here are a few popular options:\n",
      "\n",
      "1. **Dogs**: Great for companionship, loyalty, and activity. They require regular exercise, social interaction, and training.\n",
      "\n",
      "2. **Cats**: Independent, low-maintenance, and\n"
     ]
    }
   ],
   "source": [
    "response = client.chat.completions.create(\n",
    "            model=CHAT_COMPLETIONS_MODEL,\n",
    "            messages = [{\"role\":\"system\", \"content\":\"You are a helpful assistant.\"},\n",
    "                        {\"role\":\"user\",\"content\": \"The best pet is a \"}],\n",
    "                max_tokens=60,\n",
    "                n=2\n",
    "        )\n",
    "\n",
    "for c in response.choices:\n",
    "    print(c.message.content)"
   ]
  },
  {
   "cell_type": "markdown",
   "metadata": {},
   "source": []
  }
 ],
 "metadata": {
  "kernelspec": {
   "display_name": "azureml_py310_sdkv2",
   "language": "python",
   "name": "python3"
  },
  "language_info": {
   "codemirror_mode": {
    "name": "ipython",
    "version": 3
   },
   "file_extension": ".py",
   "mimetype": "text/x-python",
   "name": "python",
   "nbconvert_exporter": "python",
   "pygments_lexer": "ipython3",
   "version": "3.11.9"
  },
  "orig_nbformat": 4,
  "vscode": {
   "interpreter": {
    "hash": "2139c70ac98f3202d028164a545621647e07f47fd6f5d8ac55cf952bf7c15ed1"
   }
  }
 },
 "nbformat": 4,
 "nbformat_minor": 2
}
