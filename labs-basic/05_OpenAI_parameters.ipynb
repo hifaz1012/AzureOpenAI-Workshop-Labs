{
 "cells": [
  {
   "cell_type": "code",
   "execution_count": 1,
   "metadata": {},
   "outputs": [],
   "source": [
    "import re\n",
    "import requests\n",
    "import sys\n",
    "import os\n",
    "from openai import AzureOpenAI\n",
    "import tiktoken\n",
    "from dotenv import load_dotenv\n",
    "load_dotenv(\"azure.env\")\n",
    "\n",
    "client = AzureOpenAI(\n",
    "  azure_endpoint = os.getenv(\"AZURE_OPENAI_ENDPOINT\"), \n",
    "  api_key=os.getenv(\"AZURE_OPENAI_KEY\"),  \n",
    "  api_version=\"2024-02-15-preview\"\n",
    ")\n",
    "\n",
    "CHAT_COMPLETIONS_MODEL = os.getenv('CHAT_COMPLETION_MODEL')\n",
    "SEED=123"
   ]
  },
  {
   "attachments": {},
   "cell_type": "markdown",
   "metadata": {},
   "source": [
    "# temperature\n",
    "\n",
    "Defaults to 1\n",
    "\n",
    "What sampling temperature to use. Higher values means the model will take more risks. Try 0.9 for more creative applications, and 0 (argmax sampling) for ones with a well-defined answer.\n",
    "\n",
    "We generally recommend altering this or top_p but not both."
   ]
  },
  {
   "cell_type": "code",
   "execution_count": 2,
   "metadata": {},
   "outputs": [],
   "source": [
    "def call_openai(num_times, prompt, temperature=0.75, use_seed=False):\n",
    "    for i in range(num_times):\n",
    "        if use_seed:\n",
    "            response = client.chat.completions.create(\n",
    "                model=CHAT_COMPLETIONS_MODEL,\n",
    "                messages = [{\"role\":\"system\", \"content\":\"You are a helpful assistant.\"},\n",
    "                            {\"role\":\"user\",\"content\": prompt}],\n",
    "                    max_tokens=60,\n",
    "                    seed=SEED,\n",
    "                    temperature = temperature\n",
    "            )\n",
    "        else:\n",
    "            response = client.chat.completions.create(\n",
    "                model=CHAT_COMPLETIONS_MODEL,\n",
    "                messages = [{\"role\":\"system\", \"content\":\"You are a helpful assistant.\"},\n",
    "                            {\"role\":\"user\",\"content\": prompt}],\n",
    "                    max_tokens=60,\n",
    "                    temperature = temperature\n",
    "            )\n",
    "        print(response.choices[0].message.content)"
   ]
  },
  {
   "cell_type": "code",
   "execution_count": 5,
   "metadata": {},
   "outputs": [
    {
     "name": "stdout",
     "output_type": "stream",
     "text": [
      "The best pet can vary greatly depending on your lifestyle, preferences, and living situation. Here are some popular options, each with its own advantages:\n",
      "\n",
      "1. **Dog**: Known for their loyalty and companionship, dogs can be great for active individuals or families. They do require regular exercise and attention.\n",
      "\n",
      "The answer to what the best pet is can vary greatly depending on individual preferences, lifestyle, and circumstances. Here are a few common pets and some of their benefits to help you decide:\n",
      "\n",
      "1. **Dog**: Known for their loyalty and companionship, dogs can be great for active individuals or families.\n",
      "The best pet is a subjective choice that depends on your lifestyle, preferences, and needs. Here are some considerations for various popular pets:\n",
      "\n",
      "1. **Dogs**: Loyal and affectionate, they can provide companionship and security. They require regular exercise, training, and social interaction.\n",
      "\n",
      "2. **Cats**\n",
      "The best pet really depends on your lifestyle, preferences, and the amount of time and resources you can dedicate to caring for an animal. Here are some popular options:\n",
      "\n",
      "1. **Dog**: Great for people who have a lot of time for walks, play, and training. They are loyal and\n"
     ]
    }
   ],
   "source": [
    "# Without seed and temperature, the response is different each time\n",
    "call_openai(4, 'The best pet is a ')"
   ]
  },
  {
   "cell_type": "code",
   "execution_count": 6,
   "metadata": {},
   "outputs": [
    {
     "name": "stdout",
     "output_type": "stream",
     "text": [
      "The best pet can vary greatly depending on individual preferences, lifestyle, and living situation. Here are a few popular options, each with their own unique benefits:\n",
      "\n",
      "1. **Dogs**: Known for their loyalty and companionship, dogs can be great for active individuals or families. They require regular exercise, training\n",
      "The best pet can vary greatly depending on individual preferences, lifestyle, and living situation. Here are a few popular options, each with their own unique benefits:\n",
      "\n",
      "1. **Dogs**: Known for their loyalty and companionship, dogs can be great for active individuals or families. They require regular exercise, training\n",
      "The best pet can vary greatly depending on individual preferences, lifestyle, and living situation. Here are a few popular options, each with their own unique benefits:\n",
      "\n",
      "1. **Dogs**: Known for their loyalty and companionship, dogs can be great for active individuals or families. They require regular exercise, training\n",
      "The best pet can vary greatly depending on individual preferences, lifestyle, and living situation. Here are a few popular options, each with their own unique benefits:\n",
      "\n",
      "1. **Dogs**: Known for their loyalty and companionship, dogs can be great for active individuals or families. They require regular exercise, training\n"
     ]
    }
   ],
   "source": [
    "# Now using a seed and 0 temperature, the response is the much more consisitent\n",
    "call_openai(4, 'The best pet is a ', temperature = 0, use_seed=True)"
   ]
  },
  {
   "cell_type": "code",
   "execution_count": 17,
   "metadata": {},
   "outputs": [
    {
     "name": "stdout",
     "output_type": "stream",
     "text": [
      "The best pet for someone can vary depending on their lifestyle, preferences, and living situation. Some people might prefer a dog for companionship and outdoor activities, while others might prefer a cat for low-maintenance companionship. Other options, such as birds, fish, or small mammals, could also make\n",
      "It depends on your lifestyle and what you're looking for in a pet. Some people might prefer dogs for their loyalty and companionship, while others might prefer cats for their independence and low-maintenance care. Fish, birds, reptiles, and small mammals are also popular choices for different reasons. It\n"
     ]
    }
   ],
   "source": [
    "response = client.chat.completions.create(\n",
    "            model=CHAT_COMPLETIONS_MODEL,\n",
    "            messages = [{\"role\":\"system\", \"content\":\"You are a helpful assistant.\"},\n",
    "                        {\"role\":\"user\",\"content\": \"The best pet is a \"}],\n",
    "                max_tokens=60,\n",
    "                n=2\n",
    "        )\n",
    "\n",
    "for c in response.choices:\n",
    "    print(c.message.content)"
   ]
  },
  {
   "cell_type": "markdown",
   "metadata": {},
   "source": []
  }
 ],
 "metadata": {
  "kernelspec": {
   "display_name": "azureml_py310_sdkv2",
   "language": "python",
   "name": "python3"
  },
  "language_info": {
   "codemirror_mode": {
    "name": "ipython",
    "version": 3
   },
   "file_extension": ".py",
   "mimetype": "text/x-python",
   "name": "python",
   "nbconvert_exporter": "python",
   "pygments_lexer": "ipython3",
   "version": "3.11.9"
  },
  "orig_nbformat": 4,
  "vscode": {
   "interpreter": {
    "hash": "2139c70ac98f3202d028164a545621647e07f47fd6f5d8ac55cf952bf7c15ed1"
   }
  }
 },
 "nbformat": 4,
 "nbformat_minor": 2
}
