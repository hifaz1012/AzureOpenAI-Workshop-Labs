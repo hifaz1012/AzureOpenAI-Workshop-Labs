{
 "cells": [
  {
   "cell_type": "code",
   "execution_count": 8,
   "metadata": {},
   "outputs": [
    {
     "name": "stdout",
     "output_type": "stream",
     "text": [
      "Requirement already satisfied: promptflow-evals in c:\\users\\hifazhassan\\workspace\\workshops\\azureopenai-workshop-labs-1\\.venv\\lib\\site-packages (0.3.1)\n",
      "Requirement already satisfied: aiohttp_retry>=2.8.3 in c:\\users\\hifazhassan\\workspace\\workshops\\azureopenai-workshop-labs-1\\.venv\\lib\\site-packages (from promptflow-evals) (2.8.3)\n",
      "Requirement already satisfied: jsonpath_ng>=1.5.0 in c:\\users\\hifazhassan\\workspace\\workshops\\azureopenai-workshop-labs-1\\.venv\\lib\\site-packages (from promptflow-evals) (1.6.1)\n",
      "Requirement already satisfied: numpy>=1.22 in c:\\users\\hifazhassan\\workspace\\workshops\\azureopenai-workshop-labs-1\\.venv\\lib\\site-packages (from promptflow-evals) (1.26.4)\n",
      "Requirement already satisfied: promptflow-core<2.0.0,>=1.13.0 in c:\\users\\hifazhassan\\workspace\\workshops\\azureopenai-workshop-labs-1\\.venv\\lib\\site-packages (from promptflow-evals) (1.13.0)\n",
      "Requirement already satisfied: promptflow-devkit<2.0.0,>=1.13.0 in c:\\users\\hifazhassan\\workspace\\workshops\\azureopenai-workshop-labs-1\\.venv\\lib\\site-packages (from promptflow-evals) (1.13.0)\n",
      "Requirement already satisfied: urllib3>1.26.17 in c:\\users\\hifazhassan\\workspace\\workshops\\azureopenai-workshop-labs-1\\.venv\\lib\\site-packages (from promptflow-evals) (2.2.2)\n",
      "Requirement already satisfied: websocket-client>=1.2.0 in c:\\users\\hifazhassan\\workspace\\workshops\\azureopenai-workshop-labs-1\\.venv\\lib\\site-packages (from promptflow-evals) (1.8.0)\n",
      "Requirement already satisfied: aiohttp in c:\\users\\hifazhassan\\workspace\\workshops\\azureopenai-workshop-labs-1\\.venv\\lib\\site-packages (from aiohttp_retry>=2.8.3->promptflow-evals) (3.9.5)\n",
      "Requirement already satisfied: ply in c:\\users\\hifazhassan\\workspace\\workshops\\azureopenai-workshop-labs-1\\.venv\\lib\\site-packages (from jsonpath_ng>=1.5.0->promptflow-evals) (3.11)\n",
      "Requirement already satisfied: docutils!=0.21.post1 in c:\\users\\hifazhassan\\workspace\\workshops\\azureopenai-workshop-labs-1\\.venv\\lib\\site-packages (from promptflow-core<2.0.0,>=1.13.0->promptflow-evals) (0.21.2)\n",
      "Requirement already satisfied: fastapi<1.0.0,>=0.109.0 in c:\\users\\hifazhassan\\workspace\\workshops\\azureopenai-workshop-labs-1\\.venv\\lib\\site-packages (from promptflow-core<2.0.0,>=1.13.0->promptflow-evals) (0.111.1)\n",
      "Requirement already satisfied: filetype>=1.2.0 in c:\\users\\hifazhassan\\workspace\\workshops\\azureopenai-workshop-labs-1\\.venv\\lib\\site-packages (from promptflow-core<2.0.0,>=1.13.0->promptflow-evals) (1.2.0)\n",
      "Requirement already satisfied: flask<4.0.0,>=2.2.3 in c:\\users\\hifazhassan\\workspace\\workshops\\azureopenai-workshop-labs-1\\.venv\\lib\\site-packages (from promptflow-core<2.0.0,>=1.13.0->promptflow-evals) (3.0.3)\n",
      "Requirement already satisfied: jsonschema<5.0.0,>=4.0.0 in c:\\users\\hifazhassan\\workspace\\workshops\\azureopenai-workshop-labs-1\\.venv\\lib\\site-packages (from promptflow-core<2.0.0,>=1.13.0->promptflow-evals) (4.23.0)\n",
      "Requirement already satisfied: promptflow-tracing==1.13.0 in c:\\users\\hifazhassan\\workspace\\workshops\\azureopenai-workshop-labs-1\\.venv\\lib\\site-packages (from promptflow-core<2.0.0,>=1.13.0->promptflow-evals) (1.13.0)\n",
      "Requirement already satisfied: psutil in c:\\users\\hifazhassan\\workspace\\workshops\\azureopenai-workshop-labs-1\\.venv\\lib\\site-packages (from promptflow-core<2.0.0,>=1.13.0->promptflow-evals) (5.9.8)\n",
      "Requirement already satisfied: python-dateutil<3.0.0,>=2.1.0 in c:\\users\\hifazhassan\\workspace\\workshops\\azureopenai-workshop-labs-1\\.venv\\lib\\site-packages (from promptflow-core<2.0.0,>=1.13.0->promptflow-evals) (2.9.0.post0)\n",
      "Requirement already satisfied: ruamel.yaml<1.0.0,>=0.17.10 in c:\\users\\hifazhassan\\workspace\\workshops\\azureopenai-workshop-labs-1\\.venv\\lib\\site-packages (from promptflow-core<2.0.0,>=1.13.0->promptflow-evals) (0.18.6)\n",
      "Requirement already satisfied: openai in c:\\users\\hifazhassan\\workspace\\workshops\\azureopenai-workshop-labs-1\\.venv\\lib\\site-packages (from promptflow-tracing==1.13.0->promptflow-core<2.0.0,>=1.13.0->promptflow-evals) (1.37.0)\n",
      "Requirement already satisfied: opentelemetry-sdk<2.0.0,>=1.22.0 in c:\\users\\hifazhassan\\workspace\\workshops\\azureopenai-workshop-labs-1\\.venv\\lib\\site-packages (from promptflow-tracing==1.13.0->promptflow-core<2.0.0,>=1.13.0->promptflow-evals) (1.25.0)\n",
      "Requirement already satisfied: tiktoken>=0.4.0 in c:\\users\\hifazhassan\\workspace\\workshops\\azureopenai-workshop-labs-1\\.venv\\lib\\site-packages (from promptflow-tracing==1.13.0->promptflow-core<2.0.0,>=1.13.0->promptflow-evals) (0.7.0)\n",
      "Requirement already satisfied: argcomplete>=3.2.3 in c:\\users\\hifazhassan\\workspace\\workshops\\azureopenai-workshop-labs-1\\.venv\\lib\\site-packages (from promptflow-devkit<2.0.0,>=1.13.0->promptflow-evals) (3.4.0)\n",
      "Requirement already satisfied: azure-monitor-opentelemetry-exporter<2.0.0,>=1.0.0b21 in c:\\users\\hifazhassan\\workspace\\workshops\\azureopenai-workshop-labs-1\\.venv\\lib\\site-packages (from promptflow-devkit<2.0.0,>=1.13.0->promptflow-evals) (1.0.0b27)\n",
      "Requirement already satisfied: colorama<0.5.0,>=0.4.6 in c:\\users\\hifazhassan\\workspace\\workshops\\azureopenai-workshop-labs-1\\.venv\\lib\\site-packages (from promptflow-devkit<2.0.0,>=1.13.0->promptflow-evals) (0.4.6)\n",
      "Requirement already satisfied: cryptography>=42.0.4 in c:\\users\\hifazhassan\\workspace\\workshops\\azureopenai-workshop-labs-1\\.venv\\lib\\site-packages (from promptflow-devkit<2.0.0,>=1.13.0->promptflow-evals) (43.0.0)\n",
      "Requirement already satisfied: filelock<4.0.0,>=3.4.0 in c:\\users\\hifazhassan\\workspace\\workshops\\azureopenai-workshop-labs-1\\.venv\\lib\\site-packages (from promptflow-devkit<2.0.0,>=1.13.0->promptflow-evals) (3.15.4)\n",
      "Requirement already satisfied: flask-cors<5.0.0,>=4.0.0 in c:\\users\\hifazhassan\\workspace\\workshops\\azureopenai-workshop-labs-1\\.venv\\lib\\site-packages (from promptflow-devkit<2.0.0,>=1.13.0->promptflow-evals) (4.0.1)\n",
      "Requirement already satisfied: flask-restx<2.0.0,>=1.2.0 in c:\\users\\hifazhassan\\workspace\\workshops\\azureopenai-workshop-labs-1\\.venv\\lib\\site-packages (from promptflow-devkit<2.0.0,>=1.13.0->promptflow-evals) (1.3.0)\n",
      "Requirement already satisfied: gitpython<4.0.0,>=3.1.24 in c:\\users\\hifazhassan\\workspace\\workshops\\azureopenai-workshop-labs-1\\.venv\\lib\\site-packages (from promptflow-devkit<2.0.0,>=1.13.0->promptflow-evals) (3.1.43)\n",
      "Requirement already satisfied: httpx>=0.25.1 in c:\\users\\hifazhassan\\workspace\\workshops\\azureopenai-workshop-labs-1\\.venv\\lib\\site-packages (from promptflow-devkit<2.0.0,>=1.13.0->promptflow-evals) (0.27.0)\n",
      "Requirement already satisfied: keyring<25.0.0,>=24.2.0 in c:\\users\\hifazhassan\\workspace\\workshops\\azureopenai-workshop-labs-1\\.venv\\lib\\site-packages (from promptflow-devkit<2.0.0,>=1.13.0->promptflow-evals) (24.3.1)\n",
      "Requirement already satisfied: marshmallow<4.0.0,>=3.5 in c:\\users\\hifazhassan\\workspace\\workshops\\azureopenai-workshop-labs-1\\.venv\\lib\\site-packages (from promptflow-devkit<2.0.0,>=1.13.0->promptflow-evals) (3.21.3)\n",
      "Requirement already satisfied: opentelemetry-exporter-otlp-proto-http<2.0.0,>=1.22.0 in c:\\users\\hifazhassan\\workspace\\workshops\\azureopenai-workshop-labs-1\\.venv\\lib\\site-packages (from promptflow-devkit<2.0.0,>=1.13.0->promptflow-evals) (1.25.0)\n",
      "Requirement already satisfied: pandas<3.0.0,>=1.5.3 in c:\\users\\hifazhassan\\workspace\\workshops\\azureopenai-workshop-labs-1\\.venv\\lib\\site-packages (from promptflow-devkit<2.0.0,>=1.13.0->promptflow-evals) (2.2.2)\n",
      "Requirement already satisfied: pillow<11.0.0,>=10.1.0 in c:\\users\\hifazhassan\\workspace\\workshops\\azureopenai-workshop-labs-1\\.venv\\lib\\site-packages (from promptflow-devkit<2.0.0,>=1.13.0->promptflow-evals) (10.4.0)\n",
      "Requirement already satisfied: pydash<8.0.0,>=6.0.0 in c:\\users\\hifazhassan\\workspace\\workshops\\azureopenai-workshop-labs-1\\.venv\\lib\\site-packages (from promptflow-devkit<2.0.0,>=1.13.0->promptflow-evals) (7.0.7)\n",
      "Requirement already satisfied: python-dotenv<2.0.0,>=1.0.0 in c:\\users\\hifazhassan\\workspace\\workshops\\azureopenai-workshop-labs-1\\.venv\\lib\\site-packages (from promptflow-devkit<2.0.0,>=1.13.0->promptflow-evals) (1.0.1)\n",
      "Requirement already satisfied: pywin32 in c:\\users\\hifazhassan\\workspace\\workshops\\azureopenai-workshop-labs-1\\.venv\\lib\\site-packages (from promptflow-devkit<2.0.0,>=1.13.0->promptflow-evals) (306)\n",
      "Requirement already satisfied: sqlalchemy<3.0.0,>=1.4.48 in c:\\users\\hifazhassan\\workspace\\workshops\\azureopenai-workshop-labs-1\\.venv\\lib\\site-packages (from promptflow-devkit<2.0.0,>=1.13.0->promptflow-evals) (2.0.31)\n",
      "Requirement already satisfied: strictyaml<2.0.0,>=1.5.0 in c:\\users\\hifazhassan\\workspace\\workshops\\azureopenai-workshop-labs-1\\.venv\\lib\\site-packages (from promptflow-devkit<2.0.0,>=1.13.0->promptflow-evals) (1.7.3)\n",
      "Requirement already satisfied: tabulate<1.0.0,>=0.9.0 in c:\\users\\hifazhassan\\workspace\\workshops\\azureopenai-workshop-labs-1\\.venv\\lib\\site-packages (from promptflow-devkit<2.0.0,>=1.13.0->promptflow-evals) (0.9.0)\n",
      "Requirement already satisfied: waitress<3.0.0,>=2.1.2 in c:\\users\\hifazhassan\\workspace\\workshops\\azureopenai-workshop-labs-1\\.venv\\lib\\site-packages (from promptflow-devkit<2.0.0,>=1.13.0->promptflow-evals) (2.1.2)\n",
      "Requirement already satisfied: azure-core<2.0.0,>=1.28.0 in c:\\users\\hifazhassan\\workspace\\workshops\\azureopenai-workshop-labs-1\\.venv\\lib\\site-packages (from azure-monitor-opentelemetry-exporter<2.0.0,>=1.0.0b21->promptflow-devkit<2.0.0,>=1.13.0->promptflow-evals) (1.30.2)\n",
      "Requirement already satisfied: fixedint==0.1.6 in c:\\users\\hifazhassan\\workspace\\workshops\\azureopenai-workshop-labs-1\\.venv\\lib\\site-packages (from azure-monitor-opentelemetry-exporter<2.0.0,>=1.0.0b21->promptflow-devkit<2.0.0,>=1.13.0->promptflow-evals) (0.1.6)\n",
      "Requirement already satisfied: msrest>=0.6.10 in c:\\users\\hifazhassan\\workspace\\workshops\\azureopenai-workshop-labs-1\\.venv\\lib\\site-packages (from azure-monitor-opentelemetry-exporter<2.0.0,>=1.0.0b21->promptflow-devkit<2.0.0,>=1.13.0->promptflow-evals) (0.7.1)\n",
      "Requirement already satisfied: opentelemetry-api~=1.21 in c:\\users\\hifazhassan\\workspace\\workshops\\azureopenai-workshop-labs-1\\.venv\\lib\\site-packages (from azure-monitor-opentelemetry-exporter<2.0.0,>=1.0.0b21->promptflow-devkit<2.0.0,>=1.13.0->promptflow-evals) (1.25.0)\n",
      "Requirement already satisfied: cffi>=1.12 in c:\\users\\hifazhassan\\workspace\\workshops\\azureopenai-workshop-labs-1\\.venv\\lib\\site-packages (from cryptography>=42.0.4->promptflow-devkit<2.0.0,>=1.13.0->promptflow-evals) (1.16.0)\n",
      "Requirement already satisfied: starlette<0.38.0,>=0.37.2 in c:\\users\\hifazhassan\\workspace\\workshops\\azureopenai-workshop-labs-1\\.venv\\lib\\site-packages (from fastapi<1.0.0,>=0.109.0->promptflow-core<2.0.0,>=1.13.0->promptflow-evals) (0.37.2)\n",
      "Requirement already satisfied: pydantic!=1.8,!=1.8.1,!=2.0.0,!=2.0.1,!=2.1.0,<3.0.0,>=1.7.4 in c:\\users\\hifazhassan\\workspace\\workshops\\azureopenai-workshop-labs-1\\.venv\\lib\\site-packages (from fastapi<1.0.0,>=0.109.0->promptflow-core<2.0.0,>=1.13.0->promptflow-evals) (2.8.2)\n",
      "Requirement already satisfied: typing-extensions>=4.8.0 in c:\\users\\hifazhassan\\workspace\\workshops\\azureopenai-workshop-labs-1\\.venv\\lib\\site-packages (from fastapi<1.0.0,>=0.109.0->promptflow-core<2.0.0,>=1.13.0->promptflow-evals) (4.12.2)\n",
      "Requirement already satisfied: fastapi-cli>=0.0.2 in c:\\users\\hifazhassan\\workspace\\workshops\\azureopenai-workshop-labs-1\\.venv\\lib\\site-packages (from fastapi<1.0.0,>=0.109.0->promptflow-core<2.0.0,>=1.13.0->promptflow-evals) (0.0.4)\n",
      "Requirement already satisfied: jinja2>=2.11.2 in c:\\users\\hifazhassan\\workspace\\workshops\\azureopenai-workshop-labs-1\\.venv\\lib\\site-packages (from fastapi<1.0.0,>=0.109.0->promptflow-core<2.0.0,>=1.13.0->promptflow-evals) (3.1.4)\n",
      "Requirement already satisfied: python-multipart>=0.0.7 in c:\\users\\hifazhassan\\workspace\\workshops\\azureopenai-workshop-labs-1\\.venv\\lib\\site-packages (from fastapi<1.0.0,>=0.109.0->promptflow-core<2.0.0,>=1.13.0->promptflow-evals) (0.0.9)\n",
      "Requirement already satisfied: email_validator>=2.0.0 in c:\\users\\hifazhassan\\workspace\\workshops\\azureopenai-workshop-labs-1\\.venv\\lib\\site-packages (from fastapi<1.0.0,>=0.109.0->promptflow-core<2.0.0,>=1.13.0->promptflow-evals) (2.2.0)\n",
      "Requirement already satisfied: uvicorn>=0.12.0 in c:\\users\\hifazhassan\\workspace\\workshops\\azureopenai-workshop-labs-1\\.venv\\lib\\site-packages (from uvicorn[standard]>=0.12.0->fastapi<1.0.0,>=0.109.0->promptflow-core<2.0.0,>=1.13.0->promptflow-evals) (0.30.3)\n",
      "Requirement already satisfied: Werkzeug>=3.0.0 in c:\\users\\hifazhassan\\workspace\\workshops\\azureopenai-workshop-labs-1\\.venv\\lib\\site-packages (from flask<4.0.0,>=2.2.3->promptflow-core<2.0.0,>=1.13.0->promptflow-evals) (3.0.3)\n",
      "Requirement already satisfied: itsdangerous>=2.1.2 in c:\\users\\hifazhassan\\workspace\\workshops\\azureopenai-workshop-labs-1\\.venv\\lib\\site-packages (from flask<4.0.0,>=2.2.3->promptflow-core<2.0.0,>=1.13.0->promptflow-evals) (2.2.0)\n",
      "Requirement already satisfied: click>=8.1.3 in c:\\users\\hifazhassan\\workspace\\workshops\\azureopenai-workshop-labs-1\\.venv\\lib\\site-packages (from flask<4.0.0,>=2.2.3->promptflow-core<2.0.0,>=1.13.0->promptflow-evals) (8.1.7)\n",
      "Requirement already satisfied: blinker>=1.6.2 in c:\\users\\hifazhassan\\workspace\\workshops\\azureopenai-workshop-labs-1\\.venv\\lib\\site-packages (from flask<4.0.0,>=2.2.3->promptflow-core<2.0.0,>=1.13.0->promptflow-evals) (1.8.2)\n",
      "Requirement already satisfied: aniso8601>=0.82 in c:\\users\\hifazhassan\\workspace\\workshops\\azureopenai-workshop-labs-1\\.venv\\lib\\site-packages (from flask-restx<2.0.0,>=1.2.0->promptflow-devkit<2.0.0,>=1.13.0->promptflow-evals) (9.0.1)\n",
      "Requirement already satisfied: pytz in c:\\users\\hifazhassan\\workspace\\workshops\\azureopenai-workshop-labs-1\\.venv\\lib\\site-packages (from flask-restx<2.0.0,>=1.2.0->promptflow-devkit<2.0.0,>=1.13.0->promptflow-evals) (2024.1)\n",
      "Requirement already satisfied: importlib-resources in c:\\users\\hifazhassan\\workspace\\workshops\\azureopenai-workshop-labs-1\\.venv\\lib\\site-packages (from flask-restx<2.0.0,>=1.2.0->promptflow-devkit<2.0.0,>=1.13.0->promptflow-evals) (6.4.0)\n",
      "Requirement already satisfied: gitdb<5,>=4.0.1 in c:\\users\\hifazhassan\\workspace\\workshops\\azureopenai-workshop-labs-1\\.venv\\lib\\site-packages (from gitpython<4.0.0,>=3.1.24->promptflow-devkit<2.0.0,>=1.13.0->promptflow-evals) (4.0.11)\n",
      "Requirement already satisfied: anyio in c:\\users\\hifazhassan\\workspace\\workshops\\azureopenai-workshop-labs-1\\.venv\\lib\\site-packages (from httpx>=0.25.1->promptflow-devkit<2.0.0,>=1.13.0->promptflow-evals) (4.4.0)\n",
      "Requirement already satisfied: certifi in c:\\users\\hifazhassan\\workspace\\workshops\\azureopenai-workshop-labs-1\\.venv\\lib\\site-packages (from httpx>=0.25.1->promptflow-devkit<2.0.0,>=1.13.0->promptflow-evals) (2024.7.4)\n",
      "Requirement already satisfied: httpcore==1.* in c:\\users\\hifazhassan\\workspace\\workshops\\azureopenai-workshop-labs-1\\.venv\\lib\\site-packages (from httpx>=0.25.1->promptflow-devkit<2.0.0,>=1.13.0->promptflow-evals) (1.0.5)\n",
      "Requirement already satisfied: idna in c:\\users\\hifazhassan\\workspace\\workshops\\azureopenai-workshop-labs-1\\.venv\\lib\\site-packages (from httpx>=0.25.1->promptflow-devkit<2.0.0,>=1.13.0->promptflow-evals) (3.7)\n",
      "Requirement already satisfied: sniffio in c:\\users\\hifazhassan\\workspace\\workshops\\azureopenai-workshop-labs-1\\.venv\\lib\\site-packages (from httpx>=0.25.1->promptflow-devkit<2.0.0,>=1.13.0->promptflow-evals) (1.3.1)\n",
      "Requirement already satisfied: h11<0.15,>=0.13 in c:\\users\\hifazhassan\\workspace\\workshops\\azureopenai-workshop-labs-1\\.venv\\lib\\site-packages (from httpcore==1.*->httpx>=0.25.1->promptflow-devkit<2.0.0,>=1.13.0->promptflow-evals) (0.14.0)\n",
      "Requirement already satisfied: attrs>=22.2.0 in c:\\users\\hifazhassan\\workspace\\workshops\\azureopenai-workshop-labs-1\\.venv\\lib\\site-packages (from jsonschema<5.0.0,>=4.0.0->promptflow-core<2.0.0,>=1.13.0->promptflow-evals) (23.2.0)\n",
      "Requirement already satisfied: jsonschema-specifications>=2023.03.6 in c:\\users\\hifazhassan\\workspace\\workshops\\azureopenai-workshop-labs-1\\.venv\\lib\\site-packages (from jsonschema<5.0.0,>=4.0.0->promptflow-core<2.0.0,>=1.13.0->promptflow-evals) (2023.12.1)\n",
      "Requirement already satisfied: referencing>=0.28.4 in c:\\users\\hifazhassan\\workspace\\workshops\\azureopenai-workshop-labs-1\\.venv\\lib\\site-packages (from jsonschema<5.0.0,>=4.0.0->promptflow-core<2.0.0,>=1.13.0->promptflow-evals) (0.35.1)\n",
      "Requirement already satisfied: rpds-py>=0.7.1 in c:\\users\\hifazhassan\\workspace\\workshops\\azureopenai-workshop-labs-1\\.venv\\lib\\site-packages (from jsonschema<5.0.0,>=4.0.0->promptflow-core<2.0.0,>=1.13.0->promptflow-evals) (0.19.0)\n",
      "Requirement already satisfied: jaraco.classes in c:\\users\\hifazhassan\\workspace\\workshops\\azureopenai-workshop-labs-1\\.venv\\lib\\site-packages (from keyring<25.0.0,>=24.2.0->promptflow-devkit<2.0.0,>=1.13.0->promptflow-evals) (3.4.0)\n",
      "Requirement already satisfied: importlib-metadata>=4.11.4 in c:\\users\\hifazhassan\\workspace\\workshops\\azureopenai-workshop-labs-1\\.venv\\lib\\site-packages (from keyring<25.0.0,>=24.2.0->promptflow-devkit<2.0.0,>=1.13.0->promptflow-evals) (7.1.0)\n",
      "Requirement already satisfied: pywin32-ctypes>=0.2.0 in c:\\users\\hifazhassan\\workspace\\workshops\\azureopenai-workshop-labs-1\\.venv\\lib\\site-packages (from keyring<25.0.0,>=24.2.0->promptflow-devkit<2.0.0,>=1.13.0->promptflow-evals) (0.2.2)\n",
      "Requirement already satisfied: packaging>=17.0 in c:\\users\\hifazhassan\\workspace\\workshops\\azureopenai-workshop-labs-1\\.venv\\lib\\site-packages (from marshmallow<4.0.0,>=3.5->promptflow-devkit<2.0.0,>=1.13.0->promptflow-evals) (24.1)\n",
      "Requirement already satisfied: deprecated>=1.2.6 in c:\\users\\hifazhassan\\workspace\\workshops\\azureopenai-workshop-labs-1\\.venv\\lib\\site-packages (from opentelemetry-exporter-otlp-proto-http<2.0.0,>=1.22.0->promptflow-devkit<2.0.0,>=1.13.0->promptflow-evals) (1.2.14)\n",
      "Requirement already satisfied: googleapis-common-protos~=1.52 in c:\\users\\hifazhassan\\workspace\\workshops\\azureopenai-workshop-labs-1\\.venv\\lib\\site-packages (from opentelemetry-exporter-otlp-proto-http<2.0.0,>=1.22.0->promptflow-devkit<2.0.0,>=1.13.0->promptflow-evals) (1.63.2)\n",
      "Requirement already satisfied: opentelemetry-exporter-otlp-proto-common==1.25.0 in c:\\users\\hifazhassan\\workspace\\workshops\\azureopenai-workshop-labs-1\\.venv\\lib\\site-packages (from opentelemetry-exporter-otlp-proto-http<2.0.0,>=1.22.0->promptflow-devkit<2.0.0,>=1.13.0->promptflow-evals) (1.25.0)\n",
      "Requirement already satisfied: opentelemetry-proto==1.25.0 in c:\\users\\hifazhassan\\workspace\\workshops\\azureopenai-workshop-labs-1\\.venv\\lib\\site-packages (from opentelemetry-exporter-otlp-proto-http<2.0.0,>=1.22.0->promptflow-devkit<2.0.0,>=1.13.0->promptflow-evals) (1.25.0)\n",
      "Requirement already satisfied: requests~=2.7 in c:\\users\\hifazhassan\\workspace\\workshops\\azureopenai-workshop-labs-1\\.venv\\lib\\site-packages (from opentelemetry-exporter-otlp-proto-http<2.0.0,>=1.22.0->promptflow-devkit<2.0.0,>=1.13.0->promptflow-evals) (2.32.3)\n",
      "Requirement already satisfied: protobuf<5.0,>=3.19 in c:\\users\\hifazhassan\\workspace\\workshops\\azureopenai-workshop-labs-1\\.venv\\lib\\site-packages (from opentelemetry-proto==1.25.0->opentelemetry-exporter-otlp-proto-http<2.0.0,>=1.22.0->promptflow-devkit<2.0.0,>=1.13.0->promptflow-evals) (4.25.3)\n",
      "Requirement already satisfied: tzdata>=2022.7 in c:\\users\\hifazhassan\\workspace\\workshops\\azureopenai-workshop-labs-1\\.venv\\lib\\site-packages (from pandas<3.0.0,>=1.5.3->promptflow-devkit<2.0.0,>=1.13.0->promptflow-evals) (2024.1)\n",
      "Requirement already satisfied: six>=1.5 in c:\\users\\hifazhassan\\workspace\\workshops\\azureopenai-workshop-labs-1\\.venv\\lib\\site-packages (from python-dateutil<3.0.0,>=2.1.0->promptflow-core<2.0.0,>=1.13.0->promptflow-evals) (1.16.0)\n",
      "Requirement already satisfied: ruamel.yaml.clib>=0.2.7 in c:\\users\\hifazhassan\\workspace\\workshops\\azureopenai-workshop-labs-1\\.venv\\lib\\site-packages (from ruamel.yaml<1.0.0,>=0.17.10->promptflow-core<2.0.0,>=1.13.0->promptflow-evals) (0.2.8)\n",
      "Requirement already satisfied: greenlet!=0.4.17 in c:\\users\\hifazhassan\\workspace\\workshops\\azureopenai-workshop-labs-1\\.venv\\lib\\site-packages (from sqlalchemy<3.0.0,>=1.4.48->promptflow-devkit<2.0.0,>=1.13.0->promptflow-evals) (3.0.3)\n",
      "Requirement already satisfied: aiosignal>=1.1.2 in c:\\users\\hifazhassan\\workspace\\workshops\\azureopenai-workshop-labs-1\\.venv\\lib\\site-packages (from aiohttp->aiohttp_retry>=2.8.3->promptflow-evals) (1.3.1)\n",
      "Requirement already satisfied: frozenlist>=1.1.1 in c:\\users\\hifazhassan\\workspace\\workshops\\azureopenai-workshop-labs-1\\.venv\\lib\\site-packages (from aiohttp->aiohttp_retry>=2.8.3->promptflow-evals) (1.4.1)\n",
      "Requirement already satisfied: multidict<7.0,>=4.5 in c:\\users\\hifazhassan\\workspace\\workshops\\azureopenai-workshop-labs-1\\.venv\\lib\\site-packages (from aiohttp->aiohttp_retry>=2.8.3->promptflow-evals) (6.0.5)\n",
      "Requirement already satisfied: yarl<2.0,>=1.0 in c:\\users\\hifazhassan\\workspace\\workshops\\azureopenai-workshop-labs-1\\.venv\\lib\\site-packages (from aiohttp->aiohttp_retry>=2.8.3->promptflow-evals) (1.9.4)\n",
      "Requirement already satisfied: pycparser in c:\\users\\hifazhassan\\workspace\\workshops\\azureopenai-workshop-labs-1\\.venv\\lib\\site-packages (from cffi>=1.12->cryptography>=42.0.4->promptflow-devkit<2.0.0,>=1.13.0->promptflow-evals) (2.22)\n",
      "Requirement already satisfied: wrapt<2,>=1.10 in c:\\users\\hifazhassan\\workspace\\workshops\\azureopenai-workshop-labs-1\\.venv\\lib\\site-packages (from deprecated>=1.2.6->opentelemetry-exporter-otlp-proto-http<2.0.0,>=1.22.0->promptflow-devkit<2.0.0,>=1.13.0->promptflow-evals) (1.16.0)\n",
      "Requirement already satisfied: dnspython>=2.0.0 in c:\\users\\hifazhassan\\workspace\\workshops\\azureopenai-workshop-labs-1\\.venv\\lib\\site-packages (from email_validator>=2.0.0->fastapi<1.0.0,>=0.109.0->promptflow-core<2.0.0,>=1.13.0->promptflow-evals) (2.6.1)\n",
      "Requirement already satisfied: typer>=0.12.3 in c:\\users\\hifazhassan\\workspace\\workshops\\azureopenai-workshop-labs-1\\.venv\\lib\\site-packages (from fastapi-cli>=0.0.2->fastapi<1.0.0,>=0.109.0->promptflow-core<2.0.0,>=1.13.0->promptflow-evals) (0.12.3)\n",
      "Requirement already satisfied: smmap<6,>=3.0.1 in c:\\users\\hifazhassan\\workspace\\workshops\\azureopenai-workshop-labs-1\\.venv\\lib\\site-packages (from gitdb<5,>=4.0.1->gitpython<4.0.0,>=3.1.24->promptflow-devkit<2.0.0,>=1.13.0->promptflow-evals) (5.0.1)\n",
      "Requirement already satisfied: zipp>=0.5 in c:\\users\\hifazhassan\\workspace\\workshops\\azureopenai-workshop-labs-1\\.venv\\lib\\site-packages (from importlib-metadata>=4.11.4->keyring<25.0.0,>=24.2.0->promptflow-devkit<2.0.0,>=1.13.0->promptflow-evals) (3.19.2)\n",
      "Requirement already satisfied: MarkupSafe>=2.0 in c:\\users\\hifazhassan\\workspace\\workshops\\azureopenai-workshop-labs-1\\.venv\\lib\\site-packages (from jinja2>=2.11.2->fastapi<1.0.0,>=0.109.0->promptflow-core<2.0.0,>=1.13.0->promptflow-evals) (2.1.5)\n",
      "Requirement already satisfied: isodate>=0.6.0 in c:\\users\\hifazhassan\\workspace\\workshops\\azureopenai-workshop-labs-1\\.venv\\lib\\site-packages (from msrest>=0.6.10->azure-monitor-opentelemetry-exporter<2.0.0,>=1.0.0b21->promptflow-devkit<2.0.0,>=1.13.0->promptflow-evals) (0.6.1)\n",
      "Requirement already satisfied: requests-oauthlib>=0.5.0 in c:\\users\\hifazhassan\\workspace\\workshops\\azureopenai-workshop-labs-1\\.venv\\lib\\site-packages (from msrest>=0.6.10->azure-monitor-opentelemetry-exporter<2.0.0,>=1.0.0b21->promptflow-devkit<2.0.0,>=1.13.0->promptflow-evals) (2.0.0)\n",
      "Requirement already satisfied: opentelemetry-semantic-conventions==0.46b0 in c:\\users\\hifazhassan\\workspace\\workshops\\azureopenai-workshop-labs-1\\.venv\\lib\\site-packages (from opentelemetry-sdk<2.0.0,>=1.22.0->promptflow-tracing==1.13.0->promptflow-core<2.0.0,>=1.13.0->promptflow-evals) (0.46b0)\n",
      "Requirement already satisfied: annotated-types>=0.4.0 in c:\\users\\hifazhassan\\workspace\\workshops\\azureopenai-workshop-labs-1\\.venv\\lib\\site-packages (from pydantic!=1.8,!=1.8.1,!=2.0.0,!=2.0.1,!=2.1.0,<3.0.0,>=1.7.4->fastapi<1.0.0,>=0.109.0->promptflow-core<2.0.0,>=1.13.0->promptflow-evals) (0.7.0)\n",
      "Requirement already satisfied: pydantic-core==2.20.1 in c:\\users\\hifazhassan\\workspace\\workshops\\azureopenai-workshop-labs-1\\.venv\\lib\\site-packages (from pydantic!=1.8,!=1.8.1,!=2.0.0,!=2.0.1,!=2.1.0,<3.0.0,>=1.7.4->fastapi<1.0.0,>=0.109.0->promptflow-core<2.0.0,>=1.13.0->promptflow-evals) (2.20.1)\n",
      "Requirement already satisfied: charset-normalizer<4,>=2 in c:\\users\\hifazhassan\\workspace\\workshops\\azureopenai-workshop-labs-1\\.venv\\lib\\site-packages (from requests~=2.7->opentelemetry-exporter-otlp-proto-http<2.0.0,>=1.22.0->promptflow-devkit<2.0.0,>=1.13.0->promptflow-evals) (3.3.2)\n",
      "Requirement already satisfied: regex>=2022.1.18 in c:\\users\\hifazhassan\\workspace\\workshops\\azureopenai-workshop-labs-1\\.venv\\lib\\site-packages (from tiktoken>=0.4.0->promptflow-tracing==1.13.0->promptflow-core<2.0.0,>=1.13.0->promptflow-evals) (2024.5.15)\n",
      "Requirement already satisfied: httptools>=0.5.0 in c:\\users\\hifazhassan\\workspace\\workshops\\azureopenai-workshop-labs-1\\.venv\\lib\\site-packages (from uvicorn[standard]>=0.12.0->fastapi<1.0.0,>=0.109.0->promptflow-core<2.0.0,>=1.13.0->promptflow-evals) (0.6.1)\n",
      "Requirement already satisfied: pyyaml>=5.1 in c:\\users\\hifazhassan\\workspace\\workshops\\azureopenai-workshop-labs-1\\.venv\\lib\\site-packages (from uvicorn[standard]>=0.12.0->fastapi<1.0.0,>=0.109.0->promptflow-core<2.0.0,>=1.13.0->promptflow-evals) (6.0.1)\n",
      "Requirement already satisfied: watchfiles>=0.13 in c:\\users\\hifazhassan\\workspace\\workshops\\azureopenai-workshop-labs-1\\.venv\\lib\\site-packages (from uvicorn[standard]>=0.12.0->fastapi<1.0.0,>=0.109.0->promptflow-core<2.0.0,>=1.13.0->promptflow-evals) (0.22.0)\n",
      "Requirement already satisfied: websockets>=10.4 in c:\\users\\hifazhassan\\workspace\\workshops\\azureopenai-workshop-labs-1\\.venv\\lib\\site-packages (from uvicorn[standard]>=0.12.0->fastapi<1.0.0,>=0.109.0->promptflow-core<2.0.0,>=1.13.0->promptflow-evals) (12.0)\n",
      "Requirement already satisfied: more-itertools in c:\\users\\hifazhassan\\workspace\\workshops\\azureopenai-workshop-labs-1\\.venv\\lib\\site-packages (from jaraco.classes->keyring<25.0.0,>=24.2.0->promptflow-devkit<2.0.0,>=1.13.0->promptflow-evals) (10.3.0)\n",
      "Requirement already satisfied: distro<2,>=1.7.0 in c:\\users\\hifazhassan\\workspace\\workshops\\azureopenai-workshop-labs-1\\.venv\\lib\\site-packages (from openai->promptflow-tracing==1.13.0->promptflow-core<2.0.0,>=1.13.0->promptflow-evals) (1.9.0)\n",
      "Requirement already satisfied: tqdm>4 in c:\\users\\hifazhassan\\workspace\\workshops\\azureopenai-workshop-labs-1\\.venv\\lib\\site-packages (from openai->promptflow-tracing==1.13.0->promptflow-core<2.0.0,>=1.13.0->promptflow-evals) (4.66.4)\n",
      "Requirement already satisfied: oauthlib>=3.0.0 in c:\\users\\hifazhassan\\workspace\\workshops\\azureopenai-workshop-labs-1\\.venv\\lib\\site-packages (from requests-oauthlib>=0.5.0->msrest>=0.6.10->azure-monitor-opentelemetry-exporter<2.0.0,>=1.0.0b21->promptflow-devkit<2.0.0,>=1.13.0->promptflow-evals) (3.2.2)\n",
      "Requirement already satisfied: shellingham>=1.3.0 in c:\\users\\hifazhassan\\workspace\\workshops\\azureopenai-workshop-labs-1\\.venv\\lib\\site-packages (from typer>=0.12.3->fastapi-cli>=0.0.2->fastapi<1.0.0,>=0.109.0->promptflow-core<2.0.0,>=1.13.0->promptflow-evals) (1.5.4)\n",
      "Requirement already satisfied: rich>=10.11.0 in c:\\users\\hifazhassan\\workspace\\workshops\\azureopenai-workshop-labs-1\\.venv\\lib\\site-packages (from typer>=0.12.3->fastapi-cli>=0.0.2->fastapi<1.0.0,>=0.109.0->promptflow-core<2.0.0,>=1.13.0->promptflow-evals) (13.7.1)\n",
      "Requirement already satisfied: markdown-it-py>=2.2.0 in c:\\users\\hifazhassan\\workspace\\workshops\\azureopenai-workshop-labs-1\\.venv\\lib\\site-packages (from rich>=10.11.0->typer>=0.12.3->fastapi-cli>=0.0.2->fastapi<1.0.0,>=0.109.0->promptflow-core<2.0.0,>=1.13.0->promptflow-evals) (3.0.0)\n",
      "Requirement already satisfied: pygments<3.0.0,>=2.13.0 in c:\\users\\hifazhassan\\workspace\\workshops\\azureopenai-workshop-labs-1\\.venv\\lib\\site-packages (from rich>=10.11.0->typer>=0.12.3->fastapi-cli>=0.0.2->fastapi<1.0.0,>=0.109.0->promptflow-core<2.0.0,>=1.13.0->promptflow-evals) (2.18.0)\n",
      "Requirement already satisfied: mdurl~=0.1 in c:\\users\\hifazhassan\\workspace\\workshops\\azureopenai-workshop-labs-1\\.venv\\lib\\site-packages (from markdown-it-py>=2.2.0->rich>=10.11.0->typer>=0.12.3->fastapi-cli>=0.0.2->fastapi<1.0.0,>=0.109.0->promptflow-core<2.0.0,>=1.13.0->promptflow-evals) (0.1.2)\n",
      "Note: you may need to restart the kernel to use updated packages.\n",
      "Requirement already satisfied: python-dotenv in c:\\users\\hifazhassan\\workspace\\workshops\\azureopenai-workshop-labs-1\\.venv\\lib\\site-packages (1.0.1)\n",
      "Note: you may need to restart the kernel to use updated packages.\n"
     ]
    }
   ],
   "source": [
    "%pip install promptflow-evals\n",
    "%pip install python-dotenv"
   ]
  },
  {
   "cell_type": "code",
   "execution_count": 9,
   "metadata": {},
   "outputs": [
    {
     "data": {
      "text/plain": [
       "True"
      ]
     },
     "execution_count": 9,
     "metadata": {},
     "output_type": "execute_result"
    }
   ],
   "source": [
    "import os\n",
    "from promptflow.core import AzureOpenAIModelConfiguration\n",
    "from promptflow.evals.evaluators import GroundednessEvaluator\n",
    "from promptflow.evals.evaluators import RelevanceEvaluator\n",
    "from promptflow.evals.evaluate import evaluate\n",
    "from dotenv import load_dotenv\n",
    "load_dotenv(\"azure.env\")"
   ]
  },
  {
   "cell_type": "code",
   "execution_count": 10,
   "metadata": {},
   "outputs": [],
   "source": [
    "model_config = AzureOpenAIModelConfiguration(\n",
    "    azure_endpoint=os.environ.get(\"AZURE_OPENAI_ENDPOINT\"),\n",
    "    api_key=os.environ.get(\"AZURE_OPENAI_API_KEY\"),\n",
    "    azure_deployment=os.environ.get(\"AZURE_OPENAI_DEPLOYMENT\"),\n",
    "    api_version=os.environ.get(\"AZURE_OPENAI_API_VERSION\"),\n",
    ")"
   ]
  },
  {
   "cell_type": "markdown",
   "metadata": {},
   "source": [
    "**Groundedness Evaluator**"
   ]
  },
  {
   "cell_type": "code",
   "execution_count": 4,
   "metadata": {},
   "outputs": [
    {
     "name": "stdout",
     "output_type": "stream",
     "text": [
      "{'gpt_groundedness': 5.0}\n"
     ]
    }
   ],
   "source": [
    "# Initialzing Relevance Evaluator\n",
    "groundedness_eval = GroundednessEvaluator(model_config)\n",
    "# Running Relevance Evaluator on single input row\n",
    "groundedness_score = groundedness_eval(\n",
    "    answer=\"The Alpine Explorer Tent is the most waterproof.\",\n",
    "    context=\"From the our product list,\"\n",
    "    \" the alpine explorer tent is the most waterproof.\"\n",
    "    \" The Adventure Dining Table has higher weight.\",\n",
    "    question=\"Which tent is the most waterproof?\",\n",
    ")\n",
    "print(groundedness_score)"
   ]
  },
  {
   "cell_type": "markdown",
   "metadata": {},
   "source": [
    "**Relevance Evaluator**"
   ]
  },
  {
   "cell_type": "code",
   "execution_count": 5,
   "metadata": {},
   "outputs": [
    {
     "name": "stdout",
     "output_type": "stream",
     "text": [
      "{'gpt_relevance': 5.0}\n"
     ]
    }
   ],
   "source": [
    "# Initialzing Relevance Evaluator\n",
    "relevance_eval = RelevanceEvaluator(model_config)\n",
    "# Running Relevance Evaluator on single input row\n",
    "relevance_score = relevance_eval(\n",
    "    answer=\"The Alpine Explorer Tent is the most waterproof.\",\n",
    "    context=\"From the our product list,\"\n",
    "    \" the alpine explorer tent is the most waterproof.\"\n",
    "    \" The Adventure Dining Table has higher weight.\",\n",
    "    question=\"Which tent is the most waterproof?\",\n",
    ")\n",
    "print(relevance_score)"
   ]
  },
  {
   "cell_type": "markdown",
   "metadata": {},
   "source": [
    "**Batch Evaluator using JSONL file**"
   ]
  },
  {
   "cell_type": "code",
   "execution_count": 11,
   "metadata": {},
   "outputs": [
    {
     "name": "stderr",
     "output_type": "stream",
     "text": [
      "[2024-07-25 00:37:30 +0800][promptflow._core.entry_meta_generator][WARNING] - Generate meta in current process and timeout won't take effect. Please handle timeout manually outside current process.\n",
      "[2024-07-25 00:37:30 +0800][promptflow._core.entry_meta_generator][WARNING] - Generate meta in current process and timeout won't take effect. Please handle timeout manually outside current process.\n",
      "[2024-07-25 00:37:30 +0800][promptflow._sdk._orchestrator.run_submitter][INFO] - Submitting run promptflow_evals_evaluators_relevance_relevance_relevanceevaluator_3cdlbxkf_20240725_003730_691030, log path: C:\\Users\\hifazhassan\\.promptflow\\.runs\\promptflow_evals_evaluators_relevance_relevance_relevanceevaluator_3cdlbxkf_20240725_003730_691030\\logs.txt\n",
      "[2024-07-25 00:37:30 +0800][promptflow._sdk._orchestrator.run_submitter][INFO] - Submitting run promptflow_evals_evaluators_groundedness_groundedness_groundednessevaluator_b2xlyib8_20240725_003730_691030, log path: C:\\Users\\hifazhassan\\.promptflow\\.runs\\promptflow_evals_evaluators_groundedness_groundedness_groundednessevaluator_b2xlyib8_20240725_003730_691030\\logs.txt\n"
     ]
    },
    {
     "name": "stdout",
     "output_type": "stream",
     "text": [
      "Prompt flow service has started...\n",
      "Prompt flow service has started...\n",
      "You can view the traces in local from http://127.0.0.1:23334/v1.0/ui/traces/?#run=promptflow_evals_evaluators_groundedness_groundedness_groundednessevaluator_b2xlyib8_20240725_003730_691030\n",
      "You can view the traces in local from http://127.0.0.1:23334/v1.0/ui/traces/?#run=promptflow_evals_evaluators_relevance_relevance_relevanceevaluator_3cdlbxkf_20240725_003730_691030\n",
      "2024-07-25 00:37:30 +0800   16520 execution.bulk     INFO     Current thread is not main thread, skip signal handler registration in BatchEngine.\n",
      "2024-07-25 00:37:30 +0800   16520 execution.bulk     INFO     Current system's available memory is 10237.7421875MB, memory consumption of current process is 193.984375MB, estimated available worker count is 10237.7421875/193.984375 = 52\n",
      "2024-07-25 00:37:30 +0800   16520 execution.bulk     INFO     Set process count to 4 by taking the minimum value among the factors of {'default_worker_count': 4, 'row_count': 6, 'estimated_worker_count_based_on_memory_usage': 52}.\n",
      "2024-07-25 00:37:33 +0800   16520 execution.bulk     INFO     Process name(SpawnProcess-17)-Process id(15164)-Line number(0) start execution.\n",
      "2024-07-25 00:37:33 +0800   16520 execution.bulk     INFO     Process name(SpawnProcess-13)-Process id(13400)-Line number(1) start execution.\n",
      "2024-07-25 00:37:33 +0800   16520 execution.bulk     INFO     Process name(SpawnProcess-16)-Process id(41512)-Line number(2) start execution.\n",
      "2024-07-25 00:37:33 +0800   16520 execution.bulk     INFO     Process name(SpawnProcess-20)-Process id(31380)-Line number(3) start execution.\n",
      "2024-07-25 00:37:37 +0800   16520 execution.bulk     INFO     Process name(SpawnProcess-13)-Process id(13400)-Line number(1) completed.\n",
      "2024-07-25 00:37:37 +0800   16520 execution.bulk     INFO     Process name(SpawnProcess-13)-Process id(13400)-Line number(4) start execution.\n",
      "2024-07-25 00:37:38 +0800   16520 execution.bulk     INFO     Finished 1 / 6 lines.\n",
      "2024-07-25 00:37:38 +0800   16520 execution.bulk     INFO     Average execution time for completed lines: 5.05 seconds. Estimated time for incomplete lines: 25.25 seconds.\n",
      "2024-07-25 00:37:39 +0800   16520 execution.bulk     INFO     Process name(SpawnProcess-13)-Process id(13400)-Line number(4) completed.\n",
      "2024-07-25 00:37:39 +0800   16520 execution.bulk     INFO     Process name(SpawnProcess-13)-Process id(13400)-Line number(5) start execution.\n",
      "2024-07-25 00:37:40 +0800   16520 execution.bulk     INFO     Finished 2 / 6 lines.\n",
      "2024-07-25 00:37:40 +0800   16520 execution.bulk     INFO     Average execution time for completed lines: 3.54 seconds. Estimated time for incomplete lines: 14.16 seconds.\n",
      "2024-07-25 00:37:40 +0800   16520 execution.bulk     INFO     Process name(SpawnProcess-16)-Process id(41512)-Line number(2) completed.\n",
      "2024-07-25 00:37:40 +0800   16520 execution.bulk     INFO     Process name(SpawnProcess-17)-Process id(15164)-Line number(0) completed.\n",
      "2024-07-25 00:37:41 +0800   16520 execution.bulk     INFO     Process name(SpawnProcess-20)-Process id(31380)-Line number(3) completed.\n",
      "2024-07-25 00:37:41 +0800   16520 execution.bulk     INFO     Process name(SpawnProcess-13)-Process id(13400)-Line number(5) completed.\n",
      "2024-07-25 00:37:41 +0800   26396 execution.bulk     INFO     The process [26396] has received a terminate signal.\n",
      "2024-07-25 00:37:41 +0800   37152 execution.bulk     INFO     The process [37152] has received a terminate signal.\n",
      "2024-07-25 00:37:41 +0800   37096 execution.bulk     INFO     The process [37096] has received a terminate signal.\n",
      "2024-07-25 00:37:41 +0800   24628 execution.bulk     INFO     The process [24628] has received a terminate signal.\n",
      "2024-07-25 00:37:41 +0800   16520 execution.bulk     INFO     Finished 6 / 6 lines.\n",
      "2024-07-25 00:37:41 +0800   16520 execution.bulk     INFO     Average execution time for completed lines: 1.35 seconds. Estimated time for incomplete lines: 0.0 seconds.\n",
      "2024-07-25 00:37:41 +0800   16520 execution.bulk     INFO     The thread monitoring the process [41512-SpawnProcess-16] will be terminated.\n",
      "2024-07-25 00:37:41 +0800   16520 execution.bulk     INFO     The thread monitoring the process [15164-SpawnProcess-17] will be terminated.\n",
      "2024-07-25 00:37:41 +0800   16520 execution.bulk     INFO     The thread monitoring the process [31380-SpawnProcess-20] will be terminated.\n",
      "2024-07-25 00:37:41 +0800   16520 execution.bulk     INFO     The thread monitoring the process [13400-SpawnProcess-13] will be terminated.\n",
      "2024-07-25 00:37:41 +0800   15164 execution.bulk     INFO     The process [15164] has received a terminate signal.\n",
      "2024-07-25 00:37:41 +0800   41512 execution.bulk     INFO     The process [41512] has received a terminate signal.\n",
      "2024-07-25 00:37:41 +0800   31380 execution.bulk     INFO     The process [31380] has received a terminate signal.\n",
      "2024-07-25 00:37:41 +0800   13400 execution.bulk     INFO     The process [13400] has received a terminate signal.\n",
      "2024-07-25 00:37:42 +0800   16520 execution.bulk     INFO     Process 15164 terminated.\n",
      "2024-07-25 00:37:42 +0800   16520 execution.bulk     INFO     Process 41512 terminated.\n",
      "2024-07-25 00:37:42 +0800   16520 execution.bulk     INFO     Process 31380 terminated.\n",
      "2024-07-25 00:37:42 +0800   16520 execution.bulk     INFO     Process 13400 terminated.\n",
      "======= Run Summary =======\n",
      "\n",
      "Run name: \"promptflow_evals_evaluators_groundedness_groundedness_groundednessevaluator_b2xlyib8_20240725_003730_691030\"\n",
      "Run status: \"Completed\"\n",
      "Start time: \"2024-07-25 00:37:30.689029+08:00\"\n",
      "Duration: \"0:00:12.516944\"\n",
      "Output path: \"C:\\Users\\hifazhassan\\.promptflow\\.runs\\promptflow_evals_evaluators_groundedness_groundedness_groundednessevaluator_b2xlyib8_20240725_003730_691030\"\n",
      "\n"
     ]
    },
    {
     "name": "stderr",
     "output_type": "stream",
     "text": [
      "[2024-07-25 00:37:43 +0800][promptflow.evals.evaluate._utils][ERROR] - Unable to log traces as trace destination was not defined.\n"
     ]
    },
    {
     "name": "stdout",
     "output_type": "stream",
     "text": [
      "2024-07-25 00:37:30 +0800   16520 execution.bulk     INFO     Current thread is not main thread, skip signal handler registration in BatchEngine.\n",
      "2024-07-25 00:37:30 +0800   16520 execution.bulk     INFO     Current system's available memory is 10238.21875MB, memory consumption of current process is 194.1015625MB, estimated available worker count is 10238.21875/194.1015625 = 52\n",
      "2024-07-25 00:37:30 +0800   16520 execution.bulk     INFO     Set process count to 4 by taking the minimum value among the factors of {'default_worker_count': 4, 'row_count': 6, 'estimated_worker_count_based_on_memory_usage': 52}.\n",
      "2024-07-25 00:37:33 +0800   16520 execution.bulk     INFO     Process name(SpawnProcess-15)-Process id(37152)-Line number(0) start execution.\n",
      "2024-07-25 00:37:33 +0800   16520 execution.bulk     INFO     Process name(SpawnProcess-14)-Process id(26396)-Line number(1) start execution.\n",
      "2024-07-25 00:37:33 +0800   16520 execution.bulk     INFO     Process name(SpawnProcess-18)-Process id(37096)-Line number(2) start execution.\n",
      "2024-07-25 00:37:33 +0800   16520 execution.bulk     INFO     Process name(SpawnProcess-19)-Process id(24628)-Line number(3) start execution.\n",
      "2024-07-25 00:37:36 +0800   16520 execution.bulk     INFO     Process name(SpawnProcess-14)-Process id(26396)-Line number(1) completed.\n",
      "2024-07-25 00:37:36 +0800   16520 execution.bulk     INFO     Process name(SpawnProcess-14)-Process id(26396)-Line number(4) start execution.\n",
      "2024-07-25 00:37:37 +0800   16520 execution.bulk     INFO     Finished 1 / 6 lines.\n",
      "2024-07-25 00:37:37 +0800   16520 execution.bulk     INFO     Average execution time for completed lines: 4.03 seconds. Estimated time for incomplete lines: 20.15 seconds.\n",
      "2024-07-25 00:37:38 +0800   16520 execution.bulk     INFO     Process name(SpawnProcess-14)-Process id(26396)-Line number(4) completed.\n",
      "2024-07-25 00:37:38 +0800   16520 execution.bulk     INFO     Process name(SpawnProcess-14)-Process id(26396)-Line number(5) start execution.\n",
      "2024-07-25 00:37:39 +0800   16520 execution.bulk     INFO     Finished 2 / 6 lines.\n",
      "2024-07-25 00:37:39 +0800   16520 execution.bulk     INFO     Average execution time for completed lines: 3.02 seconds. Estimated time for incomplete lines: 12.08 seconds.\n",
      "2024-07-25 00:37:40 +0800   16520 execution.bulk     INFO     Process name(SpawnProcess-14)-Process id(26396)-Line number(5) completed.\n",
      "2024-07-25 00:37:40 +0800   16520 execution.bulk     INFO     Process name(SpawnProcess-15)-Process id(37152)-Line number(0) completed.\n",
      "2024-07-25 00:37:40 +0800   16520 execution.bulk     INFO     Process name(SpawnProcess-18)-Process id(37096)-Line number(2) completed.\n",
      "2024-07-25 00:37:40 +0800   16520 execution.bulk     INFO     Process name(SpawnProcess-19)-Process id(24628)-Line number(3) completed.\n",
      "2024-07-25 00:37:41 +0800   16520 execution.bulk     INFO     Finished 6 / 6 lines.\n",
      "2024-07-25 00:37:41 +0800   16520 execution.bulk     INFO     Average execution time for completed lines: 1.34 seconds. Estimated time for incomplete lines: 0.0 seconds.\n",
      "2024-07-25 00:37:41 +0800   16520 execution.bulk     INFO     The thread monitoring the process [26396-SpawnProcess-14] will be terminated.\n",
      "2024-07-25 00:37:41 +0800   16520 execution.bulk     INFO     The thread monitoring the process [37152-SpawnProcess-15] will be terminated.\n",
      "2024-07-25 00:37:41 +0800   16520 execution.bulk     INFO     The thread monitoring the process [37096-SpawnProcess-18] will be terminated.\n",
      "2024-07-25 00:37:41 +0800   16520 execution.bulk     INFO     The thread monitoring the process [24628-SpawnProcess-19] will be terminated.\n",
      "2024-07-25 00:37:41 +0800   16520 execution.bulk     INFO     Process 26396 terminated.\n",
      "2024-07-25 00:37:42 +0800   16520 execution.bulk     INFO     Process 24628 terminated.\n",
      "2024-07-25 00:37:42 +0800   16520 execution.bulk     INFO     Process 37096 terminated.\n",
      "2024-07-25 00:37:43 +0800   16520 execution.bulk     INFO     Process 37152 terminated.\n",
      "======= Run Summary =======\n",
      "\n",
      "Run name: \"promptflow_evals_evaluators_relevance_relevance_relevanceevaluator_3cdlbxkf_20240725_003730_691030\"\n",
      "Run status: \"Completed\"\n",
      "Start time: \"2024-07-25 00:37:30.689029+08:00\"\n",
      "Duration: \"0:00:12.630045\"\n",
      "Output path: \"C:\\Users\\hifazhassan\\.promptflow\\.runs\\promptflow_evals_evaluators_relevance_relevance_relevanceevaluator_3cdlbxkf_20240725_003730_691030\"\n",
      "\n",
      "{'rows': [{'inputs.question': 'Which tent is the most waterproof?', 'inputs.context': 'From the our product list, the alpine explorer tent is the most waterproof. The Adventure Dining Table has higher weight.', 'inputs.answer': 'The Alpine Explorer Tent is the most waterproof.', 'outputs.relevance.gpt_relevance': 5, 'outputs.groundedness.gpt_groundedness': 5}, {'inputs.question': 'Which tent is the most waterproof?', 'inputs.context': 'From the our product list, the alpine explorer tent is the most waterproof. The Adventure Dining Table has higher weight.', 'inputs.answer': 'The Manua Kea Explorer Tent is the most waterproof.', 'outputs.relevance.gpt_relevance': 1, 'outputs.groundedness.gpt_groundedness': 1}, {'inputs.question': 'What is the capital of France?', 'inputs.context': 'France is in EU', 'inputs.answer': 'Nepal', 'outputs.relevance.gpt_relevance': 1, 'outputs.groundedness.gpt_groundedness': 1}, {'inputs.question': 'What is the speed of light?', 'inputs.context': 'Light travels at a constant speed in a vacuum.', 'inputs.answer': 'The speed of light is approximately 299,792,458 meters per second.', 'outputs.relevance.gpt_relevance': 5, 'outputs.groundedness.gpt_groundedness': 5}, {'inputs.question': 'Summarize the transcription between patient and doctor.', 'inputs.context': '\\nDoctor: How are you feeling.\\nPatient: Not great, I have high fever\\nDoctor: I understand, do you have headache?\\nPatient: No\\nDoctor: Take Panadol 2 times a day and if fever is above 40 degrees take Ibuprofen\\nPatient: For how many days?\\nDoctor: 1 week and visit me again if fever persists\\nPatient: Thanks', 'inputs.answer': 'The patient reported having a high fever but no headache. The doctor advised taking Panadol twice daily and Ibuprofen if the fever exceeds 40 degrees. The doctor recommended this treatment for one week and suggested a follow-up visit if the fever persists.', 'outputs.relevance.gpt_relevance': 5, 'outputs.groundedness.gpt_groundedness': 5}, {'inputs.question': 'Summarize the transcription between patient and doctor.', 'inputs.context': '\\nDoctor: How are you feeling.\\nPatient: Not great, I have high fever\\nDoctor: I understand, do you have headache?\\nPatient: No\\nDoctor: Take Panadol 2 times a day and if fever is above 40 degrees take Ibuprofen\\nPatient: For how many days?\\nDoctor: 1 week and visit me again if fever persists\\nPatient: Thanks', 'inputs.answer': 'The patient reported having a high fever but no headache. The doctor advised taking Panadol twice daily.', 'outputs.relevance.gpt_relevance': 3, 'outputs.groundedness.gpt_groundedness': 5}], 'metrics': {'relevance.gpt_relevance': 3.3333333333333335, 'groundedness.gpt_groundedness': 3.6666666666666665}, 'studio_url': None}\n"
     ]
    }
   ],
   "source": [
    "# provide the absolute path to the data file, currently promptflow-evals does not suport relative paths\n",
    "data_path = \"C:\\\\Users\\hifazhassan\\workspace\\workshops\\AzureOpenAI-Workshop-Labs-1\\labs-advanced\\evaluation\\data\\sample_qa.jsonl\"\n",
    "result = evaluate(\n",
    "    evaluation_name=\"test-eval\",\n",
    "    data=data_path, # provide your data here\n",
    "    evaluators={\n",
    "        \"relevance\": relevance_eval,\n",
    "        \"groundedness\": groundedness_eval,\n",
    "        # \"coherence\": coherence_eval,\n",
    "        # \"fluency\": fluency_eval\n",
    "    },\n",
    "    # column mapping\n",
    "    evaluator_config={\n",
    "        \"default\": {\n",
    "            \"question\": \"${data.question}\",\n",
    "            \"context\": \"${data.context}\",\n",
    "            \"answer\": \"${data.answer}\"\n",
    "        }\n",
    "    }\n",
    "    # # Optionally provide your AI Studio project information to track your evaluation results in your Azure AI studio project\n",
    "    #azure_ai_project = azure_ai_project,\n",
    "    # Optionally provide an output path to dump a json of metric summary, row level data and metric and studio URL\n",
    "    #output_path=output_path\n",
    ")\n",
    "\n",
    "print(result)"
   ]
  }
 ],
 "metadata": {
  "kernelspec": {
   "display_name": ".venv",
   "language": "python",
   "name": "python3"
  },
  "language_info": {
   "codemirror_mode": {
    "name": "ipython",
    "version": 3
   },
   "file_extension": ".py",
   "mimetype": "text/x-python",
   "name": "python",
   "nbconvert_exporter": "python",
   "pygments_lexer": "ipython3",
   "version": "3.11.9"
  }
 },
 "nbformat": 4,
 "nbformat_minor": 2
}
