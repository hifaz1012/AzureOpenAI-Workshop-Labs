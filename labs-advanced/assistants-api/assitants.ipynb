{
 "cells": [
  {
   "cell_type": "markdown",
   "metadata": {},
   "source": [
    "# Azure OpenAI Assistants\n",
    "\n",
    "Azure OpenAI Assistants allows you to create AI assistants tailored to your needs through custom instructions and augmented by advanced tools like code interpreter, and custom functions. In this article we'll provide an in-depth walkthrough of getting started with the Assistants API."
   ]
  },
  {
   "cell_type": "code",
   "execution_count": 2,
   "metadata": {},
   "outputs": [
    {
     "name": "stdout",
     "output_type": "stream",
     "text": [
      "Requirement already satisfied: openai in c:\\users\\hifazhassan\\workspace\\workshops\\azureopenai-workshop-labs-1\\.venv\\lib\\site-packages (1.35.14)\n",
      "Requirement already satisfied: anyio<5,>=3.5.0 in c:\\users\\hifazhassan\\workspace\\workshops\\azureopenai-workshop-labs-1\\.venv\\lib\\site-packages (from openai) (4.4.0)\n",
      "Requirement already satisfied: distro<2,>=1.7.0 in c:\\users\\hifazhassan\\workspace\\workshops\\azureopenai-workshop-labs-1\\.venv\\lib\\site-packages (from openai) (1.9.0)\n",
      "Requirement already satisfied: httpx<1,>=0.23.0 in c:\\users\\hifazhassan\\workspace\\workshops\\azureopenai-workshop-labs-1\\.venv\\lib\\site-packages (from openai) (0.27.0)\n",
      "Requirement already satisfied: pydantic<3,>=1.9.0 in c:\\users\\hifazhassan\\workspace\\workshops\\azureopenai-workshop-labs-1\\.venv\\lib\\site-packages (from openai) (2.8.2)\n",
      "Requirement already satisfied: sniffio in c:\\users\\hifazhassan\\workspace\\workshops\\azureopenai-workshop-labs-1\\.venv\\lib\\site-packages (from openai) (1.3.1)\n",
      "Requirement already satisfied: tqdm>4 in c:\\users\\hifazhassan\\workspace\\workshops\\azureopenai-workshop-labs-1\\.venv\\lib\\site-packages (from openai) (4.66.4)\n",
      "Requirement already satisfied: typing-extensions<5,>=4.7 in c:\\users\\hifazhassan\\workspace\\workshops\\azureopenai-workshop-labs-1\\.venv\\lib\\site-packages (from openai) (4.12.2)\n",
      "Requirement already satisfied: idna>=2.8 in c:\\users\\hifazhassan\\workspace\\workshops\\azureopenai-workshop-labs-1\\.venv\\lib\\site-packages (from anyio<5,>=3.5.0->openai) (3.7)\n",
      "Requirement already satisfied: certifi in c:\\users\\hifazhassan\\workspace\\workshops\\azureopenai-workshop-labs-1\\.venv\\lib\\site-packages (from httpx<1,>=0.23.0->openai) (2024.7.4)\n",
      "Requirement already satisfied: httpcore==1.* in c:\\users\\hifazhassan\\workspace\\workshops\\azureopenai-workshop-labs-1\\.venv\\lib\\site-packages (from httpx<1,>=0.23.0->openai) (1.0.5)\n",
      "Requirement already satisfied: h11<0.15,>=0.13 in c:\\users\\hifazhassan\\workspace\\workshops\\azureopenai-workshop-labs-1\\.venv\\lib\\site-packages (from httpcore==1.*->httpx<1,>=0.23.0->openai) (0.14.0)\n",
      "Requirement already satisfied: annotated-types>=0.4.0 in c:\\users\\hifazhassan\\workspace\\workshops\\azureopenai-workshop-labs-1\\.venv\\lib\\site-packages (from pydantic<3,>=1.9.0->openai) (0.7.0)\n",
      "Requirement already satisfied: pydantic-core==2.20.1 in c:\\users\\hifazhassan\\workspace\\workshops\\azureopenai-workshop-labs-1\\.venv\\lib\\site-packages (from pydantic<3,>=1.9.0->openai) (2.20.1)\n",
      "Requirement already satisfied: colorama in c:\\users\\hifazhassan\\workspace\\workshops\\azureopenai-workshop-labs-1\\.venv\\lib\\site-packages (from tqdm>4->openai) (0.4.6)\n",
      "Note: you may need to restart the kernel to use updated packages.\n",
      "Requirement already satisfied: tiktoken in c:\\users\\hifazhassan\\workspace\\workshops\\azureopenai-workshop-labs-1\\.venv\\lib\\site-packages (0.7.0)\n",
      "Requirement already satisfied: regex>=2022.1.18 in c:\\users\\hifazhassan\\workspace\\workshops\\azureopenai-workshop-labs-1\\.venv\\lib\\site-packages (from tiktoken) (2024.5.15)\n",
      "Requirement already satisfied: requests>=2.26.0 in c:\\users\\hifazhassan\\workspace\\workshops\\azureopenai-workshop-labs-1\\.venv\\lib\\site-packages (from tiktoken) (2.32.3)\n",
      "Requirement already satisfied: charset-normalizer<4,>=2 in c:\\users\\hifazhassan\\workspace\\workshops\\azureopenai-workshop-labs-1\\.venv\\lib\\site-packages (from requests>=2.26.0->tiktoken) (3.3.2)\n",
      "Requirement already satisfied: idna<4,>=2.5 in c:\\users\\hifazhassan\\workspace\\workshops\\azureopenai-workshop-labs-1\\.venv\\lib\\site-packages (from requests>=2.26.0->tiktoken) (3.7)\n",
      "Requirement already satisfied: urllib3<3,>=1.21.1 in c:\\users\\hifazhassan\\workspace\\workshops\\azureopenai-workshop-labs-1\\.venv\\lib\\site-packages (from requests>=2.26.0->tiktoken) (2.2.2)\n",
      "Requirement already satisfied: certifi>=2017.4.17 in c:\\users\\hifazhassan\\workspace\\workshops\\azureopenai-workshop-labs-1\\.venv\\lib\\site-packages (from requests>=2.26.0->tiktoken) (2024.7.4)\n",
      "Note: you may need to restart the kernel to use updated packages.\n",
      "Requirement already satisfied: numpy in c:\\users\\hifazhassan\\workspace\\workshops\\azureopenai-workshop-labs-1\\.venv\\lib\\site-packages (2.0.0)\n",
      "Note: you may need to restart the kernel to use updated packages.\n",
      "Requirement already satisfied: python-dotenv in c:\\users\\hifazhassan\\workspace\\workshops\\azureopenai-workshop-labs-1\\.venv\\lib\\site-packages (1.0.1)\n",
      "Note: you may need to restart the kernel to use updated packages.\n",
      "Requirement already satisfied: pillow in c:\\users\\hifazhassan\\workspace\\workshops\\azureopenai-workshop-labs-1\\.venv\\lib\\site-packages (10.4.0)\n",
      "Note: you may need to restart the kernel to use updated packages.\n",
      "Requirement already satisfied: matplotlib in c:\\users\\hifazhassan\\workspace\\workshops\\azureopenai-workshop-labs-1\\.venv\\lib\\site-packages (3.9.1)\n",
      "Requirement already satisfied: contourpy>=1.0.1 in c:\\users\\hifazhassan\\workspace\\workshops\\azureopenai-workshop-labs-1\\.venv\\lib\\site-packages (from matplotlib) (1.2.1)\n",
      "Requirement already satisfied: cycler>=0.10 in c:\\users\\hifazhassan\\workspace\\workshops\\azureopenai-workshop-labs-1\\.venv\\lib\\site-packages (from matplotlib) (0.12.1)\n",
      "Requirement already satisfied: fonttools>=4.22.0 in c:\\users\\hifazhassan\\workspace\\workshops\\azureopenai-workshop-labs-1\\.venv\\lib\\site-packages (from matplotlib) (4.53.1)\n",
      "Requirement already satisfied: kiwisolver>=1.3.1 in c:\\users\\hifazhassan\\workspace\\workshops\\azureopenai-workshop-labs-1\\.venv\\lib\\site-packages (from matplotlib) (1.4.5)\n",
      "Requirement already satisfied: numpy>=1.23 in c:\\users\\hifazhassan\\workspace\\workshops\\azureopenai-workshop-labs-1\\.venv\\lib\\site-packages (from matplotlib) (2.0.0)\n",
      "Requirement already satisfied: packaging>=20.0 in c:\\users\\hifazhassan\\workspace\\workshops\\azureopenai-workshop-labs-1\\.venv\\lib\\site-packages (from matplotlib) (24.1)\n",
      "Requirement already satisfied: pillow>=8 in c:\\users\\hifazhassan\\workspace\\workshops\\azureopenai-workshop-labs-1\\.venv\\lib\\site-packages (from matplotlib) (10.4.0)\n",
      "Requirement already satisfied: pyparsing>=2.3.1 in c:\\users\\hifazhassan\\workspace\\workshops\\azureopenai-workshop-labs-1\\.venv\\lib\\site-packages (from matplotlib) (3.1.2)\n",
      "Requirement already satisfied: python-dateutil>=2.7 in c:\\users\\hifazhassan\\workspace\\workshops\\azureopenai-workshop-labs-1\\.venv\\lib\\site-packages (from matplotlib) (2.9.0.post0)\n",
      "Requirement already satisfied: six>=1.5 in c:\\users\\hifazhassan\\workspace\\workshops\\azureopenai-workshop-labs-1\\.venv\\lib\\site-packages (from python-dateutil>=2.7->matplotlib) (1.16.0)\n",
      "Note: you may need to restart the kernel to use updated packages.\n"
     ]
    }
   ],
   "source": [
    "%pip install openai --upgrade\n",
    "%pip install tiktoken\n",
    "%pip install numpy\n",
    "%pip install python-dotenv\n",
    "%pip install pillow\n",
    "%pip install matplotlib"
   ]
  },
  {
   "cell_type": "code",
   "execution_count": 3,
   "metadata": {},
   "outputs": [],
   "source": [
    "import os\n",
    "import json\n",
    "from dotenv import load_dotenv\n",
    "from openai import AzureOpenAI\n",
    "\n",
    "load_dotenv(\"azure.env\")\n",
    "\n",
    "client = AzureOpenAI(\n",
    "    api_key=os.getenv(\"AZURE_OPENAI_API_KEY\"),  \n",
    "    api_version=os.getenv(\"API_VERSION\"),\n",
    "    azure_endpoint = os.getenv(\"AZURE_OPENAI_ENDPOINT\")\n",
    "    )\n",
    "\n",
    "# Create an assistant\n",
    "assistant = client.beta.assistants.create(\n",
    "    name=\"Data Visualization\",\n",
    "    instructions=f\"You are a helpful AI assistant who makes interesting visualizations based on data.\" \n",
    "    f\"You have access to a sandboxed environment for writing and testing code.\"\n",
    "    f\"When you are asked to create a visualization you should follow these steps:\"\n",
    "    f\"1. Write the code.\"\n",
    "    f\"2. Anytime you write new code display a preview of the code to show your work.\"\n",
    "    f\"3. Run the code to confirm that it runs.\"\n",
    "    f\"4. If the code is successful display the visualization.\"\n",
    "    f\"5. If the code is unsuccessful display the error message and try to revise the code and rerun going through the steps from above again.\",\n",
    "    tools=[{\"type\": \"code_interpreter\"}],\n",
    "    model=os.getenv(\"MODEL_VERSION\") #You must replace this value with the deployment name of your model.\n",
    ")"
   ]
  },
  {
   "cell_type": "code",
   "execution_count": 4,
   "metadata": {},
   "outputs": [
    {
     "name": "stdout",
     "output_type": "stream",
     "text": [
      "{\n",
      "  \"id\": \"asst_DoLK3PZc4r4aZwAroDr2PMaw\",\n",
      "  \"created_at\": 1721284227,\n",
      "  \"description\": null,\n",
      "  \"instructions\": \"You are a helpful AI assistant who makes interesting visualizations based on data.You have access to a sandboxed environment for writing and testing code.When you are asked to create a visualization you should follow these steps:1. Write the code.2. Anytime you write new code display a preview of the code to show your work.3. Run the code to confirm that it runs.4. If the code is successful display the visualization.5. If the code is unsuccessful display the error message and try to revise the code and rerun going through the steps from above again.\",\n",
      "  \"metadata\": {},\n",
      "  \"model\": \"gpt-4-2024-04-09\",\n",
      "  \"name\": \"Data Visualization\",\n",
      "  \"object\": \"assistant\",\n",
      "  \"tools\": [\n",
      "    {\n",
      "      \"type\": \"code_interpreter\"\n",
      "    }\n",
      "  ],\n",
      "  \"response_format\": \"auto\",\n",
      "  \"temperature\": 1.0,\n",
      "  \"tool_resources\": null,\n",
      "  \"top_p\": 1.0,\n",
      "  \"file_ids\": []\n",
      "}\n"
     ]
    }
   ],
   "source": [
    "print(assistant.model_dump_json(indent=2))"
   ]
  },
  {
   "cell_type": "code",
   "execution_count": 5,
   "metadata": {},
   "outputs": [
    {
     "name": "stdout",
     "output_type": "stream",
     "text": [
      "Thread(id='thread_KMVzowEAYVbHAxmuQk5paHpF', created_at=1721284237, metadata={}, object='thread', tool_resources=None)\n"
     ]
    }
   ],
   "source": [
    "# Create a thread\n",
    "thread = client.beta.threads.create()\n",
    "print(thread)"
   ]
  },
  {
   "cell_type": "code",
   "execution_count": 6,
   "metadata": {},
   "outputs": [],
   "source": [
    "# Add a user question to the thread\n",
    "message = client.beta.threads.messages.create(\n",
    "    thread_id=thread.id,\n",
    "    role=\"user\",\n",
    "    content=\"Create a visualization of a sinewave\"\n",
    ")"
   ]
  },
  {
   "cell_type": "code",
   "execution_count": 7,
   "metadata": {},
   "outputs": [
    {
     "name": "stdout",
     "output_type": "stream",
     "text": [
      "{\n",
      "  \"data\": [\n",
      "    {\n",
      "      \"id\": \"msg_Tm9ZM2cPDQzlHy7In18uyXqb\",\n",
      "      \"assistant_id\": null,\n",
      "      \"attachments\": null,\n",
      "      \"completed_at\": null,\n",
      "      \"content\": [\n",
      "        {\n",
      "          \"text\": {\n",
      "            \"annotations\": [],\n",
      "            \"value\": \"Create a visualization of a sinewave\"\n",
      "          },\n",
      "          \"type\": \"text\"\n",
      "        }\n",
      "      ],\n",
      "      \"created_at\": 1721284240,\n",
      "      \"incomplete_at\": null,\n",
      "      \"incomplete_details\": null,\n",
      "      \"metadata\": {},\n",
      "      \"object\": \"thread.message\",\n",
      "      \"role\": \"user\",\n",
      "      \"run_id\": null,\n",
      "      \"status\": null,\n",
      "      \"thread_id\": \"thread_KMVzowEAYVbHAxmuQk5paHpF\",\n",
      "      \"file_ids\": []\n",
      "    }\n",
      "  ],\n",
      "  \"object\": \"list\",\n",
      "  \"first_id\": \"msg_Tm9ZM2cPDQzlHy7In18uyXqb\",\n",
      "  \"last_id\": \"msg_Tm9ZM2cPDQzlHy7In18uyXqb\",\n",
      "  \"has_more\": false\n",
      "}\n"
     ]
    }
   ],
   "source": [
    "thread_messages = client.beta.threads.messages.list(thread.id)\n",
    "print(thread_messages.model_dump_json(indent=2))"
   ]
  },
  {
   "cell_type": "markdown",
   "metadata": {},
   "source": [
    "We could also pass an instructions parameter here, but this would override the existing instructions that we have already provided for the assistant."
   ]
  },
  {
   "cell_type": "code",
   "execution_count": 8,
   "metadata": {},
   "outputs": [],
   "source": [
    "run = client.beta.threads.runs.create(\n",
    "  thread_id=thread.id,\n",
    "  assistant_id=assistant.id,\n",
    "  #instructions=\"New instructions\" #You can optionally provide new instructions but these will override the default instructions\n",
    ")"
   ]
  },
  {
   "cell_type": "code",
   "execution_count": 12,
   "metadata": {},
   "outputs": [
    {
     "name": "stdout",
     "output_type": "stream",
     "text": [
      "completed\n"
     ]
    }
   ],
   "source": [
    "# Retrieve the status of the run\n",
    "run = client.beta.threads.runs.retrieve(\n",
    "  thread_id=thread.id,\n",
    "  run_id=run.id\n",
    ")\n",
    "\n",
    "status = run.status\n",
    "print(status)"
   ]
  },
  {
   "cell_type": "code",
   "execution_count": 13,
   "metadata": {},
   "outputs": [
    {
     "name": "stdout",
     "output_type": "stream",
     "text": [
      "{\n",
      "  \"data\": [\n",
      "    {\n",
      "      \"id\": \"msg_CAHONtJkAbcBnH6e2Pdqihps\",\n",
      "      \"assistant_id\": \"asst_DoLK3PZc4r4aZwAroDr2PMaw\",\n",
      "      \"attachments\": null,\n",
      "      \"completed_at\": null,\n",
      "      \"content\": [\n",
      "        {\n",
      "          \"image_file\": {\n",
      "            \"file_id\": \"assistant-0PruTyPFM7GQ7n9idGJbcqut\",\n",
      "            \"detail\": null\n",
      "          },\n",
      "          \"type\": \"image_file\"\n",
      "        },\n",
      "        {\n",
      "          \"text\": {\n",
      "            \"annotations\": [],\n",
      "            \"value\": \"Here is the visualization of the sine wave for \\\\( sin(x) \\\\) from \\\\( x = 0 \\\\) to \\\\( x = 2\\\\pi \\\\). If you need any adjustments or additional information on the graph, feel free to let me know!\"\n",
      "          },\n",
      "          \"type\": \"text\"\n",
      "        }\n",
      "      ],\n",
      "      \"created_at\": 1721284267,\n",
      "      \"incomplete_at\": null,\n",
      "      \"incomplete_details\": null,\n",
      "      \"metadata\": {},\n",
      "      \"object\": \"thread.message\",\n",
      "      \"role\": \"assistant\",\n",
      "      \"run_id\": \"run_ZFs7ejMtSuh3pSKE72KU07KK\",\n",
      "      \"status\": null,\n",
      "      \"thread_id\": \"thread_KMVzowEAYVbHAxmuQk5paHpF\",\n",
      "      \"file_ids\": []\n",
      "    },\n",
      "    {\n",
      "      \"id\": \"msg_DYGCTLnUsPdqueRCSPTT7YP2\",\n",
      "      \"assistant_id\": \"asst_DoLK3PZc4r4aZwAroDr2PMaw\",\n",
      "      \"attachments\": null,\n",
      "      \"completed_at\": null,\n",
      "      \"content\": [\n",
      "        {\n",
      "          \"text\": {\n",
      "            \"annotations\": [],\n",
      "            \"value\": \"To create a visualization of a sine wave, I'll first generate points for the sine function and then plot these points on a graph. Let's go ahead and do that.\"\n",
      "          },\n",
      "          \"type\": \"text\"\n",
      "        }\n",
      "      ],\n",
      "      \"created_at\": 1721284257,\n",
      "      \"incomplete_at\": null,\n",
      "      \"incomplete_details\": null,\n",
      "      \"metadata\": {},\n",
      "      \"object\": \"thread.message\",\n",
      "      \"role\": \"assistant\",\n",
      "      \"run_id\": \"run_ZFs7ejMtSuh3pSKE72KU07KK\",\n",
      "      \"status\": null,\n",
      "      \"thread_id\": \"thread_KMVzowEAYVbHAxmuQk5paHpF\",\n",
      "      \"file_ids\": []\n",
      "    },\n",
      "    {\n",
      "      \"id\": \"msg_Tm9ZM2cPDQzlHy7In18uyXqb\",\n",
      "      \"assistant_id\": null,\n",
      "      \"attachments\": null,\n",
      "      \"completed_at\": null,\n",
      "      \"content\": [\n",
      "        {\n",
      "          \"text\": {\n",
      "            \"annotations\": [],\n",
      "            \"value\": \"Create a visualization of a sinewave\"\n",
      "          },\n",
      "          \"type\": \"text\"\n",
      "        }\n",
      "      ],\n",
      "      \"created_at\": 1721284240,\n",
      "      \"incomplete_at\": null,\n",
      "      \"incomplete_details\": null,\n",
      "      \"metadata\": {},\n",
      "      \"object\": \"thread.message\",\n",
      "      \"role\": \"user\",\n",
      "      \"run_id\": null,\n",
      "      \"status\": null,\n",
      "      \"thread_id\": \"thread_KMVzowEAYVbHAxmuQk5paHpF\",\n",
      "      \"file_ids\": []\n",
      "    }\n",
      "  ],\n",
      "  \"object\": \"list\",\n",
      "  \"first_id\": \"msg_CAHONtJkAbcBnH6e2Pdqihps\",\n",
      "  \"last_id\": \"msg_Tm9ZM2cPDQzlHy7In18uyXqb\",\n",
      "  \"has_more\": false\n",
      "}\n"
     ]
    }
   ],
   "source": [
    "messages = client.beta.threads.messages.list(\n",
    "  thread_id=thread.id\n",
    ")\n",
    "\n",
    "print(messages.model_dump_json(indent=2))"
   ]
  },
  {
   "cell_type": "code",
   "execution_count": 14,
   "metadata": {},
   "outputs": [
    {
     "name": "stdout",
     "output_type": "stream",
     "text": [
      "{'data': [{'id': 'msg_CAHONtJkAbcBnH6e2Pdqihps', 'assistant_id': 'asst_DoLK3PZc4r4aZwAroDr2PMaw', 'attachments': None, 'completed_at': None, 'content': [{'image_file': {'file_id': 'assistant-0PruTyPFM7GQ7n9idGJbcqut', 'detail': None}, 'type': 'image_file'}, {'text': {'annotations': [], 'value': 'Here is the visualization of the sine wave for \\\\( sin(x) \\\\) from \\\\( x = 0 \\\\) to \\\\( x = 2\\\\pi \\\\). If you need any adjustments or additional information on the graph, feel free to let me know!'}, 'type': 'text'}], 'created_at': 1721284267, 'incomplete_at': None, 'incomplete_details': None, 'metadata': {}, 'object': 'thread.message', 'role': 'assistant', 'run_id': 'run_ZFs7ejMtSuh3pSKE72KU07KK', 'status': None, 'thread_id': 'thread_KMVzowEAYVbHAxmuQk5paHpF', 'file_ids': []}, {'id': 'msg_DYGCTLnUsPdqueRCSPTT7YP2', 'assistant_id': 'asst_DoLK3PZc4r4aZwAroDr2PMaw', 'attachments': None, 'completed_at': None, 'content': [{'text': {'annotations': [], 'value': \"To create a visualization of a sine wave, I'll first generate points for the sine function and then plot these points on a graph. Let's go ahead and do that.\"}, 'type': 'text'}], 'created_at': 1721284257, 'incomplete_at': None, 'incomplete_details': None, 'metadata': {}, 'object': 'thread.message', 'role': 'assistant', 'run_id': 'run_ZFs7ejMtSuh3pSKE72KU07KK', 'status': None, 'thread_id': 'thread_KMVzowEAYVbHAxmuQk5paHpF', 'file_ids': []}, {'id': 'msg_Tm9ZM2cPDQzlHy7In18uyXqb', 'assistant_id': None, 'attachments': None, 'completed_at': None, 'content': [{'text': {'annotations': [], 'value': 'Create a visualization of a sinewave'}, 'type': 'text'}], 'created_at': 1721284240, 'incomplete_at': None, 'incomplete_details': None, 'metadata': {}, 'object': 'thread.message', 'role': 'user', 'run_id': None, 'status': None, 'thread_id': 'thread_KMVzowEAYVbHAxmuQk5paHpF', 'file_ids': []}], 'object': 'list', 'first_id': 'msg_CAHONtJkAbcBnH6e2Pdqihps', 'last_id': 'msg_Tm9ZM2cPDQzlHy7In18uyXqb', 'has_more': False}\n"
     ]
    }
   ],
   "source": [
    "data = json.loads(messages.model_dump_json(indent=2))  # Load JSON data into a Python object\n",
    "image_file_id = data['data'][0]['content'][0]['image_file']['file_id']\n",
    "\n",
    "print(data)  "
   ]
  },
  {
   "cell_type": "code",
   "execution_count": 15,
   "metadata": {},
   "outputs": [],
   "source": [
    "content = client.files.content(image_file_id)\n",
    "\n",
    "image= content.write_to_file(\"sinewave.png\")"
   ]
  },
  {
   "cell_type": "code",
   "execution_count": 16,
   "metadata": {},
   "outputs": [],
   "source": [
    "from PIL import Image\n",
    "\n",
    "# Display the image in the default image viewer\n",
    "image = Image.open(\"sinewave.png\")\n",
    "image.show()"
   ]
  },
  {
   "cell_type": "code",
   "execution_count": 17,
   "metadata": {},
   "outputs": [],
   "source": [
    "# Add a new user question to the thread\n",
    "message = client.beta.threads.messages.create(\n",
    "    thread_id=thread.id,\n",
    "    role=\"user\",\n",
    "    content=\"Show me the code you used to generate the sinewave\"\n",
    ")"
   ]
  },
  {
   "cell_type": "code",
   "execution_count": 18,
   "metadata": {},
   "outputs": [],
   "source": [
    "run = client.beta.threads.runs.create(\n",
    "  thread_id=thread.id,\n",
    "  assistant_id=assistant.id,\n",
    "  #instructions=\"New instructions\" #You can optionally provide new instructions  but these will override the default instructions\n",
    ")\n"
   ]
  },
  {
   "cell_type": "code",
   "execution_count": 22,
   "metadata": {},
   "outputs": [
    {
     "name": "stdout",
     "output_type": "stream",
     "text": [
      "completed\n"
     ]
    }
   ],
   "source": [
    "# Retrieve the status of the run\n",
    "run = client.beta.threads.runs.retrieve(\n",
    "  thread_id=thread.id,\n",
    "  run_id=run.id\n",
    ")\n",
    "status = run.status\n",
    "print(status)"
   ]
  },
  {
   "cell_type": "markdown",
   "metadata": {},
   "source": [
    "* Please wait until you get \"completed\""
   ]
  },
  {
   "cell_type": "code",
   "execution_count": 23,
   "metadata": {},
   "outputs": [
    {
     "name": "stdout",
     "output_type": "stream",
     "text": [
      "{\n",
      "  \"data\": [\n",
      "    {\n",
      "      \"id\": \"msg_X0LXudZnaQ9zHWdQwUgpjhxL\",\n",
      "      \"assistant_id\": \"asst_DoLK3PZc4r4aZwAroDr2PMaw\",\n",
      "      \"attachments\": null,\n",
      "      \"completed_at\": null,\n",
      "      \"content\": [\n",
      "        {\n",
      "          \"text\": {\n",
      "            \"annotations\": [],\n",
      "            \"value\": \"Certainly! Here is the code I used to generate and plot the sine wave:\\n\\n```python\\nimport numpy as np\\nimport matplotlib.pyplot as plt\\n\\n# Generating data\\nx = np.linspace(0, 2 * np.pi, 100)  # 100 points from 0 to 2*pi\\ny = np.sin(x)  # sine values\\n\\n# Plotting the sine wave\\nplt.figure(figsize=(10, 5))\\nplt.plot(x, y, label='sin(x)')\\nplt.title('Sine Wave')\\nplt.xlabel('x')\\nplt.ylabel('sin(x)')\\nplt.grid(True)\\nplt.legend()\\nplt.show()\\n```\\n\\nThis code uses NumPy to create an array of 100 points linearly spaced between 0 and \\\\(2\\\\pi\\\\) and then computes the sine of each value. The results are plotted using Matplotlib, which is a popular plotting library in Python. The plot is configured to be 10x5 inches, include grid lines, labels, and a legend for clarity.\"\n",
      "          },\n",
      "          \"type\": \"text\"\n",
      "        }\n",
      "      ],\n",
      "      \"created_at\": 1721284405,\n",
      "      \"incomplete_at\": null,\n",
      "      \"incomplete_details\": null,\n",
      "      \"metadata\": {},\n",
      "      \"object\": \"thread.message\",\n",
      "      \"role\": \"assistant\",\n",
      "      \"run_id\": \"run_ewvw7xCOow2tbDXwtnnsmve3\",\n",
      "      \"status\": null,\n",
      "      \"thread_id\": \"thread_KMVzowEAYVbHAxmuQk5paHpF\",\n",
      "      \"file_ids\": []\n",
      "    },\n",
      "    {\n",
      "      \"id\": \"msg_v62D71h5HkukR4YF8VbeArop\",\n",
      "      \"assistant_id\": null,\n",
      "      \"attachments\": null,\n",
      "      \"completed_at\": null,\n",
      "      \"content\": [\n",
      "        {\n",
      "          \"text\": {\n",
      "            \"annotations\": [],\n",
      "            \"value\": \"Show me the code you used to generate the sinewave\"\n",
      "          },\n",
      "          \"type\": \"text\"\n",
      "        }\n",
      "      ],\n",
      "      \"created_at\": 1721284399,\n",
      "      \"incomplete_at\": null,\n",
      "      \"incomplete_details\": null,\n",
      "      \"metadata\": {},\n",
      "      \"object\": \"thread.message\",\n",
      "      \"role\": \"user\",\n",
      "      \"run_id\": null,\n",
      "      \"status\": null,\n",
      "      \"thread_id\": \"thread_KMVzowEAYVbHAxmuQk5paHpF\",\n",
      "      \"file_ids\": []\n",
      "    },\n",
      "    {\n",
      "      \"id\": \"msg_CAHONtJkAbcBnH6e2Pdqihps\",\n",
      "      \"assistant_id\": \"asst_DoLK3PZc4r4aZwAroDr2PMaw\",\n",
      "      \"attachments\": null,\n",
      "      \"completed_at\": null,\n",
      "      \"content\": [\n",
      "        {\n",
      "          \"image_file\": {\n",
      "            \"file_id\": \"assistant-0PruTyPFM7GQ7n9idGJbcqut\",\n",
      "            \"detail\": null\n",
      "          },\n",
      "          \"type\": \"image_file\"\n",
      "        },\n",
      "        {\n",
      "          \"text\": {\n",
      "            \"annotations\": [],\n",
      "            \"value\": \"Here is the visualization of the sine wave for \\\\( sin(x) \\\\) from \\\\( x = 0 \\\\) to \\\\( x = 2\\\\pi \\\\). If you need any adjustments or additional information on the graph, feel free to let me know!\"\n",
      "          },\n",
      "          \"type\": \"text\"\n",
      "        }\n",
      "      ],\n",
      "      \"created_at\": 1721284267,\n",
      "      \"incomplete_at\": null,\n",
      "      \"incomplete_details\": null,\n",
      "      \"metadata\": {},\n",
      "      \"object\": \"thread.message\",\n",
      "      \"role\": \"assistant\",\n",
      "      \"run_id\": \"run_ZFs7ejMtSuh3pSKE72KU07KK\",\n",
      "      \"status\": null,\n",
      "      \"thread_id\": \"thread_KMVzowEAYVbHAxmuQk5paHpF\",\n",
      "      \"file_ids\": []\n",
      "    },\n",
      "    {\n",
      "      \"id\": \"msg_DYGCTLnUsPdqueRCSPTT7YP2\",\n",
      "      \"assistant_id\": \"asst_DoLK3PZc4r4aZwAroDr2PMaw\",\n",
      "      \"attachments\": null,\n",
      "      \"completed_at\": null,\n",
      "      \"content\": [\n",
      "        {\n",
      "          \"text\": {\n",
      "            \"annotations\": [],\n",
      "            \"value\": \"To create a visualization of a sine wave, I'll first generate points for the sine function and then plot these points on a graph. Let's go ahead and do that.\"\n",
      "          },\n",
      "          \"type\": \"text\"\n",
      "        }\n",
      "      ],\n",
      "      \"created_at\": 1721284257,\n",
      "      \"incomplete_at\": null,\n",
      "      \"incomplete_details\": null,\n",
      "      \"metadata\": {},\n",
      "      \"object\": \"thread.message\",\n",
      "      \"role\": \"assistant\",\n",
      "      \"run_id\": \"run_ZFs7ejMtSuh3pSKE72KU07KK\",\n",
      "      \"status\": null,\n",
      "      \"thread_id\": \"thread_KMVzowEAYVbHAxmuQk5paHpF\",\n",
      "      \"file_ids\": []\n",
      "    },\n",
      "    {\n",
      "      \"id\": \"msg_Tm9ZM2cPDQzlHy7In18uyXqb\",\n",
      "      \"assistant_id\": null,\n",
      "      \"attachments\": null,\n",
      "      \"completed_at\": null,\n",
      "      \"content\": [\n",
      "        {\n",
      "          \"text\": {\n",
      "            \"annotations\": [],\n",
      "            \"value\": \"Create a visualization of a sinewave\"\n",
      "          },\n",
      "          \"type\": \"text\"\n",
      "        }\n",
      "      ],\n",
      "      \"created_at\": 1721284240,\n",
      "      \"incomplete_at\": null,\n",
      "      \"incomplete_details\": null,\n",
      "      \"metadata\": {},\n",
      "      \"object\": \"thread.message\",\n",
      "      \"role\": \"user\",\n",
      "      \"run_id\": null,\n",
      "      \"status\": null,\n",
      "      \"thread_id\": \"thread_KMVzowEAYVbHAxmuQk5paHpF\",\n",
      "      \"file_ids\": []\n",
      "    }\n",
      "  ],\n",
      "  \"object\": \"list\",\n",
      "  \"first_id\": \"msg_X0LXudZnaQ9zHWdQwUgpjhxL\",\n",
      "  \"last_id\": \"msg_Tm9ZM2cPDQzlHy7In18uyXqb\",\n",
      "  \"has_more\": false\n",
      "}\n"
     ]
    }
   ],
   "source": [
    "messages = client.beta.threads.messages.list(\n",
    "  thread_id=thread.id\n",
    ")\n",
    "\n",
    "print(messages.model_dump_json(indent=2))"
   ]
  },
  {
   "cell_type": "code",
   "execution_count": 24,
   "metadata": {},
   "outputs": [
    {
     "name": "stdout",
     "output_type": "stream",
     "text": [
      "Certainly! Here is the code I used to generate and plot the sine wave:\n",
      "\n",
      "```python\n",
      "import numpy as np\n",
      "import matplotlib.pyplot as plt\n",
      "\n",
      "# Generating data\n",
      "x = np.linspace(0, 2 * np.pi, 100)  # 100 points from 0 to 2*pi\n",
      "y = np.sin(x)  # sine values\n",
      "\n",
      "# Plotting the sine wave\n",
      "plt.figure(figsize=(10, 5))\n",
      "plt.plot(x, y, label='sin(x)')\n",
      "plt.title('Sine Wave')\n",
      "plt.xlabel('x')\n",
      "plt.ylabel('sin(x)')\n",
      "plt.grid(True)\n",
      "plt.legend()\n",
      "plt.show()\n",
      "```\n",
      "\n",
      "This code uses NumPy to create an array of 100 points linearly spaced between 0 and \\(2\\pi\\) and then computes the sine of each value. The results are plotted using Matplotlib, which is a popular plotting library in Python. The plot is configured to be 10x5 inches, include grid lines, labels, and a legend for clarity.\n"
     ]
    }
   ],
   "source": [
    "data = json.loads(messages.model_dump_json(indent=2))\n",
    "code = data['data'][0]['content'][0]['text']['value']\n",
    "print(code)"
   ]
  },
  {
   "cell_type": "code",
   "execution_count": 25,
   "metadata": {},
   "outputs": [
    {
     "data": {
      "text/plain": [
       "AssistantDeleted(id='asst_DoLK3PZc4r4aZwAroDr2PMaw', deleted=True, object='assistant.deleted')"
      ]
     },
     "execution_count": 25,
     "metadata": {},
     "output_type": "execute_result"
    }
   ],
   "source": [
    "client.beta.assistants.delete(assistant.id)"
   ]
  }
 ],
 "metadata": {
  "kernelspec": {
   "display_name": "Python 3",
   "language": "python",
   "name": "python3"
  },
  "language_info": {
   "codemirror_mode": {
    "name": "ipython",
    "version": 3
   },
   "file_extension": ".py",
   "mimetype": "text/x-python",
   "name": "python",
   "nbconvert_exporter": "python",
   "pygments_lexer": "ipython3",
   "version": "3.11.9"
  }
 },
 "nbformat": 4,
 "nbformat_minor": 2
}
