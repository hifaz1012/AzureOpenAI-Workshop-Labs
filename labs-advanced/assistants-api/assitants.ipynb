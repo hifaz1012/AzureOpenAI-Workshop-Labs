{
 "cells": [
  {
   "cell_type": "markdown",
   "metadata": {},
   "source": [
    "# Azure OpenAI Assistants\n",
    "\n",
    "Azure OpenAI Assistants allows you to create AI assistants tailored to your needs through custom instructions and augmented by advanced tools like code interpreter, and custom functions. In this article we'll provide an in-depth walkthrough of getting started with the Assistants API."
   ]
  },
  {
   "cell_type": "code",
   "execution_count": 1,
   "metadata": {},
   "outputs": [
    {
     "name": "stdout",
     "output_type": "stream",
     "text": [
      "Requirement already satisfied: openai in c:\\users\\hifazhassan\\workspace\\workshops\\azureopenai-workshop-labs-1\\.venv\\lib\\site-packages (1.42.0)\n",
      "Requirement already satisfied: anyio<5,>=3.5.0 in c:\\users\\hifazhassan\\workspace\\workshops\\azureopenai-workshop-labs-1\\.venv\\lib\\site-packages (from openai) (4.4.0)\n",
      "Requirement already satisfied: distro<2,>=1.7.0 in c:\\users\\hifazhassan\\workspace\\workshops\\azureopenai-workshop-labs-1\\.venv\\lib\\site-packages (from openai) (1.9.0)\n",
      "Requirement already satisfied: httpx<1,>=0.23.0 in c:\\users\\hifazhassan\\workspace\\workshops\\azureopenai-workshop-labs-1\\.venv\\lib\\site-packages (from openai) (0.27.2)\n",
      "Requirement already satisfied: jiter<1,>=0.4.0 in c:\\users\\hifazhassan\\workspace\\workshops\\azureopenai-workshop-labs-1\\.venv\\lib\\site-packages (from openai) (0.5.0)\n",
      "Requirement already satisfied: pydantic<3,>=1.9.0 in c:\\users\\hifazhassan\\workspace\\workshops\\azureopenai-workshop-labs-1\\.venv\\lib\\site-packages (from openai) (1.10.13)\n",
      "Requirement already satisfied: sniffio in c:\\users\\hifazhassan\\workspace\\workshops\\azureopenai-workshop-labs-1\\.venv\\lib\\site-packages (from openai) (1.3.1)\n",
      "Requirement already satisfied: tqdm>4 in c:\\users\\hifazhassan\\workspace\\workshops\\azureopenai-workshop-labs-1\\.venv\\lib\\site-packages (from openai) (4.66.5)\n",
      "Requirement already satisfied: typing-extensions<5,>=4.11 in c:\\users\\hifazhassan\\workspace\\workshops\\azureopenai-workshop-labs-1\\.venv\\lib\\site-packages (from openai) (4.12.2)\n",
      "Requirement already satisfied: idna>=2.8 in c:\\users\\hifazhassan\\workspace\\workshops\\azureopenai-workshop-labs-1\\.venv\\lib\\site-packages (from anyio<5,>=3.5.0->openai) (3.8)\n",
      "Requirement already satisfied: certifi in c:\\users\\hifazhassan\\workspace\\workshops\\azureopenai-workshop-labs-1\\.venv\\lib\\site-packages (from httpx<1,>=0.23.0->openai) (2024.7.4)\n",
      "Requirement already satisfied: httpcore==1.* in c:\\users\\hifazhassan\\workspace\\workshops\\azureopenai-workshop-labs-1\\.venv\\lib\\site-packages (from httpx<1,>=0.23.0->openai) (1.0.5)\n",
      "Requirement already satisfied: h11<0.15,>=0.13 in c:\\users\\hifazhassan\\workspace\\workshops\\azureopenai-workshop-labs-1\\.venv\\lib\\site-packages (from httpcore==1.*->httpx<1,>=0.23.0->openai) (0.14.0)\n",
      "Requirement already satisfied: colorama in c:\\users\\hifazhassan\\workspace\\workshops\\azureopenai-workshop-labs-1\\.venv\\lib\\site-packages (from tqdm>4->openai) (0.4.6)\n",
      "Note: you may need to restart the kernel to use updated packages.\n",
      "Requirement already satisfied: tiktoken in c:\\users\\hifazhassan\\workspace\\workshops\\azureopenai-workshop-labs-1\\.venv\\lib\\site-packages (0.7.0)\n",
      "Requirement already satisfied: regex>=2022.1.18 in c:\\users\\hifazhassan\\workspace\\workshops\\azureopenai-workshop-labs-1\\.venv\\lib\\site-packages (from tiktoken) (2024.7.24)\n",
      "Requirement already satisfied: requests>=2.26.0 in c:\\users\\hifazhassan\\workspace\\workshops\\azureopenai-workshop-labs-1\\.venv\\lib\\site-packages (from tiktoken) (2.32.3)\n",
      "Requirement already satisfied: charset-normalizer<4,>=2 in c:\\users\\hifazhassan\\workspace\\workshops\\azureopenai-workshop-labs-1\\.venv\\lib\\site-packages (from requests>=2.26.0->tiktoken) (3.3.2)\n",
      "Requirement already satisfied: idna<4,>=2.5 in c:\\users\\hifazhassan\\workspace\\workshops\\azureopenai-workshop-labs-1\\.venv\\lib\\site-packages (from requests>=2.26.0->tiktoken) (3.8)\n",
      "Requirement already satisfied: urllib3<3,>=1.21.1 in c:\\users\\hifazhassan\\workspace\\workshops\\azureopenai-workshop-labs-1\\.venv\\lib\\site-packages (from requests>=2.26.0->tiktoken) (1.26.19)\n",
      "Requirement already satisfied: certifi>=2017.4.17 in c:\\users\\hifazhassan\\workspace\\workshops\\azureopenai-workshop-labs-1\\.venv\\lib\\site-packages (from requests>=2.26.0->tiktoken) (2024.7.4)\n",
      "Note: you may need to restart the kernel to use updated packages.\n",
      "Requirement already satisfied: numpy in c:\\users\\hifazhassan\\workspace\\workshops\\azureopenai-workshop-labs-1\\.venv\\lib\\site-packages (1.26.4)Note: you may need to restart the kernel to use updated packages.\n",
      "\n",
      "Requirement already satisfied: python-dotenv in c:\\users\\hifazhassan\\workspace\\workshops\\azureopenai-workshop-labs-1\\.venv\\lib\\site-packages (1.0.1)\n",
      "Note: you may need to restart the kernel to use updated packages.\n",
      "Requirement already satisfied: pillow in c:\\users\\hifazhassan\\workspace\\workshops\\azureopenai-workshop-labs-1\\.venv\\lib\\site-packages (10.4.0)\n",
      "Note: you may need to restart the kernel to use updated packages.\n",
      "Requirement already satisfied: matplotlib in c:\\users\\hifazhassan\\workspace\\workshops\\azureopenai-workshop-labs-1\\.venv\\lib\\site-packages (3.9.2)\n",
      "Requirement already satisfied: contourpy>=1.0.1 in c:\\users\\hifazhassan\\workspace\\workshops\\azureopenai-workshop-labs-1\\.venv\\lib\\site-packages (from matplotlib) (1.3.0)\n",
      "Requirement already satisfied: cycler>=0.10 in c:\\users\\hifazhassan\\workspace\\workshops\\azureopenai-workshop-labs-1\\.venv\\lib\\site-packages (from matplotlib) (0.12.1)\n",
      "Requirement already satisfied: fonttools>=4.22.0 in c:\\users\\hifazhassan\\workspace\\workshops\\azureopenai-workshop-labs-1\\.venv\\lib\\site-packages (from matplotlib) (4.53.1)\n",
      "Requirement already satisfied: kiwisolver>=1.3.1 in c:\\users\\hifazhassan\\workspace\\workshops\\azureopenai-workshop-labs-1\\.venv\\lib\\site-packages (from matplotlib) (1.4.5)\n",
      "Requirement already satisfied: numpy>=1.23 in c:\\users\\hifazhassan\\workspace\\workshops\\azureopenai-workshop-labs-1\\.venv\\lib\\site-packages (from matplotlib) (1.26.4)\n",
      "Requirement already satisfied: packaging>=20.0 in c:\\users\\hifazhassan\\workspace\\workshops\\azureopenai-workshop-labs-1\\.venv\\lib\\site-packages (from matplotlib) (24.1)\n",
      "Requirement already satisfied: pillow>=8 in c:\\users\\hifazhassan\\workspace\\workshops\\azureopenai-workshop-labs-1\\.venv\\lib\\site-packages (from matplotlib) (10.4.0)\n",
      "Requirement already satisfied: pyparsing>=2.3.1 in c:\\users\\hifazhassan\\workspace\\workshops\\azureopenai-workshop-labs-1\\.venv\\lib\\site-packages (from matplotlib) (3.1.4)\n",
      "Requirement already satisfied: python-dateutil>=2.7 in c:\\users\\hifazhassan\\workspace\\workshops\\azureopenai-workshop-labs-1\\.venv\\lib\\site-packages (from matplotlib) (2.9.0.post0)\n",
      "Requirement already satisfied: six>=1.5 in c:\\users\\hifazhassan\\workspace\\workshops\\azureopenai-workshop-labs-1\\.venv\\lib\\site-packages (from python-dateutil>=2.7->matplotlib) (1.16.0)\n",
      "Note: you may need to restart the kernel to use updated packages.\n"
     ]
    }
   ],
   "source": [
    "%pip install openai --upgrade\n",
    "%pip install tiktoken\n",
    "%pip install numpy\n",
    "%pip install python-dotenv\n",
    "%pip install pillow\n",
    "%pip install matplotlib"
   ]
  },
  {
   "cell_type": "code",
   "execution_count": 2,
   "metadata": {},
   "outputs": [],
   "source": [
    "import os\n",
    "import json\n",
    "from dotenv import load_dotenv\n",
    "from openai import AzureOpenAI\n",
    "\n",
    "load_dotenv(\"azure.env\")\n",
    "\n",
    "client = AzureOpenAI(\n",
    "    api_key=os.getenv(\"AZURE_OPENAI_API_KEY\"),  \n",
    "    api_version=os.getenv(\"API_VERSION\"),\n",
    "    azure_endpoint = os.getenv(\"AZURE_OPENAI_ENDPOINT\")\n",
    "    )\n",
    "\n",
    "# Create an assistant\n",
    "assistant = client.beta.assistants.create(\n",
    "    name=\"Data Visualization\",\n",
    "    instructions=f\"You are a helpful AI assistant who makes interesting visualizations based on data.\" \n",
    "    f\"You have access to a sandboxed environment for writing and testing code.\"\n",
    "    f\"When you are asked to create a visualization you should follow these steps:\"\n",
    "    f\"1. Write the code.\"\n",
    "    f\"2. Anytime you write new code display a preview of the code to show your work.\"\n",
    "    f\"3. Run the code to confirm that it runs.\"\n",
    "    f\"4. If the code is successful display the visualization.\"\n",
    "    f\"5. If the code is unsuccessful display the error message and try to revise the code and rerun going through the steps from above again.\",\n",
    "    tools=[{\"type\": \"code_interpreter\"}],\n",
    "    model=os.getenv(\"MODEL_VERSION\") #You must replace this value with the deployment name of your model.\n",
    ")"
   ]
  },
  {
   "cell_type": "code",
   "execution_count": 3,
   "metadata": {},
   "outputs": [
    {
     "name": "stdout",
     "output_type": "stream",
     "text": [
      "{\n",
      "  \"id\": \"asst_6HCrt55wdnYo2WwkmTQS4bjN\",\n",
      "  \"created_at\": 1724859451,\n",
      "  \"description\": null,\n",
      "  \"instructions\": \"You are a helpful AI assistant who makes interesting visualizations based on data.You have access to a sandboxed environment for writing and testing code.When you are asked to create a visualization you should follow these steps:1. Write the code.2. Anytime you write new code display a preview of the code to show your work.3. Run the code to confirm that it runs.4. If the code is successful display the visualization.5. If the code is unsuccessful display the error message and try to revise the code and rerun going through the steps from above again.\",\n",
      "  \"metadata\": {},\n",
      "  \"model\": \"gpt-4-2024-04-09\",\n",
      "  \"name\": \"Data Visualization\",\n",
      "  \"object\": \"assistant\",\n",
      "  \"tools\": [\n",
      "    {\n",
      "      \"type\": \"code_interpreter\"\n",
      "    }\n",
      "  ],\n",
      "  \"response_format\": \"auto\",\n",
      "  \"temperature\": 1.0,\n",
      "  \"tool_resources\": null,\n",
      "  \"top_p\": 1.0,\n",
      "  \"file_ids\": []\n",
      "}\n"
     ]
    }
   ],
   "source": [
    "print(assistant.model_dump_json(indent=2))"
   ]
  },
  {
   "cell_type": "code",
   "execution_count": 4,
   "metadata": {},
   "outputs": [
    {
     "name": "stdout",
     "output_type": "stream",
     "text": [
      "Thread(id='thread_zgPCQVHvE23CGL9Q2fmd5c6F', created_at=1724859451, metadata={}, object='thread', tool_resources=None)\n"
     ]
    }
   ],
   "source": [
    "# Create a thread\n",
    "thread = client.beta.threads.create()\n",
    "print(thread)"
   ]
  },
  {
   "cell_type": "code",
   "execution_count": 5,
   "metadata": {},
   "outputs": [],
   "source": [
    "# Add a user question to the thread\n",
    "message = client.beta.threads.messages.create(\n",
    "    thread_id=thread.id,\n",
    "    role=\"user\",\n",
    "    content=\"Create a visualization of a sinewave\"\n",
    ")"
   ]
  },
  {
   "cell_type": "code",
   "execution_count": 6,
   "metadata": {},
   "outputs": [
    {
     "name": "stdout",
     "output_type": "stream",
     "text": [
      "{\n",
      "  \"data\": [\n",
      "    {\n",
      "      \"id\": \"msg_qzy7vEbQIRh99LM02yooLW3k\",\n",
      "      \"assistant_id\": null,\n",
      "      \"attachments\": null,\n",
      "      \"completed_at\": null,\n",
      "      \"content\": [\n",
      "        {\n",
      "          \"text\": {\n",
      "            \"annotations\": [],\n",
      "            \"value\": \"Create a visualization of a sinewave\"\n",
      "          },\n",
      "          \"type\": \"text\"\n",
      "        }\n",
      "      ],\n",
      "      \"created_at\": 1724859452,\n",
      "      \"incomplete_at\": null,\n",
      "      \"incomplete_details\": null,\n",
      "      \"metadata\": {},\n",
      "      \"object\": \"thread.message\",\n",
      "      \"role\": \"user\",\n",
      "      \"run_id\": null,\n",
      "      \"status\": null,\n",
      "      \"thread_id\": \"thread_zgPCQVHvE23CGL9Q2fmd5c6F\",\n",
      "      \"file_ids\": []\n",
      "    }\n",
      "  ],\n",
      "  \"object\": \"list\",\n",
      "  \"first_id\": \"msg_qzy7vEbQIRh99LM02yooLW3k\",\n",
      "  \"last_id\": \"msg_qzy7vEbQIRh99LM02yooLW3k\",\n",
      "  \"has_more\": false\n",
      "}\n"
     ]
    }
   ],
   "source": [
    "thread_messages = client.beta.threads.messages.list(thread.id)\n",
    "print(thread_messages.model_dump_json(indent=2))"
   ]
  },
  {
   "cell_type": "markdown",
   "metadata": {},
   "source": [
    "We could also pass an instructions parameter here, but this would override the existing instructions that we have already provided for the assistant."
   ]
  },
  {
   "cell_type": "code",
   "execution_count": 7,
   "metadata": {},
   "outputs": [],
   "source": [
    "run = client.beta.threads.runs.create(\n",
    "  thread_id=thread.id,\n",
    "  assistant_id=assistant.id,\n",
    "  #instructions=\"New instructions\" #You can optionally provide new instructions but these will override the default instructions\n",
    ")"
   ]
  },
  {
   "cell_type": "code",
   "execution_count": 13,
   "metadata": {},
   "outputs": [
    {
     "name": "stdout",
     "output_type": "stream",
     "text": [
      "completed\n"
     ]
    }
   ],
   "source": [
    "# Retrieve the status of the run\n",
    "run = client.beta.threads.runs.retrieve(\n",
    "  thread_id=thread.id,\n",
    "  run_id=run.id\n",
    ")\n",
    "\n",
    "status = run.status\n",
    "print(status)"
   ]
  },
  {
   "cell_type": "code",
   "execution_count": 14,
   "metadata": {},
   "outputs": [
    {
     "name": "stdout",
     "output_type": "stream",
     "text": [
      "{\n",
      "  \"data\": [\n",
      "    {\n",
      "      \"id\": \"msg_jY7WXznrSyzTU4K7LHu1AQUc\",\n",
      "      \"assistant_id\": \"asst_6HCrt55wdnYo2WwkmTQS4bjN\",\n",
      "      \"attachments\": null,\n",
      "      \"completed_at\": null,\n",
      "      \"content\": [\n",
      "        {\n",
      "          \"image_file\": {\n",
      "            \"file_id\": \"assistant-hSONDnpu0ijAMsZFYs3ou9yI\",\n",
      "            \"detail\": null\n",
      "          },\n",
      "          \"type\": \"image_file\"\n",
      "        },\n",
      "        {\n",
      "          \"text\": {\n",
      "            \"annotations\": [],\n",
      "            \"value\": \"Here's the visualization of the sinewave, represented by the function \\\\( y = \\\\sin(x) \\\\) over the range of \\\\(0\\\\) to \\\\(2\\\\pi\\\\). If you need any modifications or additional information on this plot, feel free to ask!\"\n",
      "          },\n",
      "          \"type\": \"text\"\n",
      "        }\n",
      "      ],\n",
      "      \"created_at\": 1724859474,\n",
      "      \"incomplete_at\": null,\n",
      "      \"incomplete_details\": null,\n",
      "      \"metadata\": {},\n",
      "      \"object\": \"thread.message\",\n",
      "      \"role\": \"assistant\",\n",
      "      \"run_id\": \"run_DvGMo7lZ8RL7F8pI5S5aq5t7\",\n",
      "      \"status\": null,\n",
      "      \"thread_id\": \"thread_zgPCQVHvE23CGL9Q2fmd5c6F\",\n",
      "      \"file_ids\": []\n",
      "    },\n",
      "    {\n",
      "      \"id\": \"msg_bFH04kurPWp4SCb7J5J7VcSY\",\n",
      "      \"assistant_id\": \"asst_6HCrt55wdnYo2WwkmTQS4bjN\",\n",
      "      \"attachments\": null,\n",
      "      \"completed_at\": null,\n",
      "      \"content\": [\n",
      "        {\n",
      "          \"text\": {\n",
      "            \"annotations\": [],\n",
      "            \"value\": \"To create a visualization of a sinewave, I'll begin by generating the data points for the sinewave and then plot it using a graph. Let's define the sinewave as \\\\( y = \\\\sin(x) \\\\) for \\\\( x \\\\) between \\\\(0\\\\) and \\\\(2\\\\pi\\\\). \\nI'll start writing the code to do this.\"\n",
      "          },\n",
      "          \"type\": \"text\"\n",
      "        }\n",
      "      ],\n",
      "      \"created_at\": 1724859465,\n",
      "      \"incomplete_at\": null,\n",
      "      \"incomplete_details\": null,\n",
      "      \"metadata\": {},\n",
      "      \"object\": \"thread.message\",\n",
      "      \"role\": \"assistant\",\n",
      "      \"run_id\": \"run_DvGMo7lZ8RL7F8pI5S5aq5t7\",\n",
      "      \"status\": null,\n",
      "      \"thread_id\": \"thread_zgPCQVHvE23CGL9Q2fmd5c6F\",\n",
      "      \"file_ids\": []\n",
      "    },\n",
      "    {\n",
      "      \"id\": \"msg_qzy7vEbQIRh99LM02yooLW3k\",\n",
      "      \"assistant_id\": null,\n",
      "      \"attachments\": null,\n",
      "      \"completed_at\": null,\n",
      "      \"content\": [\n",
      "        {\n",
      "          \"text\": {\n",
      "            \"annotations\": [],\n",
      "            \"value\": \"Create a visualization of a sinewave\"\n",
      "          },\n",
      "          \"type\": \"text\"\n",
      "        }\n",
      "      ],\n",
      "      \"created_at\": 1724859452,\n",
      "      \"incomplete_at\": null,\n",
      "      \"incomplete_details\": null,\n",
      "      \"metadata\": {},\n",
      "      \"object\": \"thread.message\",\n",
      "      \"role\": \"user\",\n",
      "      \"run_id\": null,\n",
      "      \"status\": null,\n",
      "      \"thread_id\": \"thread_zgPCQVHvE23CGL9Q2fmd5c6F\",\n",
      "      \"file_ids\": []\n",
      "    }\n",
      "  ],\n",
      "  \"object\": \"list\",\n",
      "  \"first_id\": \"msg_jY7WXznrSyzTU4K7LHu1AQUc\",\n",
      "  \"last_id\": \"msg_qzy7vEbQIRh99LM02yooLW3k\",\n",
      "  \"has_more\": false\n",
      "}\n"
     ]
    }
   ],
   "source": [
    "messages = client.beta.threads.messages.list(\n",
    "  thread_id=thread.id\n",
    ")\n",
    "\n",
    "print(messages.model_dump_json(indent=2))"
   ]
  },
  {
   "cell_type": "code",
   "execution_count": 15,
   "metadata": {},
   "outputs": [
    {
     "name": "stdout",
     "output_type": "stream",
     "text": [
      "{'data': [{'id': 'msg_jY7WXznrSyzTU4K7LHu1AQUc', 'assistant_id': 'asst_6HCrt55wdnYo2WwkmTQS4bjN', 'attachments': None, 'completed_at': None, 'content': [{'image_file': {'file_id': 'assistant-hSONDnpu0ijAMsZFYs3ou9yI', 'detail': None}, 'type': 'image_file'}, {'text': {'annotations': [], 'value': \"Here's the visualization of the sinewave, represented by the function \\\\( y = \\\\sin(x) \\\\) over the range of \\\\(0\\\\) to \\\\(2\\\\pi\\\\). If you need any modifications or additional information on this plot, feel free to ask!\"}, 'type': 'text'}], 'created_at': 1724859474, 'incomplete_at': None, 'incomplete_details': None, 'metadata': {}, 'object': 'thread.message', 'role': 'assistant', 'run_id': 'run_DvGMo7lZ8RL7F8pI5S5aq5t7', 'status': None, 'thread_id': 'thread_zgPCQVHvE23CGL9Q2fmd5c6F', 'file_ids': []}, {'id': 'msg_bFH04kurPWp4SCb7J5J7VcSY', 'assistant_id': 'asst_6HCrt55wdnYo2WwkmTQS4bjN', 'attachments': None, 'completed_at': None, 'content': [{'text': {'annotations': [], 'value': \"To create a visualization of a sinewave, I'll begin by generating the data points for the sinewave and then plot it using a graph. Let's define the sinewave as \\\\( y = \\\\sin(x) \\\\) for \\\\( x \\\\) between \\\\(0\\\\) and \\\\(2\\\\pi\\\\). \\nI'll start writing the code to do this.\"}, 'type': 'text'}], 'created_at': 1724859465, 'incomplete_at': None, 'incomplete_details': None, 'metadata': {}, 'object': 'thread.message', 'role': 'assistant', 'run_id': 'run_DvGMo7lZ8RL7F8pI5S5aq5t7', 'status': None, 'thread_id': 'thread_zgPCQVHvE23CGL9Q2fmd5c6F', 'file_ids': []}, {'id': 'msg_qzy7vEbQIRh99LM02yooLW3k', 'assistant_id': None, 'attachments': None, 'completed_at': None, 'content': [{'text': {'annotations': [], 'value': 'Create a visualization of a sinewave'}, 'type': 'text'}], 'created_at': 1724859452, 'incomplete_at': None, 'incomplete_details': None, 'metadata': {}, 'object': 'thread.message', 'role': 'user', 'run_id': None, 'status': None, 'thread_id': 'thread_zgPCQVHvE23CGL9Q2fmd5c6F', 'file_ids': []}], 'object': 'list', 'first_id': 'msg_jY7WXznrSyzTU4K7LHu1AQUc', 'last_id': 'msg_qzy7vEbQIRh99LM02yooLW3k', 'has_more': False}\n"
     ]
    }
   ],
   "source": [
    "data = json.loads(messages.model_dump_json(indent=2))  # Load JSON data into a Python object\n",
    "image_file_id = data['data'][0]['content'][0]['image_file']['file_id']\n",
    "\n",
    "print(data)  "
   ]
  },
  {
   "cell_type": "code",
   "execution_count": 16,
   "metadata": {},
   "outputs": [],
   "source": [
    "content = client.files.content(image_file_id)\n",
    "\n",
    "image= content.write_to_file(\"sinewave.png\")"
   ]
  },
  {
   "cell_type": "code",
   "execution_count": 17,
   "metadata": {},
   "outputs": [],
   "source": [
    "from PIL import Image\n",
    "\n",
    "# Display the image in the default image viewer\n",
    "image = Image.open(\"sinewave.png\")\n",
    "image.show()"
   ]
  },
  {
   "cell_type": "code",
   "execution_count": 18,
   "metadata": {},
   "outputs": [],
   "source": [
    "# Add a new user question to the thread\n",
    "message = client.beta.threads.messages.create(\n",
    "    thread_id=thread.id,\n",
    "    role=\"user\",\n",
    "    content=\"Show me the code you used to generate the sinewave\"\n",
    ")"
   ]
  },
  {
   "cell_type": "code",
   "execution_count": 19,
   "metadata": {},
   "outputs": [],
   "source": [
    "run = client.beta.threads.runs.create(\n",
    "  thread_id=thread.id,\n",
    "  assistant_id=assistant.id,\n",
    "  #instructions=\"New instructions\" #You can optionally provide new instructions  but these will override the default instructions\n",
    ")\n"
   ]
  },
  {
   "cell_type": "code",
   "execution_count": 22,
   "metadata": {},
   "outputs": [
    {
     "name": "stdout",
     "output_type": "stream",
     "text": [
      "completed\n"
     ]
    }
   ],
   "source": [
    "# Retrieve the status of the run\n",
    "run = client.beta.threads.runs.retrieve(\n",
    "  thread_id=thread.id,\n",
    "  run_id=run.id\n",
    ")\n",
    "status = run.status\n",
    "print(status)"
   ]
  },
  {
   "cell_type": "markdown",
   "metadata": {},
   "source": [
    "* Please wait until you get \"completed\""
   ]
  },
  {
   "cell_type": "code",
   "execution_count": 24,
   "metadata": {},
   "outputs": [
    {
     "name": "stdout",
     "output_type": "stream",
     "text": [
      "{\n",
      "  \"data\": [\n",
      "    {\n",
      "      \"id\": \"msg_U6tdtzRE7SIa2xO36OWxXMkJ\",\n",
      "      \"assistant_id\": \"asst_6HCrt55wdnYo2WwkmTQS4bjN\",\n",
      "      \"attachments\": null,\n",
      "      \"completed_at\": null,\n",
      "      \"content\": [\n",
      "        {\n",
      "          \"text\": {\n",
      "            \"annotations\": [],\n",
      "            \"value\": \"Certainly! Here's the Python code I used to generate and plot the sinewave:\\n\\n```python\\nimport numpy as np\\nimport matplotlib.pyplot as plt\\n\\n# Generate data points\\nx = np.linspace(0, 2*np.pi, 500)\\ny = np.sin(x)\\n\\n# Create the plot\\nplt.figure(figsize=(10, 5))\\nplt.plot(x, y, label='y = sin(x)')\\nplt.title('Sine Wave')\\nplt.xlabel('x')\\nplt.ylabel('y')\\nplt.grid(True)\\nplt.legend()\\nplt.show()\\n```\\n\\nThis code utilizes NumPy to create a series of \\\\( x \\\\) values and calculates the corresponding \\\\( y \\\\) values using the sine function. It then plots these values using matplotlib to visualize the sinewave. If you have any questions or if there's anything else you'd like to see, let me know!\"\n",
      "          },\n",
      "          \"type\": \"text\"\n",
      "        }\n",
      "      ],\n",
      "      \"created_at\": 1724859504,\n",
      "      \"incomplete_at\": null,\n",
      "      \"incomplete_details\": null,\n",
      "      \"metadata\": {},\n",
      "      \"object\": \"thread.message\",\n",
      "      \"role\": \"assistant\",\n",
      "      \"run_id\": \"run_pehDipheRGayQcCEiKZrGqx6\",\n",
      "      \"status\": null,\n",
      "      \"thread_id\": \"thread_zgPCQVHvE23CGL9Q2fmd5c6F\",\n",
      "      \"file_ids\": []\n",
      "    },\n",
      "    {\n",
      "      \"id\": \"msg_zyGP6V6txWluJ6xn71R9vT4T\",\n",
      "      \"assistant_id\": null,\n",
      "      \"attachments\": null,\n",
      "      \"completed_at\": null,\n",
      "      \"content\": [\n",
      "        {\n",
      "          \"text\": {\n",
      "            \"annotations\": [],\n",
      "            \"value\": \"Show me the code you used to generate the sinewave\"\n",
      "          },\n",
      "          \"type\": \"text\"\n",
      "        }\n",
      "      ],\n",
      "      \"created_at\": 1724859501,\n",
      "      \"incomplete_at\": null,\n",
      "      \"incomplete_details\": null,\n",
      "      \"metadata\": {},\n",
      "      \"object\": \"thread.message\",\n",
      "      \"role\": \"user\",\n",
      "      \"run_id\": null,\n",
      "      \"status\": null,\n",
      "      \"thread_id\": \"thread_zgPCQVHvE23CGL9Q2fmd5c6F\",\n",
      "      \"file_ids\": []\n",
      "    },\n",
      "    {\n",
      "      \"id\": \"msg_jY7WXznrSyzTU4K7LHu1AQUc\",\n",
      "      \"assistant_id\": \"asst_6HCrt55wdnYo2WwkmTQS4bjN\",\n",
      "      \"attachments\": null,\n",
      "      \"completed_at\": null,\n",
      "      \"content\": [\n",
      "        {\n",
      "          \"image_file\": {\n",
      "            \"file_id\": \"assistant-hSONDnpu0ijAMsZFYs3ou9yI\",\n",
      "            \"detail\": null\n",
      "          },\n",
      "          \"type\": \"image_file\"\n",
      "        },\n",
      "        {\n",
      "          \"text\": {\n",
      "            \"annotations\": [],\n",
      "            \"value\": \"Here's the visualization of the sinewave, represented by the function \\\\( y = \\\\sin(x) \\\\) over the range of \\\\(0\\\\) to \\\\(2\\\\pi\\\\). If you need any modifications or additional information on this plot, feel free to ask!\"\n",
      "          },\n",
      "          \"type\": \"text\"\n",
      "        }\n",
      "      ],\n",
      "      \"created_at\": 1724859474,\n",
      "      \"incomplete_at\": null,\n",
      "      \"incomplete_details\": null,\n",
      "      \"metadata\": {},\n",
      "      \"object\": \"thread.message\",\n",
      "      \"role\": \"assistant\",\n",
      "      \"run_id\": \"run_DvGMo7lZ8RL7F8pI5S5aq5t7\",\n",
      "      \"status\": null,\n",
      "      \"thread_id\": \"thread_zgPCQVHvE23CGL9Q2fmd5c6F\",\n",
      "      \"file_ids\": []\n",
      "    },\n",
      "    {\n",
      "      \"id\": \"msg_bFH04kurPWp4SCb7J5J7VcSY\",\n",
      "      \"assistant_id\": \"asst_6HCrt55wdnYo2WwkmTQS4bjN\",\n",
      "      \"attachments\": null,\n",
      "      \"completed_at\": null,\n",
      "      \"content\": [\n",
      "        {\n",
      "          \"text\": {\n",
      "            \"annotations\": [],\n",
      "            \"value\": \"To create a visualization of a sinewave, I'll begin by generating the data points for the sinewave and then plot it using a graph. Let's define the sinewave as \\\\( y = \\\\sin(x) \\\\) for \\\\( x \\\\) between \\\\(0\\\\) and \\\\(2\\\\pi\\\\). \\nI'll start writing the code to do this.\"\n",
      "          },\n",
      "          \"type\": \"text\"\n",
      "        }\n",
      "      ],\n",
      "      \"created_at\": 1724859465,\n",
      "      \"incomplete_at\": null,\n",
      "      \"incomplete_details\": null,\n",
      "      \"metadata\": {},\n",
      "      \"object\": \"thread.message\",\n",
      "      \"role\": \"assistant\",\n",
      "      \"run_id\": \"run_DvGMo7lZ8RL7F8pI5S5aq5t7\",\n",
      "      \"status\": null,\n",
      "      \"thread_id\": \"thread_zgPCQVHvE23CGL9Q2fmd5c6F\",\n",
      "      \"file_ids\": []\n",
      "    },\n",
      "    {\n",
      "      \"id\": \"msg_qzy7vEbQIRh99LM02yooLW3k\",\n",
      "      \"assistant_id\": null,\n",
      "      \"attachments\": null,\n",
      "      \"completed_at\": null,\n",
      "      \"content\": [\n",
      "        {\n",
      "          \"text\": {\n",
      "            \"annotations\": [],\n",
      "            \"value\": \"Create a visualization of a sinewave\"\n",
      "          },\n",
      "          \"type\": \"text\"\n",
      "        }\n",
      "      ],\n",
      "      \"created_at\": 1724859452,\n",
      "      \"incomplete_at\": null,\n",
      "      \"incomplete_details\": null,\n",
      "      \"metadata\": {},\n",
      "      \"object\": \"thread.message\",\n",
      "      \"role\": \"user\",\n",
      "      \"run_id\": null,\n",
      "      \"status\": null,\n",
      "      \"thread_id\": \"thread_zgPCQVHvE23CGL9Q2fmd5c6F\",\n",
      "      \"file_ids\": []\n",
      "    }\n",
      "  ],\n",
      "  \"object\": \"list\",\n",
      "  \"first_id\": \"msg_U6tdtzRE7SIa2xO36OWxXMkJ\",\n",
      "  \"last_id\": \"msg_qzy7vEbQIRh99LM02yooLW3k\",\n",
      "  \"has_more\": false\n",
      "}\n"
     ]
    }
   ],
   "source": [
    "messages = client.beta.threads.messages.list(\n",
    "  thread_id=thread.id\n",
    ")\n",
    "\n",
    "print(messages.model_dump_json(indent=2))"
   ]
  },
  {
   "cell_type": "code",
   "execution_count": 25,
   "metadata": {},
   "outputs": [
    {
     "name": "stdout",
     "output_type": "stream",
     "text": [
      "Certainly! Here's the Python code I used to generate and plot the sinewave:\n",
      "\n",
      "```python\n",
      "import numpy as np\n",
      "import matplotlib.pyplot as plt\n",
      "\n",
      "# Generate data points\n",
      "x = np.linspace(0, 2*np.pi, 500)\n",
      "y = np.sin(x)\n",
      "\n",
      "# Create the plot\n",
      "plt.figure(figsize=(10, 5))\n",
      "plt.plot(x, y, label='y = sin(x)')\n",
      "plt.title('Sine Wave')\n",
      "plt.xlabel('x')\n",
      "plt.ylabel('y')\n",
      "plt.grid(True)\n",
      "plt.legend()\n",
      "plt.show()\n",
      "```\n",
      "\n",
      "This code utilizes NumPy to create a series of \\( x \\) values and calculates the corresponding \\( y \\) values using the sine function. It then plots these values using matplotlib to visualize the sinewave. If you have any questions or if there's anything else you'd like to see, let me know!\n"
     ]
    }
   ],
   "source": [
    "data = json.loads(messages.model_dump_json(indent=2))\n",
    "code = data['data'][0]['content'][0]['text']['value']\n",
    "print(code)"
   ]
  },
  {
   "cell_type": "code",
   "execution_count": 26,
   "metadata": {},
   "outputs": [
    {
     "data": {
      "text/plain": [
       "AssistantDeleted(id='asst_6HCrt55wdnYo2WwkmTQS4bjN', deleted=True, object='assistant.deleted')"
      ]
     },
     "execution_count": 26,
     "metadata": {},
     "output_type": "execute_result"
    }
   ],
   "source": [
    "client.beta.assistants.delete(assistant.id)"
   ]
  }
 ],
 "metadata": {
  "kernelspec": {
   "display_name": "Python 3",
   "language": "python",
   "name": "python3"
  },
  "language_info": {
   "codemirror_mode": {
    "name": "ipython",
    "version": 3
   },
   "file_extension": ".py",
   "mimetype": "text/x-python",
   "name": "python",
   "nbconvert_exporter": "python",
   "pygments_lexer": "ipython3",
   "version": "3.11.9"
  }
 },
 "nbformat": 4,
 "nbformat_minor": 2
}
